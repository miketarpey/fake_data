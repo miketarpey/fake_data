{
 "cells": [
  {
   "cell_type": "code",
   "execution_count": 17,
   "metadata": {
    "ExecuteTime": {
     "end_time": "2021-04-08T20:01:34.378693Z",
     "start_time": "2021-04-08T20:01:34.374510Z"
    }
   },
   "outputs": [],
   "source": [
    "from piper.defaults import *"
   ]
  },
  {
   "cell_type": "code",
   "execution_count": 20,
   "metadata": {
    "ExecuteTime": {
     "end_time": "2021-04-08T20:07:35.788633Z",
     "start_time": "2021-04-08T20:07:34.187928Z"
    }
   },
   "outputs": [
    {
     "name": "stderr",
     "output_type": "stream",
     "text": [
      "10000 rows, 10 columns\n"
     ]
    },
    {
     "data": {
      "text/html": [
       "<div>\n",
       "<style scoped>\n",
       "    .dataframe tbody tr th:only-of-type {\n",
       "        vertical-align: middle;\n",
       "    }\n",
       "\n",
       "    .dataframe tbody tr th {\n",
       "        vertical-align: top;\n",
       "    }\n",
       "\n",
       "    .dataframe thead th {\n",
       "        text-align: right;\n",
       "    }\n",
       "</style>\n",
       "<table border=\"1\" class=\"dataframe\">\n",
       "  <thead>\n",
       "    <tr style=\"text-align: right;\">\n",
       "      <th></th>\n",
       "      <th>country</th>\n",
       "      <th>region</th>\n",
       "      <th>order</th>\n",
       "      <th>order_dt</th>\n",
       "      <th>invoice_dt</th>\n",
       "      <th>delivery_dt</th>\n",
       "      <th>rep</th>\n",
       "      <th>sku</th>\n",
       "      <th>unit_price</th>\n",
       "      <th>qty</th>\n",
       "    </tr>\n",
       "  </thead>\n",
       "  <tbody>\n",
       "    <tr>\n",
       "      <th>0</th>\n",
       "      <td>Norway</td>\n",
       "      <td>North</td>\n",
       "      <td>4602405</td>\n",
       "      <td>2022-07-23</td>\n",
       "      <td>2022-07-24</td>\n",
       "      <td>2022-07-27</td>\n",
       "      <td>Mr K. Starmer</td>\n",
       "      <td>Samsung Galaxy A20</td>\n",
       "      <td>560.45</td>\n",
       "      <td>1</td>\n",
       "    </tr>\n",
       "    <tr>\n",
       "      <th>1</th>\n",
       "      <td>France</td>\n",
       "      <td>West</td>\n",
       "      <td>4652515</td>\n",
       "      <td>2022-04-09</td>\n",
       "      <td>2022-04-10</td>\n",
       "      <td>2022-04-14</td>\n",
       "      <td>Mr. B. Johnson</td>\n",
       "      <td>Huawei P30 Pro</td>\n",
       "      <td>749.92</td>\n",
       "      <td>1</td>\n",
       "    </tr>\n",
       "    <tr>\n",
       "      <th>2</th>\n",
       "      <td>Spain</td>\n",
       "      <td>West</td>\n",
       "      <td>4607341</td>\n",
       "      <td>2022-11-10</td>\n",
       "      <td>2022-11-11</td>\n",
       "      <td>2022-11-14</td>\n",
       "      <td>Mrs R. Johnson</td>\n",
       "      <td>Huawei P20</td>\n",
       "      <td>434.09</td>\n",
       "      <td>1</td>\n",
       "    </tr>\n",
       "    <tr>\n",
       "      <th>3</th>\n",
       "      <td>Germany</td>\n",
       "      <td>Central</td>\n",
       "      <td>4755356</td>\n",
       "      <td>2022-08-02</td>\n",
       "      <td>2022-08-03</td>\n",
       "      <td>2022-08-07</td>\n",
       "      <td>Mr. D. Davis</td>\n",
       "      <td>Galaxy S10e</td>\n",
       "      <td>658.54</td>\n",
       "      <td>1</td>\n",
       "    </tr>\n",
       "  </tbody>\n",
       "</table>\n",
       "</div>"
      ],
      "text/plain": [
       "   country   region    order   order_dt invoice_dt delivery_dt  \\\n",
       "0   Norway    North  4602405 2022-07-23 2022-07-24  2022-07-27   \n",
       "1   France     West  4652515 2022-04-09 2022-04-10  2022-04-14   \n",
       "2    Spain     West  4607341 2022-11-10 2022-11-11  2022-11-14   \n",
       "3  Germany  Central  4755356 2022-08-02 2022-08-03  2022-08-07   \n",
       "\n",
       "              rep                 sku  unit_price  qty  \n",
       "0   Mr K. Starmer  Samsung Galaxy A20      560.45    1  \n",
       "1  Mr. B. Johnson      Huawei P30 Pro      749.92    1  \n",
       "2  Mrs R. Johnson          Huawei P20      434.09    1  \n",
       "3    Mr. D. Davis         Galaxy S10e      658.54    1  "
      ]
     },
     "execution_count": 20,
     "metadata": {},
     "output_type": "execute_result"
    }
   ],
   "source": [
    "df = get_sample_phone_sales(year=2022, freq='D', rows=10000)\n",
    "head(df)"
   ]
  },
  {
   "cell_type": "code",
   "execution_count": 40,
   "metadata": {
    "ExecuteTime": {
     "end_time": "2021-04-08T20:27:01.359687Z",
     "start_time": "2021-04-08T20:27:01.271921Z"
    }
   },
   "outputs": [
    {
     "name": "stderr",
     "output_type": "stream",
     "text": [
      "|Info| tuple passed, expanding to ['region', 'country']\n"
     ]
    },
    {
     "data": {
      "text/html": [
       "<div>\n",
       "<style scoped>\n",
       "    .dataframe tbody tr th:only-of-type {\n",
       "        vertical-align: middle;\n",
       "    }\n",
       "\n",
       "    .dataframe tbody tr th {\n",
       "        vertical-align: top;\n",
       "    }\n",
       "\n",
       "    .dataframe thead th {\n",
       "        text-align: right;\n",
       "    }\n",
       "</style>\n",
       "<table border=\"1\" class=\"dataframe\">\n",
       "  <thead>\n",
       "    <tr style=\"text-align: right;\">\n",
       "      <th></th>\n",
       "      <th>region</th>\n",
       "      <th>country</th>\n",
       "      <th>variable</th>\n",
       "      <th>value</th>\n",
       "    </tr>\n",
       "  </thead>\n",
       "  <tbody>\n",
       "    <tr>\n",
       "      <th>0</th>\n",
       "      <td>Central</td>\n",
       "      <td>Germany</td>\n",
       "      <td>Mrs T. May</td>\n",
       "      <td>21877.91</td>\n",
       "    </tr>\n",
       "    <tr>\n",
       "      <th>1</th>\n",
       "      <td>Central</td>\n",
       "      <td>Switzerland</td>\n",
       "      <td>Mrs T. May</td>\n",
       "      <td>7158.75</td>\n",
       "    </tr>\n",
       "    <tr>\n",
       "      <th>2</th>\n",
       "      <td>East</td>\n",
       "      <td>Austria</td>\n",
       "      <td>Mrs T. May</td>\n",
       "      <td>3363.49</td>\n",
       "    </tr>\n",
       "    <tr>\n",
       "      <th>3</th>\n",
       "      <td>East</td>\n",
       "      <td>Poland</td>\n",
       "      <td>Mrs T. May</td>\n",
       "      <td>6100.29</td>\n",
       "    </tr>\n",
       "    <tr>\n",
       "      <th>4</th>\n",
       "      <td>North</td>\n",
       "      <td>Norway</td>\n",
       "      <td>Mrs T. May</td>\n",
       "      <td>6920.83</td>\n",
       "    </tr>\n",
       "    <tr>\n",
       "      <th>5</th>\n",
       "      <td>North</td>\n",
       "      <td>Sweden</td>\n",
       "      <td>Mrs T. May</td>\n",
       "      <td>10099.08</td>\n",
       "    </tr>\n",
       "    <tr>\n",
       "      <th>6</th>\n",
       "      <td>South</td>\n",
       "      <td>Italy</td>\n",
       "      <td>Mrs T. May</td>\n",
       "      <td>7424.13</td>\n",
       "    </tr>\n",
       "    <tr>\n",
       "      <th>7</th>\n",
       "      <td>South</td>\n",
       "      <td>Portugal</td>\n",
       "      <td>Mrs T. May</td>\n",
       "      <td>5101.39</td>\n",
       "    </tr>\n",
       "    <tr>\n",
       "      <th>8</th>\n",
       "      <td>West</td>\n",
       "      <td>France</td>\n",
       "      <td>Mrs T. May</td>\n",
       "      <td>14500.85</td>\n",
       "    </tr>\n",
       "    <tr>\n",
       "      <th>9</th>\n",
       "      <td>West</td>\n",
       "      <td>Spain</td>\n",
       "      <td>Mrs T. May</td>\n",
       "      <td>5377.24</td>\n",
       "    </tr>\n",
       "  </tbody>\n",
       "</table>\n",
       "</div>"
      ],
      "text/plain": [
       "    region      country    variable     value\n",
       "0  Central      Germany  Mrs T. May  21877.91\n",
       "1  Central  Switzerland  Mrs T. May   7158.75\n",
       "2     East      Austria  Mrs T. May   3363.49\n",
       "3     East       Poland  Mrs T. May   6100.29\n",
       "4    North       Norway  Mrs T. May   6920.83\n",
       "5    North       Sweden  Mrs T. May  10099.08\n",
       "6    South        Italy  Mrs T. May   7424.13\n",
       "7    South     Portugal  Mrs T. May   5101.39\n",
       "8     West       France  Mrs T. May  14500.85\n",
       "9     West        Spain  Mrs T. May   5377.24"
      ]
     },
     "execution_count": 40,
     "metadata": {},
     "output_type": "execute_result"
    }
   ],
   "source": [
    "%%piper\n",
    "\n",
    "df\n",
    ">> assign(sales_price=lambda x: x.unit_price * x.qty)\n",
    ">> where(\"invoice_dt.dt.month.between(3, 3)\")\n",
    ">> group_by(['region', 'country', 'rep'])\n",
    ">> summarise(total_sales=('sales_price', 'sum'))\n",
    ">> unstack()\n",
    ">> flatten_cols(remove_prefix='total_sales|avg_sales')\n",
    ">> reset_index()\n",
    ">> pivot_longer(('region', 'country'), 'total_sales')"
   ]
  },
  {
   "cell_type": "code",
   "execution_count": null,
   "metadata": {},
   "outputs": [],
   "source": []
  },
  {
   "cell_type": "code",
   "execution_count": null,
   "metadata": {},
   "outputs": [],
   "source": []
  }
 ],
 "metadata": {
  "kernelspec": {
   "display_name": "Python 3",
   "language": "python",
   "name": "python3"
  },
  "language_info": {
   "codemirror_mode": {
    "name": "ipython",
    "version": 3
   },
   "file_extension": ".py",
   "mimetype": "text/x-python",
   "name": "python",
   "nbconvert_exporter": "python",
   "pygments_lexer": "ipython3",
   "version": "3.8.5"
  },
  "toc": {
   "base_numbering": 1,
   "nav_menu": {},
   "number_sections": true,
   "sideBar": true,
   "skip_h1_title": false,
   "title_cell": "Table of Contents",
   "title_sidebar": "Contents",
   "toc_cell": false,
   "toc_position": {},
   "toc_section_display": true,
   "toc_window_display": false
  }
 },
 "nbformat": 4,
 "nbformat_minor": 4
}
