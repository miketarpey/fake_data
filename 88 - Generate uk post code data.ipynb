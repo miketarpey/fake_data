{
 "cells": [
  {
   "cell_type": "markdown",
   "metadata": {},
   "source": [
    "# Setup"
   ]
  },
  {
   "cell_type": "code",
   "execution_count": 1,
   "metadata": {
    "ExecuteTime": {
     "end_time": "2021-03-09T20:33:28.940970Z",
     "start_time": "2021-03-09T20:33:28.594077Z"
    }
   },
   "outputs": [
    {
     "name": "stderr",
     "output_type": "stream",
     "text": [
      "piper version 0.0.9, last run: Tuesday, 09 March 2021 20:33:28\n"
     ]
    }
   ],
   "source": [
    "from piper import piper \n",
    "from piper.verbs import *\n",
    "from piper.pandas import *\n",
    "from pathlib import Path"
   ]
  },
  {
   "cell_type": "markdown",
   "metadata": {},
   "source": [
    "# Helper functions"
   ]
  },
  {
   "cell_type": "markdown",
   "metadata": {},
   "source": [
    "## clean_postcodes"
   ]
  },
  {
   "cell_type": "code",
   "execution_count": 2,
   "metadata": {
    "ExecuteTime": {
     "end_time": "2021-03-09T20:33:28.948300Z",
     "start_time": "2021-03-09T20:33:28.943122Z"
    }
   },
   "outputs": [],
   "source": [
    "def clean_postcodes(filename):\n",
    "    \n",
    "    df = pd.read_csv(filename, header=None, usecols=[0], names=['post_code'])\n",
    "    \n",
    "    df[['p1', 'p2']] = df.post_code.str.extract(r'(.*)(\\d\\w{,2})$', expand=True)\n",
    "    df['post_code'] = df.p1 + ' ' + df.p2\n",
    "    df['postcode'] = df.p1.str.extract('([a-zA-Z]+)')\n",
    "    \n",
    "    df.drop(columns=['p1', 'p2'], inplace=True)\n",
    "    \n",
    "    return df"
   ]
  },
  {
   "cell_type": "markdown",
   "metadata": {},
   "source": [
    "# Postcodes"
   ]
  },
  {
   "cell_type": "markdown",
   "metadata": {},
   "source": [
    "## Consolidate raw multiple CSV files"
   ]
  },
  {
   "cell_type": "code",
   "execution_count": 5,
   "metadata": {
    "ExecuteTime": {
     "end_time": "2021-03-09T20:35:12.064429Z",
     "start_time": "2021-03-09T20:35:01.850737Z"
    }
   },
   "outputs": [],
   "source": [
    "directory = Path('inputs/fake_data/supporting workfiles/CSV')\n",
    "list_of_csv_files = list_files(directory, glob_pattern='*.csv', as_posix=True)\n",
    "\n",
    "dataframes = [clean_postcodes(f) for f in list_of_csv_files]\n",
    "\n",
    "df = pd.concat(dataframes).dropna()"
   ]
  },
  {
   "cell_type": "code",
   "execution_count": 6,
   "metadata": {
    "ExecuteTime": {
     "end_time": "2021-03-09T20:35:13.711538Z",
     "start_time": "2021-03-09T20:35:13.676754Z"
    }
   },
   "outputs": [
    {
     "name": "stderr",
     "output_type": "stream",
     "text": [
      "1708495 rows, 2 columns\n"
     ]
    },
    {
     "data": {
      "text/html": [
       "<div>\n",
       "<style scoped>\n",
       "    .dataframe tbody tr th:only-of-type {\n",
       "        vertical-align: middle;\n",
       "    }\n",
       "\n",
       "    .dataframe tbody tr th {\n",
       "        vertical-align: top;\n",
       "    }\n",
       "\n",
       "    .dataframe thead th {\n",
       "        text-align: right;\n",
       "    }\n",
       "</style>\n",
       "<table border=\"1\" class=\"dataframe\">\n",
       "  <thead>\n",
       "    <tr style=\"text-align: right;\">\n",
       "      <th></th>\n",
       "      <th>post_code</th>\n",
       "      <th>postcode</th>\n",
       "    </tr>\n",
       "  </thead>\n",
       "  <tbody>\n",
       "    <tr>\n",
       "      <th>0</th>\n",
       "      <td>WR1  1AA</td>\n",
       "      <td>WR</td>\n",
       "    </tr>\n",
       "    <tr>\n",
       "      <th>1</th>\n",
       "      <td>WR1  1AD</td>\n",
       "      <td>WR</td>\n",
       "    </tr>\n",
       "    <tr>\n",
       "      <th>2</th>\n",
       "      <td>WR1  1AE</td>\n",
       "      <td>WR</td>\n",
       "    </tr>\n",
       "    <tr>\n",
       "      <th>3</th>\n",
       "      <td>WR1  1AF</td>\n",
       "      <td>WR</td>\n",
       "    </tr>\n",
       "  </tbody>\n",
       "</table>\n",
       "</div>"
      ],
      "text/plain": [
       "  post_code postcode\n",
       "0  WR1  1AA       WR\n",
       "1  WR1  1AD       WR\n",
       "2  WR1  1AE       WR\n",
       "3  WR1  1AF       WR"
      ]
     },
     "execution_count": 6,
     "metadata": {},
     "output_type": "execute_result"
    }
   ],
   "source": [
    "head(df)"
   ]
  },
  {
   "cell_type": "markdown",
   "metadata": {},
   "source": [
    "## Read top level postcodes"
   ]
  },
  {
   "cell_type": "code",
   "execution_count": 7,
   "metadata": {
    "ExecuteTime": {
     "end_time": "2021-03-09T20:35:14.800151Z",
     "start_time": "2021-03-09T20:35:14.791576Z"
    }
   },
   "outputs": [],
   "source": [
    "directory = Path('inputs/fake_data/')"
   ]
  },
  {
   "cell_type": "code",
   "execution_count": 8,
   "metadata": {
    "ExecuteTime": {
     "end_time": "2021-03-09T20:35:15.518228Z",
     "start_time": "2021-03-09T20:35:15.443830Z"
    }
   },
   "outputs": [
    {
     "name": "stderr",
     "output_type": "stream",
     "text": [
      "inputs/fake_data/UK_Toplevel_postcode_areas.csv\n",
      "121 rows, 9 columns\n"
     ]
    }
   ],
   "source": [
    "filename = directory / 'UK_Toplevel_postcode_areas.csv'\n",
    "subset_cols = ['postcode', 'area_covered', 'center_latitude', 'center_longitude']\n",
    "\n",
    "%piper areas <- read_csv(filename, sep='\\t', info=False) >> select(subset_cols)"
   ]
  },
  {
   "cell_type": "code",
   "execution_count": 9,
   "metadata": {
    "ExecuteTime": {
     "end_time": "2021-03-09T20:35:16.223954Z",
     "start_time": "2021-03-09T20:35:16.164551Z"
    }
   },
   "outputs": [
    {
     "name": "stderr",
     "output_type": "stream",
     "text": [
      "121 rows, 4 columns\n"
     ]
    },
    {
     "data": {
      "text/html": [
       "<div>\n",
       "<style scoped>\n",
       "    .dataframe tbody tr th:only-of-type {\n",
       "        vertical-align: middle;\n",
       "    }\n",
       "\n",
       "    .dataframe tbody tr th {\n",
       "        vertical-align: top;\n",
       "    }\n",
       "\n",
       "    .dataframe thead th {\n",
       "        text-align: right;\n",
       "    }\n",
       "</style>\n",
       "<table border=\"1\" class=\"dataframe\">\n",
       "  <thead>\n",
       "    <tr style=\"text-align: right;\">\n",
       "      <th></th>\n",
       "      <th>postcode</th>\n",
       "      <th>area_covered</th>\n",
       "      <th>center_latitude</th>\n",
       "      <th>center_longitude</th>\n",
       "    </tr>\n",
       "  </thead>\n",
       "  <tbody>\n",
       "    <tr>\n",
       "      <th>0</th>\n",
       "      <td>AB</td>\n",
       "      <td>Aberdeen</td>\n",
       "      <td>57.3010</td>\n",
       "      <td>-2.307900</td>\n",
       "    </tr>\n",
       "    <tr>\n",
       "      <th>1</th>\n",
       "      <td>AL</td>\n",
       "      <td>St Albans</td>\n",
       "      <td>51.7755</td>\n",
       "      <td>-0.283982</td>\n",
       "    </tr>\n",
       "    <tr>\n",
       "      <th>2</th>\n",
       "      <td>B</td>\n",
       "      <td>Birmingham</td>\n",
       "      <td>52.4652</td>\n",
       "      <td>-1.888850</td>\n",
       "    </tr>\n",
       "    <tr>\n",
       "      <th>3</th>\n",
       "      <td>BA</td>\n",
       "      <td>Bath</td>\n",
       "      <td>51.2295</td>\n",
       "      <td>-2.417340</td>\n",
       "    </tr>\n",
       "  </tbody>\n",
       "</table>\n",
       "</div>"
      ],
      "text/plain": [
       "  postcode area_covered  center_latitude  center_longitude\n",
       "0       AB     Aberdeen          57.3010         -2.307900\n",
       "1       AL    St Albans          51.7755         -0.283982\n",
       "2        B   Birmingham          52.4652         -1.888850\n",
       "3       BA         Bath          51.2295         -2.417340"
      ]
     },
     "execution_count": 9,
     "metadata": {},
     "output_type": "execute_result"
    }
   ],
   "source": [
    "head(areas)"
   ]
  },
  {
   "cell_type": "markdown",
   "metadata": {},
   "source": [
    "## Merge with detail and write TSV"
   ]
  },
  {
   "cell_type": "code",
   "execution_count": 10,
   "metadata": {
    "ExecuteTime": {
     "end_time": "2021-03-09T20:35:26.434058Z",
     "start_time": "2021-03-09T20:35:17.589363Z"
    }
   },
   "outputs": [],
   "source": [
    "%%piper \n",
    "\n",
    "df \n",
    ">> inner_join(areas, on='postcode')\n",
    ">> order_by(['post_code', 'center_latitude', 'center_longitude'])\n",
    ">> to_csv(directory / 'UK postcodes.tsv', sep='\\t')"
   ]
  },
  {
   "cell_type": "markdown",
   "metadata": {},
   "source": [
    "## Check:: Count postcodes by area_covered"
   ]
  },
  {
   "cell_type": "code",
   "execution_count": 11,
   "metadata": {
    "ExecuteTime": {
     "end_time": "2021-03-09T20:35:29.814323Z",
     "start_time": "2021-03-09T20:35:26.436379Z"
    }
   },
   "outputs": [
    {
     "name": "stderr",
     "output_type": "stream",
     "text": [
      "inputs/fake_data/UK postcodes.tsv\n",
      "Warning: Dataframe strip_blanks = True\n",
      "1708495 rows, 5 columns\n"
     ]
    },
    {
     "data": {
      "text/html": [
       "<div>\n",
       "<style scoped>\n",
       "    .dataframe tbody tr th:only-of-type {\n",
       "        vertical-align: middle;\n",
       "    }\n",
       "\n",
       "    .dataframe tbody tr th {\n",
       "        vertical-align: top;\n",
       "    }\n",
       "\n",
       "    .dataframe thead th {\n",
       "        text-align: right;\n",
       "    }\n",
       "</style>\n",
       "<table border=\"1\" class=\"dataframe\">\n",
       "  <thead>\n",
       "    <tr style=\"text-align: right;\">\n",
       "      <th></th>\n",
       "      <th>n</th>\n",
       "      <th>%</th>\n",
       "      <th>cum %</th>\n",
       "    </tr>\n",
       "  </thead>\n",
       "  <tbody>\n",
       "    <tr>\n",
       "      <th>Birmingham</th>\n",
       "      <td>41444</td>\n",
       "      <td>2.43</td>\n",
       "      <td>2.43</td>\n",
       "    </tr>\n",
       "    <tr>\n",
       "      <th>Sheffield</th>\n",
       "      <td>33482</td>\n",
       "      <td>1.96</td>\n",
       "      <td>4.39</td>\n",
       "    </tr>\n",
       "    <tr>\n",
       "      <th>Newcastle upon Tyne</th>\n",
       "      <td>33185</td>\n",
       "      <td>1.94</td>\n",
       "      <td>6.33</td>\n",
       "    </tr>\n",
       "    <tr>\n",
       "      <th>Glasgow</th>\n",
       "      <td>31815</td>\n",
       "      <td>1.86</td>\n",
       "      <td>8.19</td>\n",
       "    </tr>\n",
       "    <tr>\n",
       "      <th>Manchester</th>\n",
       "      <td>31720</td>\n",
       "      <td>1.86</td>\n",
       "      <td>10.05</td>\n",
       "    </tr>\n",
       "    <tr>\n",
       "      <th>...</th>\n",
       "      <td>...</td>\n",
       "      <td>...</td>\n",
       "      <td>...</td>\n",
       "    </tr>\n",
       "    <tr>\n",
       "      <th>Llandrindod Wells</th>\n",
       "      <td>2202</td>\n",
       "      <td>0.13</td>\n",
       "      <td>99.80</td>\n",
       "    </tr>\n",
       "    <tr>\n",
       "      <th>Kirkwall</th>\n",
       "      <td>1836</td>\n",
       "      <td>0.11</td>\n",
       "      <td>99.91</td>\n",
       "    </tr>\n",
       "    <tr>\n",
       "      <th>Outer Hebrides</th>\n",
       "      <td>961</td>\n",
       "      <td>0.06</td>\n",
       "      <td>99.96</td>\n",
       "    </tr>\n",
       "    <tr>\n",
       "      <th>Lerwick</th>\n",
       "      <td>650</td>\n",
       "      <td>0.04</td>\n",
       "      <td>100.00</td>\n",
       "    </tr>\n",
       "    <tr>\n",
       "      <th>All</th>\n",
       "      <td>1708495</td>\n",
       "      <td>100.01</td>\n",
       "      <td>7703.55</td>\n",
       "    </tr>\n",
       "  </tbody>\n",
       "</table>\n",
       "<p>120 rows × 3 columns</p>\n",
       "</div>"
      ],
      "text/plain": [
       "                           n       %    cum %\n",
       "Birmingham             41444    2.43     2.43\n",
       "Sheffield              33482    1.96     4.39\n",
       "Newcastle upon Tyne    33185    1.94     6.33\n",
       "Glasgow                31815    1.86     8.19\n",
       "Manchester             31720    1.86    10.05\n",
       "...                      ...     ...      ...\n",
       "Llandrindod Wells       2202    0.13    99.80\n",
       "Kirkwall                1836    0.11    99.91\n",
       "Outer Hebrides           961    0.06    99.96\n",
       "Lerwick                  650    0.04   100.00\n",
       "All                  1708495  100.01  7703.55\n",
       "\n",
       "[120 rows x 3 columns]"
      ]
     },
     "execution_count": 11,
     "metadata": {},
     "output_type": "execute_result"
    }
   ],
   "source": [
    "%%piper\n",
    "read_csv(directory / 'UK postcodes.tsv', sep='\\t')\n",
    ">> count('area_covered')\n",
    ">> adorn()"
   ]
  },
  {
   "cell_type": "code",
   "execution_count": null,
   "metadata": {},
   "outputs": [],
   "source": []
  },
  {
   "cell_type": "code",
   "execution_count": null,
   "metadata": {},
   "outputs": [],
   "source": []
  }
 ],
 "metadata": {
  "kernelspec": {
   "display_name": "Python 3",
   "language": "python",
   "name": "python3"
  },
  "language_info": {
   "codemirror_mode": {
    "name": "ipython",
    "version": 3
   },
   "file_extension": ".py",
   "mimetype": "text/x-python",
   "name": "python",
   "nbconvert_exporter": "python",
   "pygments_lexer": "ipython3",
   "version": "3.8.5"
  },
  "toc": {
   "base_numbering": 1,
   "nav_menu": {},
   "number_sections": true,
   "sideBar": true,
   "skip_h1_title": false,
   "title_cell": "Table of Contents",
   "title_sidebar": "Contents",
   "toc_cell": false,
   "toc_position": {},
   "toc_section_display": true,
   "toc_window_display": true
  }
 },
 "nbformat": 4,
 "nbformat_minor": 4
}
