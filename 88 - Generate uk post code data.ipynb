{
 "cells": [
  {
   "cell_type": "markdown",
   "metadata": {},
   "source": [
    "# Setup"
   ]
  },
  {
   "cell_type": "code",
   "execution_count": 1,
   "metadata": {
    "ExecuteTime": {
     "end_time": "2021-02-13T15:02:06.892386Z",
     "start_time": "2021-02-13T15:02:06.557437Z"
    }
   },
   "outputs": [
    {
     "name": "stderr",
     "output_type": "stream",
     "text": [
      "piper version 0.0.7, last run: Saturday, 13 February 2021 15:02:06\n"
     ]
    }
   ],
   "source": [
    "from piper import piper \n",
    "from piper.verbs import *\n",
    "from piper.pandas import *\n",
    "from pathlib import Path"
   ]
  },
  {
   "cell_type": "markdown",
   "metadata": {},
   "source": [
    "# Helper functions"
   ]
  },
  {
   "cell_type": "markdown",
   "metadata": {},
   "source": [
    "## clean_postcodes"
   ]
  },
  {
   "cell_type": "code",
   "execution_count": 2,
   "metadata": {
    "ExecuteTime": {
     "end_time": "2021-02-13T15:02:06.898972Z",
     "start_time": "2021-02-13T15:02:06.894321Z"
    }
   },
   "outputs": [],
   "source": [
    "def clean_postcodes(filename):\n",
    "    \n",
    "    df = pd.read_csv(filename, header=None, usecols=[0], names=['post_code'])\n",
    "    \n",
    "    df[['p1', 'p2']] = df.post_code.str.extract(r'(.*)(\\d\\w{,2})$', expand=True)\n",
    "    df['post_code'] = df.p1 + ' ' + df.p2\n",
    "    df['postcode'] = df.p1.str.extract('([a-zA-Z]+)')\n",
    "    \n",
    "    df.drop(columns=['p1', 'p2'], inplace=True)\n",
    "    \n",
    "    return df"
   ]
  },
  {
   "cell_type": "markdown",
   "metadata": {},
   "source": [
    "# Postcodes"
   ]
  },
  {
   "cell_type": "markdown",
   "metadata": {},
   "source": [
    "## Consolidate raw multiple CSV files"
   ]
  },
  {
   "cell_type": "code",
   "execution_count": 3,
   "metadata": {
    "ExecuteTime": {
     "end_time": "2021-02-13T15:02:32.425458Z",
     "start_time": "2021-02-13T15:02:06.901602Z"
    }
   },
   "outputs": [],
   "source": [
    "directory = Path('inputs/fake_data/supporting workfiles/')\n",
    "list_of_csv_files = list_files(directory, filter='*.csv', as_posix=True)\n",
    "\n",
    "dataframes = [clean_postcodes(f) for f in list_of_csv_files]\n",
    "\n",
    "df = pd.concat(dataframes).dropna()"
   ]
  },
  {
   "cell_type": "code",
   "execution_count": 4,
   "metadata": {
    "ExecuteTime": {
     "end_time": "2021-02-13T15:02:32.447141Z",
     "start_time": "2021-02-13T15:02:32.427429Z"
    }
   },
   "outputs": [
    {
     "name": "stderr",
     "output_type": "stream",
     "text": [
      "2634076 rows, 2 columns\n"
     ]
    },
    {
     "data": {
      "text/html": [
       "<div>\n",
       "<style scoped>\n",
       "    .dataframe tbody tr th:only-of-type {\n",
       "        vertical-align: middle;\n",
       "    }\n",
       "\n",
       "    .dataframe tbody tr th {\n",
       "        vertical-align: top;\n",
       "    }\n",
       "\n",
       "    .dataframe thead th {\n",
       "        text-align: right;\n",
       "    }\n",
       "</style>\n",
       "<table border=\"1\" class=\"dataframe\">\n",
       "  <thead>\n",
       "    <tr style=\"text-align: right;\">\n",
       "      <th></th>\n",
       "      <th>post_code</th>\n",
       "      <th>postcode</th>\n",
       "    </tr>\n",
       "  </thead>\n",
       "  <tbody>\n",
       "    <tr>\n",
       "      <th>1</th>\n",
       "      <td>AB1  0AA</td>\n",
       "      <td>AB</td>\n",
       "    </tr>\n",
       "    <tr>\n",
       "      <th>2</th>\n",
       "      <td>AB1  0AB</td>\n",
       "      <td>AB</td>\n",
       "    </tr>\n",
       "    <tr>\n",
       "      <th>3</th>\n",
       "      <td>AB1  0AD</td>\n",
       "      <td>AB</td>\n",
       "    </tr>\n",
       "    <tr>\n",
       "      <th>4</th>\n",
       "      <td>AB1  0AE</td>\n",
       "      <td>AB</td>\n",
       "    </tr>\n",
       "  </tbody>\n",
       "</table>\n",
       "</div>"
      ],
      "text/plain": [
       "  post_code postcode\n",
       "1  AB1  0AA       AB\n",
       "2  AB1  0AB       AB\n",
       "3  AB1  0AD       AB\n",
       "4  AB1  0AE       AB"
      ]
     },
     "execution_count": 4,
     "metadata": {},
     "output_type": "execute_result"
    }
   ],
   "source": [
    "head(df)"
   ]
  },
  {
   "cell_type": "markdown",
   "metadata": {},
   "source": [
    "## Read top level postcodes"
   ]
  },
  {
   "cell_type": "code",
   "execution_count": 5,
   "metadata": {
    "ExecuteTime": {
     "end_time": "2021-02-13T15:02:32.452348Z",
     "start_time": "2021-02-13T15:02:32.448895Z"
    }
   },
   "outputs": [],
   "source": [
    "directory = Path('inputs/fake_data/')"
   ]
  },
  {
   "cell_type": "code",
   "execution_count": 6,
   "metadata": {
    "ExecuteTime": {
     "end_time": "2021-02-13T15:02:32.485061Z",
     "start_time": "2021-02-13T15:02:32.455957Z"
    }
   },
   "outputs": [
    {
     "name": "stderr",
     "output_type": "stream",
     "text": [
      "inputs/fake_data/UK_Toplevel_postcode_areas.csv\n",
      "read_csv -> 121 rows, 9 columns\n"
     ]
    }
   ],
   "source": [
    "filename = directory / 'UK_Toplevel_postcode_areas.csv'\n",
    "subset_cols = ['postcode', 'area_covered', 'center_latitude', 'center_longitude']\n",
    "\n",
    "%piper areas <- read_csv(filename, sep='\\t', info=False) >> select(subset_cols)"
   ]
  },
  {
   "cell_type": "code",
   "execution_count": 7,
   "metadata": {
    "ExecuteTime": {
     "end_time": "2021-02-13T15:02:32.530759Z",
     "start_time": "2021-02-13T15:02:32.496611Z"
    }
   },
   "outputs": [
    {
     "name": "stderr",
     "output_type": "stream",
     "text": [
      "121 rows, 4 columns\n"
     ]
    },
    {
     "data": {
      "text/html": [
       "<div>\n",
       "<style scoped>\n",
       "    .dataframe tbody tr th:only-of-type {\n",
       "        vertical-align: middle;\n",
       "    }\n",
       "\n",
       "    .dataframe tbody tr th {\n",
       "        vertical-align: top;\n",
       "    }\n",
       "\n",
       "    .dataframe thead th {\n",
       "        text-align: right;\n",
       "    }\n",
       "</style>\n",
       "<table border=\"1\" class=\"dataframe\">\n",
       "  <thead>\n",
       "    <tr style=\"text-align: right;\">\n",
       "      <th></th>\n",
       "      <th>postcode</th>\n",
       "      <th>area_covered</th>\n",
       "      <th>center_latitude</th>\n",
       "      <th>center_longitude</th>\n",
       "    </tr>\n",
       "  </thead>\n",
       "  <tbody>\n",
       "    <tr>\n",
       "      <th>0</th>\n",
       "      <td>AB</td>\n",
       "      <td>Aberdeen</td>\n",
       "      <td>57.3010</td>\n",
       "      <td>-2.307900</td>\n",
       "    </tr>\n",
       "    <tr>\n",
       "      <th>1</th>\n",
       "      <td>AL</td>\n",
       "      <td>St Albans</td>\n",
       "      <td>51.7755</td>\n",
       "      <td>-0.283982</td>\n",
       "    </tr>\n",
       "    <tr>\n",
       "      <th>2</th>\n",
       "      <td>B</td>\n",
       "      <td>Birmingham</td>\n",
       "      <td>52.4652</td>\n",
       "      <td>-1.888850</td>\n",
       "    </tr>\n",
       "    <tr>\n",
       "      <th>3</th>\n",
       "      <td>BA</td>\n",
       "      <td>Bath</td>\n",
       "      <td>51.2295</td>\n",
       "      <td>-2.417340</td>\n",
       "    </tr>\n",
       "  </tbody>\n",
       "</table>\n",
       "</div>"
      ],
      "text/plain": [
       "  postcode area_covered  center_latitude  center_longitude\n",
       "0       AB     Aberdeen          57.3010         -2.307900\n",
       "1       AL    St Albans          51.7755         -0.283982\n",
       "2        B   Birmingham          52.4652         -1.888850\n",
       "3       BA         Bath          51.2295         -2.417340"
      ]
     },
     "execution_count": 7,
     "metadata": {},
     "output_type": "execute_result"
    }
   ],
   "source": [
    "head(areas)"
   ]
  },
  {
   "cell_type": "markdown",
   "metadata": {},
   "source": [
    "## Merge with detail and write TSV"
   ]
  },
  {
   "cell_type": "code",
   "execution_count": 8,
   "metadata": {
    "ExecuteTime": {
     "end_time": "2021-02-13T15:02:47.070177Z",
     "start_time": "2021-02-13T15:02:32.532950Z"
    }
   },
   "outputs": [],
   "source": [
    "%%piper \n",
    "\n",
    "df \n",
    ">> inner_join(areas, on='postcode')\n",
    ">> order_by(['post_code', 'center_latitude', 'center_longitude'])\n",
    ">> to_csv(directory / 'UK postcodes.tsv', sep='\\t')"
   ]
  },
  {
   "cell_type": "markdown",
   "metadata": {},
   "source": [
    "## Check:: Count postcodes by area_covered"
   ]
  },
  {
   "cell_type": "code",
   "execution_count": 9,
   "metadata": {
    "ExecuteTime": {
     "end_time": "2021-02-13T15:02:52.515964Z",
     "start_time": "2021-02-13T15:02:47.071904Z"
    }
   },
   "outputs": [
    {
     "name": "stderr",
     "output_type": "stream",
     "text": [
      "inputs/fake_data/UK postcodes.tsv\n",
      "Warning: Dataframe strip_blanks = True\n",
      "read_csv -> 2631621 rows, 5 columns\n"
     ]
    },
    {
     "data": {
      "text/html": [
       "<div>\n",
       "<style scoped>\n",
       "    .dataframe tbody tr th:only-of-type {\n",
       "        vertical-align: middle;\n",
       "    }\n",
       "\n",
       "    .dataframe tbody tr th {\n",
       "        vertical-align: top;\n",
       "    }\n",
       "\n",
       "    .dataframe thead th {\n",
       "        text-align: right;\n",
       "    }\n",
       "</style>\n",
       "<table border=\"1\" class=\"dataframe\">\n",
       "  <thead>\n",
       "    <tr style=\"text-align: right;\">\n",
       "      <th></th>\n",
       "      <th>area_covered</th>\n",
       "      <th>n</th>\n",
       "    </tr>\n",
       "  </thead>\n",
       "  <tbody>\n",
       "    <tr>\n",
       "      <th>0</th>\n",
       "      <td>Northern Ireland</td>\n",
       "      <td>61876</td>\n",
       "    </tr>\n",
       "    <tr>\n",
       "      <th>1</th>\n",
       "      <td>Birmingham</td>\n",
       "      <td>61274</td>\n",
       "    </tr>\n",
       "    <tr>\n",
       "      <th>2</th>\n",
       "      <td>Manchester</td>\n",
       "      <td>58692</td>\n",
       "    </tr>\n",
       "    <tr>\n",
       "      <th>3</th>\n",
       "      <td>Sheffield</td>\n",
       "      <td>49158</td>\n",
       "    </tr>\n",
       "    <tr>\n",
       "      <th>4</th>\n",
       "      <td>Glasgow</td>\n",
       "      <td>46759</td>\n",
       "    </tr>\n",
       "    <tr>\n",
       "      <th>...</th>\n",
       "      <td>...</td>\n",
       "      <td>...</td>\n",
       "    </tr>\n",
       "    <tr>\n",
       "      <th>116</th>\n",
       "      <td>Llandrindod Wells</td>\n",
       "      <td>2650</td>\n",
       "    </tr>\n",
       "    <tr>\n",
       "      <th>117</th>\n",
       "      <td>Kirkwall</td>\n",
       "      <td>2104</td>\n",
       "    </tr>\n",
       "    <tr>\n",
       "      <th>118</th>\n",
       "      <td>Outer Hebrides</td>\n",
       "      <td>1093</td>\n",
       "    </tr>\n",
       "    <tr>\n",
       "      <th>119</th>\n",
       "      <td>Lerwick</td>\n",
       "      <td>749</td>\n",
       "    </tr>\n",
       "    <tr>\n",
       "      <th>All</th>\n",
       "      <td>NaN</td>\n",
       "      <td>2631621</td>\n",
       "    </tr>\n",
       "  </tbody>\n",
       "</table>\n",
       "<p>121 rows × 2 columns</p>\n",
       "</div>"
      ],
      "text/plain": [
       "          area_covered        n\n",
       "0     Northern Ireland    61876\n",
       "1           Birmingham    61274\n",
       "2           Manchester    58692\n",
       "3            Sheffield    49158\n",
       "4              Glasgow    46759\n",
       "..                 ...      ...\n",
       "116  Llandrindod Wells     2650\n",
       "117           Kirkwall     2104\n",
       "118     Outer Hebrides     1093\n",
       "119            Lerwick      749\n",
       "All                NaN  2631621\n",
       "\n",
       "[121 rows x 2 columns]"
      ]
     },
     "execution_count": 9,
     "metadata": {},
     "output_type": "execute_result"
    }
   ],
   "source": [
    "%%piper\n",
    "read_csv(directory / 'UK postcodes.tsv', sep='\\t')\n",
    ">> count('area_covered')\n",
    ">> adorn()"
   ]
  },
  {
   "cell_type": "code",
   "execution_count": null,
   "metadata": {},
   "outputs": [],
   "source": []
  },
  {
   "cell_type": "code",
   "execution_count": null,
   "metadata": {},
   "outputs": [],
   "source": []
  }
 ],
 "metadata": {
  "kernelspec": {
   "display_name": "Python 3",
   "language": "python",
   "name": "python3"
  },
  "language_info": {
   "codemirror_mode": {
    "name": "ipython",
    "version": 3
   },
   "file_extension": ".py",
   "mimetype": "text/x-python",
   "name": "python",
   "nbconvert_exporter": "python",
   "pygments_lexer": "ipython3",
   "version": "3.8.5"
  },
  "toc": {
   "base_numbering": 1,
   "nav_menu": {},
   "number_sections": true,
   "sideBar": true,
   "skip_h1_title": false,
   "title_cell": "Table of Contents",
   "title_sidebar": "Contents",
   "toc_cell": false,
   "toc_position": {},
   "toc_section_display": true,
   "toc_window_display": true
  }
 },
 "nbformat": 4,
 "nbformat_minor": 4
}
