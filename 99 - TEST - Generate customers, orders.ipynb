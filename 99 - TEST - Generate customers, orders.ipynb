{
 "cells": [
  {
   "cell_type": "markdown",
   "metadata": {
    "ExecuteTime": {
     "end_time": "2021-02-13T12:12:21.201096Z",
     "start_time": "2021-02-13T12:12:21.174650Z"
    }
   },
   "source": [
    "# Setup"
   ]
  },
  {
   "cell_type": "code",
   "execution_count": 1,
   "metadata": {
    "ExecuteTime": {
     "end_time": "2021-03-29T18:24:19.192931Z",
     "start_time": "2021-03-29T18:24:18.704877Z"
    }
   },
   "outputs": [
    {
     "name": "stderr",
     "output_type": "stream",
     "text": [
      "piper v0.1.0: Monday, 29 March 2021 19:35:55\n"
     ]
    }
   ],
   "source": [
    "from piper.defaults import *\n",
    "\n",
    "from fake.sku import *\n",
    "from fake.customer import *\n",
    "from fake.orders import *"
   ]
  },
  {
   "cell_type": "markdown",
   "metadata": {
    "ExecuteTime": {
     "end_time": "2021-02-13T12:12:21.201096Z",
     "start_time": "2021-02-13T12:12:21.174650Z"
    }
   },
   "source": [
    "# Testing generate customer, orders"
   ]
  },
  {
   "cell_type": "code",
   "execution_count": 2,
   "metadata": {
    "ExecuteTime": {
     "end_time": "2021-03-29T18:24:22.337746Z",
     "start_time": "2021-03-29T18:24:22.322756Z"
    }
   },
   "outputs": [],
   "source": [
    "directory = Path('inputs/fake_data/')"
   ]
  },
  {
   "cell_type": "markdown",
   "metadata": {
    "ExecuteTime": {
     "end_time": "2021-02-13T12:12:21.201096Z",
     "start_time": "2021-02-13T12:12:21.174650Z"
    }
   },
   "source": [
    "## generate customer"
   ]
  },
  {
   "cell_type": "code",
   "execution_count": 3,
   "metadata": {
    "ExecuteTime": {
     "end_time": "2021-03-29T18:24:23.352682Z",
     "start_time": "2021-03-29T18:24:23.281077Z"
    }
   },
   "outputs": [
    {
     "data": {
      "text/plain": [
       "{'salutation': 'Ms',\n",
       " 'first_name': 'Evelyn',\n",
       " 'type': 'Hospital patient',\n",
       " 'initial': 'E',\n",
       " 'surname': 'Bray',\n",
       " 'email': 'evelyn_bray@protonmail.com',\n",
       " 'dob': Timestamp('1972-05-10 00:00:00'),\n",
       " 'status': 1}"
      ]
     },
     "execution_count": 3,
     "metadata": {},
     "output_type": "execute_result"
    }
   ],
   "source": [
    "np.random.seed(42)\n",
    "\n",
    "fnames = directory / 'first_names.csv'\n",
    "lnames = directory / 'surnames.csv'\n",
    "\n",
    "generate_customer(first_names=get_firstnames(fnames), surnames=get_surnames(lnames))"
   ]
  },
  {
   "cell_type": "markdown",
   "metadata": {
    "ExecuteTime": {
     "end_time": "2021-02-13T12:12:21.201096Z",
     "start_time": "2021-02-13T12:12:21.174650Z"
    }
   },
   "source": [
    "## generate order - single line"
   ]
  },
  {
   "cell_type": "code",
   "execution_count": 4,
   "metadata": {
    "ExecuteTime": {
     "end_time": "2021-03-29T18:24:27.908547Z",
     "start_time": "2021-03-29T18:24:24.441333Z"
    }
   },
   "outputs": [
    {
     "data": {
      "text/plain": [
       "[{'order_no': 1,\n",
       "  'order_type': 'SA',\n",
       "  'company': '8500',\n",
       "  'order_line': 1,\n",
       "  'order_date': Timestamp('2021-01-19 00:00:00'),\n",
       "  'shipping_date': Timestamp('2021-01-21 00:00:00'),\n",
       "  'delivery_date': Timestamp('2021-01-23 00:00:00'),\n",
       "  'customer_no': 49529317,\n",
       "  'product_code': 'PAB-17511',\n",
       "  'description': 'INFLECTRA ',\n",
       "  'order_quantity': 11,\n",
       "  'unit_price': 1.9504,\n",
       "  'discount_%': 0.0}]"
      ]
     },
     "execution_count": 4,
     "metadata": {},
     "output_type": "execute_result"
    }
   ],
   "source": [
    "np.random.seed(42)\n",
    "\n",
    "customers = generate_customers()\n",
    "skus      = generate_skus()\n",
    "\n",
    "generate_order(max_lines=1, customers=customers, products=skus)"
   ]
  },
  {
   "cell_type": "markdown",
   "metadata": {
    "ExecuteTime": {
     "end_time": "2021-02-13T12:12:21.201096Z",
     "start_time": "2021-02-13T12:12:21.174650Z"
    }
   },
   "source": [
    "## generate order - multi-line"
   ]
  },
  {
   "cell_type": "code",
   "execution_count": 5,
   "metadata": {
    "ExecuteTime": {
     "end_time": "2021-03-29T18:24:31.411284Z",
     "start_time": "2021-03-29T18:24:27.910770Z"
    }
   },
   "outputs": [
    {
     "data": {
      "text/plain": [
       "[{'order_no': 1,\n",
       "  'order_type': 'SA',\n",
       "  'company': '8500',\n",
       "  'order_line': 1,\n",
       "  'order_date': Timestamp('2021-01-19 00:00:00'),\n",
       "  'shipping_date': Timestamp('2021-01-21 00:00:00'),\n",
       "  'delivery_date': Timestamp('2021-01-23 00:00:00'),\n",
       "  'customer_no': 49529317,\n",
       "  'product_code': '8KD-8217',\n",
       "  'description': 'CREON DELAYED-RELEASE CAPSULES ',\n",
       "  'order_quantity': 34,\n",
       "  'unit_price': 1.6796,\n",
       "  'discount_%': 0.0},\n",
       " {'order_no': 1,\n",
       "  'order_type': 'SA',\n",
       "  'company': '8500',\n",
       "  'order_line': 2,\n",
       "  'order_date': Timestamp('2021-01-19 00:00:00'),\n",
       "  'shipping_date': Timestamp('2021-01-21 00:00:00'),\n",
       "  'delivery_date': Timestamp('2021-01-23 00:00:00'),\n",
       "  'customer_no': 49529317,\n",
       "  'product_code': 'DHA-9956',\n",
       "  'description': 'NEPRO WITH CARB STEADY ',\n",
       "  'order_quantity': 28,\n",
       "  'unit_price': 10.7362,\n",
       "  'discount_%': 0.0},\n",
       " {'order_no': 1,\n",
       "  'order_type': 'SA',\n",
       "  'company': '8500',\n",
       "  'order_line': 3,\n",
       "  'order_date': Timestamp('2021-01-19 00:00:00'),\n",
       "  'shipping_date': Timestamp('2021-01-21 00:00:00'),\n",
       "  'delivery_date': Timestamp('2021-01-23 00:00:00'),\n",
       "  'customer_no': 49529317,\n",
       "  'product_code': 'YGW-8432',\n",
       "  'description': 'UPLIZNA ',\n",
       "  'order_quantity': 9,\n",
       "  'unit_price': 4.9791,\n",
       "  'discount_%': 0.0}]"
      ]
     },
     "execution_count": 5,
     "metadata": {},
     "output_type": "execute_result"
    }
   ],
   "source": [
    "np.random.seed(42)\n",
    "customers = generate_customers()\n",
    "skus      = generate_skus()\n",
    "\n",
    "generate_order(max_lines=4, customers=customers, products=skus)"
   ]
  },
  {
   "cell_type": "markdown",
   "metadata": {
    "ExecuteTime": {
     "end_time": "2021-02-13T12:12:21.201096Z",
     "start_time": "2021-02-13T12:12:21.174650Z"
    }
   },
   "source": [
    "## generate multiple orders"
   ]
  },
  {
   "cell_type": "code",
   "execution_count": 6,
   "metadata": {
    "ExecuteTime": {
     "end_time": "2021-03-29T18:24:35.334400Z",
     "start_time": "2021-03-29T18:24:31.413693Z"
    }
   },
   "outputs": [],
   "source": [
    "np.random.seed(42)\n",
    "\n",
    "customers = generate_customers()\n",
    "skus      = generate_skus()\n",
    "\n",
    "dx = generate_orders(number_orders=2, max_lines=1, customers=customers, skus=skus)"
   ]
  },
  {
   "cell_type": "code",
   "execution_count": null,
   "metadata": {},
   "outputs": [],
   "source": []
  }
 ],
 "metadata": {
  "kernelspec": {
   "display_name": "Python 3",
   "language": "python",
   "name": "python3"
  },
  "language_info": {
   "codemirror_mode": {
    "name": "ipython",
    "version": 3
   },
   "file_extension": ".py",
   "mimetype": "text/x-python",
   "name": "python",
   "nbconvert_exporter": "python",
   "pygments_lexer": "ipython3",
   "version": "3.8.5"
  },
  "toc": {
   "base_numbering": 1,
   "nav_menu": {},
   "number_sections": true,
   "sideBar": true,
   "skip_h1_title": false,
   "title_cell": "Table of Contents",
   "title_sidebar": "Contents",
   "toc_cell": false,
   "toc_position": {},
   "toc_section_display": true,
   "toc_window_display": true
  }
 },
 "nbformat": 4,
 "nbformat_minor": 4
}
