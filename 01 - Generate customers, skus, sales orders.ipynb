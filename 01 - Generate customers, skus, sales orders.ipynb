{
 "cells": [
  {
   "cell_type": "markdown",
   "metadata": {},
   "source": [
    "# Generate data"
   ]
  },
  {
   "cell_type": "code",
   "execution_count": 1,
   "metadata": {
    "ExecuteTime": {
     "end_time": "2021-03-09T20:31:49.136019Z",
     "start_time": "2021-03-09T20:31:48.179719Z"
    }
   },
   "outputs": [
    {
     "name": "stderr",
     "output_type": "stream",
     "text": [
      "piper version 0.0.9, last run: Tuesday, 09 March 2021 20:31:48\n"
     ]
    }
   ],
   "source": [
    "from piper import piper\n",
    "from piper.defaults import *\n",
    "from piper.verbs import *\n",
    "from piper.dates import *\n",
    "from piper.io import *\n",
    "from piper.pandas import *\n",
    "\n",
    "from fake.sku import *\n",
    "from fake.customer import *\n",
    "from fake.orders import *"
   ]
  },
  {
   "cell_type": "markdown",
   "metadata": {},
   "source": [
    "## customers"
   ]
  },
  {
   "cell_type": "code",
   "execution_count": 2,
   "metadata": {
    "ExecuteTime": {
     "end_time": "2021-03-09T20:31:52.705910Z",
     "start_time": "2021-03-09T20:31:49.137584Z"
    }
   },
   "outputs": [
    {
     "name": "stderr",
     "output_type": "stream",
     "text": [
      "300 rows, 12 columns\n"
     ]
    },
    {
     "data": {
      "text/html": [
       "<div>\n",
       "<style scoped>\n",
       "    .dataframe tbody tr th:only-of-type {\n",
       "        vertical-align: middle;\n",
       "    }\n",
       "\n",
       "    .dataframe tbody tr th {\n",
       "        vertical-align: top;\n",
       "    }\n",
       "\n",
       "    .dataframe thead th {\n",
       "        text-align: right;\n",
       "    }\n",
       "</style>\n",
       "<table border=\"1\" class=\"dataframe\">\n",
       "  <thead>\n",
       "    <tr style=\"text-align: right;\">\n",
       "      <th></th>\n",
       "      <th>customer_no</th>\n",
       "      <th>salutation</th>\n",
       "      <th>first_name</th>\n",
       "      <th>type</th>\n",
       "      <th>initial</th>\n",
       "      <th>surname</th>\n",
       "      <th>email</th>\n",
       "      <th>dob</th>\n",
       "      <th>status</th>\n",
       "      <th>street</th>\n",
       "      <th>area</th>\n",
       "      <th>pcode</th>\n",
       "    </tr>\n",
       "  </thead>\n",
       "  <tbody>\n",
       "    <tr>\n",
       "      <th>0</th>\n",
       "      <td>49529297</td>\n",
       "      <td>Ms</td>\n",
       "      <td>Vickie</td>\n",
       "      <td>HomeCare</td>\n",
       "      <td></td>\n",
       "      <td>Montoya</td>\n",
       "      <td>v.montoya@protonmail.com</td>\n",
       "      <td>1980-03-11</td>\n",
       "      <td>1</td>\n",
       "      <td>130b Wallis Grove Street</td>\n",
       "      <td>Blackpool</td>\n",
       "      <td>FY4 1RA</td>\n",
       "    </tr>\n",
       "    <tr>\n",
       "      <th>1</th>\n",
       "      <td>49529298</td>\n",
       "      <td>Mr</td>\n",
       "      <td>Ted</td>\n",
       "      <td>Hospital patient</td>\n",
       "      <td></td>\n",
       "      <td>Noble</td>\n",
       "      <td>ted.noble@gmx.com</td>\n",
       "      <td>1948-12-01</td>\n",
       "      <td>1</td>\n",
       "      <td>149c Newgate Vale</td>\n",
       "      <td>Exeter</td>\n",
       "      <td>EX17 3LZ</td>\n",
       "    </tr>\n",
       "    <tr>\n",
       "      <th>2</th>\n",
       "      <td>49529299</td>\n",
       "      <td>Mr</td>\n",
       "      <td>Zachary</td>\n",
       "      <td>Hospital patient</td>\n",
       "      <td>E</td>\n",
       "      <td>Banks</td>\n",
       "      <td>zacharybanks@google.com</td>\n",
       "      <td>1943-12-16</td>\n",
       "      <td>1</td>\n",
       "      <td>246 Bishop Circus</td>\n",
       "      <td>Paisley</td>\n",
       "      <td>PA16 9HS</td>\n",
       "    </tr>\n",
       "    <tr>\n",
       "      <th>3</th>\n",
       "      <td>49529300</td>\n",
       "      <td>Dr</td>\n",
       "      <td>Lloyd</td>\n",
       "      <td>Consultant</td>\n",
       "      <td></td>\n",
       "      <td>Black</td>\n",
       "      <td>lloyd_black@google.com</td>\n",
       "      <td>1970-12-16</td>\n",
       "      <td>1</td>\n",
       "      <td>210 Leyton Grove</td>\n",
       "      <td>Telford</td>\n",
       "      <td>TF1 5SG</td>\n",
       "    </tr>\n",
       "  </tbody>\n",
       "</table>\n",
       "</div>"
      ],
      "text/plain": [
       "   customer_no salutation first_name              type initial  surname  \\\n",
       "0     49529297         Ms     Vickie          HomeCare          Montoya   \n",
       "1     49529298         Mr        Ted  Hospital patient            Noble   \n",
       "2     49529299         Mr    Zachary  Hospital patient       E    Banks   \n",
       "3     49529300         Dr      Lloyd        Consultant            Black   \n",
       "\n",
       "                      email        dob  status                    street  \\\n",
       "0  v.montoya@protonmail.com 1980-03-11       1  130b Wallis Grove Street   \n",
       "1         ted.noble@gmx.com 1948-12-01       1         149c Newgate Vale   \n",
       "2   zacharybanks@google.com 1943-12-16       1         246 Bishop Circus   \n",
       "3    lloyd_black@google.com 1970-12-16       1          210 Leyton Grove   \n",
       "\n",
       "        area     pcode  \n",
       "0  Blackpool   FY4 1RA  \n",
       "1     Exeter  EX17 3LZ  \n",
       "2    Paisley  PA16 9HS  \n",
       "3    Telford   TF1 5SG  "
      ]
     },
     "execution_count": 2,
     "metadata": {},
     "output_type": "execute_result"
    }
   ],
   "source": [
    "customers_to_generate = 300\n",
    "%piper customers <- generate_customers(rows=customers_to_generate, seed=42)\n",
    "head(customers)"
   ]
  },
  {
   "cell_type": "markdown",
   "metadata": {},
   "source": [
    "## products (skus)"
   ]
  },
  {
   "cell_type": "code",
   "execution_count": 3,
   "metadata": {
    "ExecuteTime": {
     "end_time": "2021-03-09T20:31:52.989886Z",
     "start_time": "2021-03-09T20:31:52.707813Z"
    }
   },
   "outputs": [
    {
     "name": "stderr",
     "output_type": "stream",
     "text": [
      "1079 rows, 3 columns\n"
     ]
    },
    {
     "data": {
      "text/html": [
       "<div>\n",
       "<style scoped>\n",
       "    .dataframe tbody tr th:only-of-type {\n",
       "        vertical-align: middle;\n",
       "    }\n",
       "\n",
       "    .dataframe tbody tr th {\n",
       "        vertical-align: top;\n",
       "    }\n",
       "\n",
       "    .dataframe thead th {\n",
       "        text-align: right;\n",
       "    }\n",
       "</style>\n",
       "<table border=\"1\" class=\"dataframe\">\n",
       "  <thead>\n",
       "    <tr style=\"text-align: right;\">\n",
       "      <th></th>\n",
       "      <th>n</th>\n",
       "      <th>%</th>\n",
       "      <th>cum %</th>\n",
       "    </tr>\n",
       "    <tr>\n",
       "      <th>generic_name</th>\n",
       "      <th></th>\n",
       "      <th></th>\n",
       "      <th></th>\n",
       "    </tr>\n",
       "  </thead>\n",
       "  <tbody>\n",
       "    <tr>\n",
       "      <th>MEDICAL FOOD</th>\n",
       "      <td>20</td>\n",
       "      <td>1.65</td>\n",
       "      <td>1.65</td>\n",
       "    </tr>\n",
       "    <tr>\n",
       "      <th>NUTRITIONAL SUPPLEMENT</th>\n",
       "      <td>12</td>\n",
       "      <td>0.99</td>\n",
       "      <td>2.64</td>\n",
       "    </tr>\n",
       "    <tr>\n",
       "      <th>MEDICAL DEVICE</th>\n",
       "      <td>8</td>\n",
       "      <td>0.66</td>\n",
       "      <td>3.30</td>\n",
       "    </tr>\n",
       "    <tr>\n",
       "      <th>ANTIHEMOPHILIC FACTOR (RECOMBINANT)</th>\n",
       "      <td>5</td>\n",
       "      <td>0.41</td>\n",
       "      <td>3.72</td>\n",
       "    </tr>\n",
       "    <tr>\n",
       "      <th>LAMOTRIGINE</th>\n",
       "      <td>5</td>\n",
       "      <td>0.41</td>\n",
       "      <td>4.13</td>\n",
       "    </tr>\n",
       "    <tr>\n",
       "      <th>MESALAMINE</th>\n",
       "      <td>4</td>\n",
       "      <td>0.33</td>\n",
       "      <td>4.46</td>\n",
       "    </tr>\n",
       "    <tr>\n",
       "      <th>TREPROSTINIL</th>\n",
       "      <td>3</td>\n",
       "      <td>0.25</td>\n",
       "      <td>4.71</td>\n",
       "    </tr>\n",
       "    <tr>\n",
       "      <th>CARBAMAZEPINE</th>\n",
       "      <td>3</td>\n",
       "      <td>0.25</td>\n",
       "      <td>4.95</td>\n",
       "    </tr>\n",
       "    <tr>\n",
       "      <th>CYCLOSPORINE</th>\n",
       "      <td>3</td>\n",
       "      <td>0.25</td>\n",
       "      <td>5.20</td>\n",
       "    </tr>\n",
       "    <tr>\n",
       "      <th>DEFERASIROX</th>\n",
       "      <td>3</td>\n",
       "      <td>0.25</td>\n",
       "      <td>5.45</td>\n",
       "    </tr>\n",
       "  </tbody>\n",
       "</table>\n",
       "</div>"
      ],
      "text/plain": [
       "                                      n     %  cum %\n",
       "generic_name                                        \n",
       "MEDICAL FOOD                         20  1.65   1.65\n",
       "NUTRITIONAL SUPPLEMENT               12  0.99   2.64\n",
       "MEDICAL DEVICE                        8  0.66   3.30\n",
       "ANTIHEMOPHILIC FACTOR (RECOMBINANT)   5  0.41   3.72\n",
       "LAMOTRIGINE                           5  0.41   4.13\n",
       "MESALAMINE                            4  0.33   4.46\n",
       "TREPROSTINIL                          3  0.25   4.71\n",
       "CARBAMAZEPINE                         3  0.25   4.95\n",
       "CYCLOSPORINE                          3  0.25   5.20\n",
       "DEFERASIROX                           3  0.25   5.45"
      ]
     },
     "execution_count": 3,
     "metadata": {},
     "output_type": "execute_result"
    }
   ],
   "source": [
    "%piper skus <- generate_skus()\n",
    "%piper skus >> count('generic_name') >> head(10)"
   ]
  },
  {
   "cell_type": "markdown",
   "metadata": {},
   "source": [
    "## orders"
   ]
  },
  {
   "cell_type": "code",
   "execution_count": 4,
   "metadata": {
    "ExecuteTime": {
     "end_time": "2021-03-09T20:32:07.328114Z",
     "start_time": "2021-03-09T20:31:52.992304Z"
    }
   },
   "outputs": [
    {
     "name": "stderr",
     "output_type": "stream",
     "text": [
      "3982 rows, 13 columns\n"
     ]
    },
    {
     "data": {
      "text/html": [
       "<div>\n",
       "<style scoped>\n",
       "    .dataframe tbody tr th:only-of-type {\n",
       "        vertical-align: middle;\n",
       "    }\n",
       "\n",
       "    .dataframe tbody tr th {\n",
       "        vertical-align: top;\n",
       "    }\n",
       "\n",
       "    .dataframe thead th {\n",
       "        text-align: right;\n",
       "    }\n",
       "</style>\n",
       "<table border=\"1\" class=\"dataframe\">\n",
       "  <thead>\n",
       "    <tr style=\"text-align: right;\">\n",
       "      <th></th>\n",
       "      <th>order_no</th>\n",
       "      <th>order_type</th>\n",
       "      <th>company</th>\n",
       "      <th>order_line</th>\n",
       "      <th>order_date</th>\n",
       "      <th>shipping_date</th>\n",
       "      <th>delivery_date</th>\n",
       "      <th>customer_no</th>\n",
       "      <th>product_code</th>\n",
       "      <th>description</th>\n",
       "      <th>order_quantity</th>\n",
       "      <th>unit_price</th>\n",
       "      <th>discount_%</th>\n",
       "    </tr>\n",
       "  </thead>\n",
       "  <tbody>\n",
       "    <tr>\n",
       "      <th>0</th>\n",
       "      <td>200000</td>\n",
       "      <td>ST</td>\n",
       "      <td>8500</td>\n",
       "      <td>1</td>\n",
       "      <td>2021-05-25</td>\n",
       "      <td>2021-05-27</td>\n",
       "      <td>2021-05-29</td>\n",
       "      <td>49529335</td>\n",
       "      <td>830-6901</td>\n",
       "      <td>CLEOCIN</td>\n",
       "      <td>14</td>\n",
       "      <td>14.7793</td>\n",
       "      <td>0.0</td>\n",
       "    </tr>\n",
       "    <tr>\n",
       "      <th>1</th>\n",
       "      <td>200000</td>\n",
       "      <td>ST</td>\n",
       "      <td>8500</td>\n",
       "      <td>2</td>\n",
       "      <td>2021-05-25</td>\n",
       "      <td>2021-05-27</td>\n",
       "      <td>2021-05-29</td>\n",
       "      <td>49529335</td>\n",
       "      <td>CZE-11987</td>\n",
       "      <td>CLEOCIN PHOSPHATE</td>\n",
       "      <td>18</td>\n",
       "      <td>1.9874</td>\n",
       "      <td>0.2</td>\n",
       "    </tr>\n",
       "    <tr>\n",
       "      <th>2</th>\n",
       "      <td>200000</td>\n",
       "      <td>ST</td>\n",
       "      <td>8500</td>\n",
       "      <td>3</td>\n",
       "      <td>2021-05-25</td>\n",
       "      <td>2021-05-27</td>\n",
       "      <td>2021-05-29</td>\n",
       "      <td>49529335</td>\n",
       "      <td>SAG-6045</td>\n",
       "      <td>BRYHALI LOTION</td>\n",
       "      <td>14</td>\n",
       "      <td>12.7523</td>\n",
       "      <td>0.0</td>\n",
       "    </tr>\n",
       "    <tr>\n",
       "      <th>3</th>\n",
       "      <td>200001</td>\n",
       "      <td>SK</td>\n",
       "      <td>8500</td>\n",
       "      <td>1</td>\n",
       "      <td>2021-11-26</td>\n",
       "      <td>2021-11-29</td>\n",
       "      <td>2021-12-02</td>\n",
       "      <td>49529368</td>\n",
       "      <td>GXN-7894</td>\n",
       "      <td>ZIEXTENZO</td>\n",
       "      <td>39</td>\n",
       "      <td>16.9829</td>\n",
       "      <td>0.0</td>\n",
       "    </tr>\n",
       "    <tr>\n",
       "      <th>4</th>\n",
       "      <td>200002</td>\n",
       "      <td>SO</td>\n",
       "      <td>8500</td>\n",
       "      <td>1</td>\n",
       "      <td>2021-04-20</td>\n",
       "      <td>2021-04-23</td>\n",
       "      <td>2021-04-26</td>\n",
       "      <td>49529430</td>\n",
       "      <td>32S-17329</td>\n",
       "      <td>SANCUSO</td>\n",
       "      <td>26</td>\n",
       "      <td>6.8108</td>\n",
       "      <td>0.1</td>\n",
       "    </tr>\n",
       "  </tbody>\n",
       "</table>\n",
       "</div>"
      ],
      "text/plain": [
       "   order_no order_type company  order_line order_date shipping_date  \\\n",
       "0    200000         ST    8500           1 2021-05-25    2021-05-27   \n",
       "1    200000         ST    8500           2 2021-05-25    2021-05-27   \n",
       "2    200000         ST    8500           3 2021-05-25    2021-05-27   \n",
       "3    200001         SK    8500           1 2021-11-26    2021-11-29   \n",
       "4    200002         SO    8500           1 2021-04-20    2021-04-23   \n",
       "\n",
       "  delivery_date  customer_no product_code         description  order_quantity  \\\n",
       "0    2021-05-29     49529335     830-6901            CLEOCIN               14   \n",
       "1    2021-05-29     49529335    CZE-11987  CLEOCIN PHOSPHATE               18   \n",
       "2    2021-05-29     49529335     SAG-6045     BRYHALI LOTION               14   \n",
       "3    2021-12-02     49529368     GXN-7894          ZIEXTENZO               39   \n",
       "4    2021-04-26     49529430    32S-17329            SANCUSO               26   \n",
       "\n",
       "   unit_price  discount_%  \n",
       "0     14.7793         0.0  \n",
       "1      1.9874         0.2  \n",
       "2     12.7523         0.0  \n",
       "3     16.9829         0.0  \n",
       "4      6.8108         0.1  "
      ]
     },
     "execution_count": 4,
     "metadata": {},
     "output_type": "execute_result"
    }
   ],
   "source": [
    "year = 2021\n",
    "number_orders = 2000\n",
    "%piper orders <- generate_orders(year=year, customers=customers, number_orders=number_orders, seed=41)\n",
    "head(orders, 5)"
   ]
  },
  {
   "cell_type": "markdown",
   "metadata": {},
   "source": [
    "### orders by order type"
   ]
  },
  {
   "cell_type": "code",
   "execution_count": 5,
   "metadata": {
    "ExecuteTime": {
     "end_time": "2021-03-09T20:32:07.365658Z",
     "start_time": "2021-03-09T20:32:07.329769Z"
    }
   },
   "outputs": [
    {
     "data": {
      "text/html": [
       "<div>\n",
       "<style scoped>\n",
       "    .dataframe tbody tr th:only-of-type {\n",
       "        vertical-align: middle;\n",
       "    }\n",
       "\n",
       "    .dataframe tbody tr th {\n",
       "        vertical-align: top;\n",
       "    }\n",
       "\n",
       "    .dataframe thead th {\n",
       "        text-align: right;\n",
       "    }\n",
       "</style>\n",
       "<table border=\"1\" class=\"dataframe\">\n",
       "  <thead>\n",
       "    <tr style=\"text-align: right;\">\n",
       "      <th></th>\n",
       "      <th>Total_lines</th>\n",
       "      <th>type_</th>\n",
       "      <th>description</th>\n",
       "    </tr>\n",
       "  </thead>\n",
       "  <tbody>\n",
       "    <tr>\n",
       "      <th>0</th>\n",
       "      <td>213</td>\n",
       "      <td>ST</td>\n",
       "      <td>Transfer Sales Order</td>\n",
       "    </tr>\n",
       "    <tr>\n",
       "      <th>1</th>\n",
       "      <td>323</td>\n",
       "      <td>SK</td>\n",
       "      <td>Sales Intercompany Order</td>\n",
       "    </tr>\n",
       "    <tr>\n",
       "      <th>2</th>\n",
       "      <td>696</td>\n",
       "      <td>SO</td>\n",
       "      <td>Sales Order</td>\n",
       "    </tr>\n",
       "    <tr>\n",
       "      <th>3</th>\n",
       "      <td>101</td>\n",
       "      <td>SD</td>\n",
       "      <td>Direct Ship Order</td>\n",
       "    </tr>\n",
       "    <tr>\n",
       "      <th>4</th>\n",
       "      <td>235</td>\n",
       "      <td>SQ</td>\n",
       "      <td>Quote Order</td>\n",
       "    </tr>\n",
       "    <tr>\n",
       "      <th>5</th>\n",
       "      <td>205</td>\n",
       "      <td>SB</td>\n",
       "      <td>Blanket Order</td>\n",
       "    </tr>\n",
       "    <tr>\n",
       "      <th>6</th>\n",
       "      <td>227</td>\n",
       "      <td>SI</td>\n",
       "      <td>Interbranch Sales Order</td>\n",
       "    </tr>\n",
       "    <tr>\n",
       "      <th>All</th>\n",
       "      <td>2000</td>\n",
       "      <td></td>\n",
       "      <td></td>\n",
       "    </tr>\n",
       "  </tbody>\n",
       "</table>\n",
       "</div>"
      ],
      "text/plain": [
       "     Total_lines type_               description\n",
       "0            213    ST      Transfer Sales Order\n",
       "1            323    SK  Sales Intercompany Order\n",
       "2            696    SO               Sales Order\n",
       "3            101    SD         Direct Ship Order\n",
       "4            235    SQ               Quote Order\n",
       "5            205    SB             Blanket Order\n",
       "6            227    SI   Interbranch Sales Order\n",
       "All         2000                                "
      ]
     },
     "execution_count": 5,
     "metadata": {},
     "output_type": "execute_result"
    }
   ],
   "source": [
    "%%piper\n",
    "\n",
    "orders \n",
    ">> group_by('order_type') \n",
    ">> summarise(Total_lines=('order_no', 'nunique'))\n",
    ">> inner_join(get_order_types(), left_on='order_type', right_on='type_')\n",
    ">> adorn(ignore_row_index=False).fillna('')"
   ]
  },
  {
   "cell_type": "markdown",
   "metadata": {},
   "source": [
    "### orders by customer"
   ]
  },
  {
   "cell_type": "code",
   "execution_count": 6,
   "metadata": {
    "ExecuteTime": {
     "end_time": "2021-03-09T20:32:07.404573Z",
     "start_time": "2021-03-09T20:32:07.372611Z"
    }
   },
   "outputs": [
    {
     "data": {
      "text/html": [
       "<div>\n",
       "<style scoped>\n",
       "    .dataframe tbody tr th:only-of-type {\n",
       "        vertical-align: middle;\n",
       "    }\n",
       "\n",
       "    .dataframe tbody tr th {\n",
       "        vertical-align: top;\n",
       "    }\n",
       "\n",
       "    .dataframe thead th {\n",
       "        text-align: right;\n",
       "    }\n",
       "</style>\n",
       "<table border=\"1\" class=\"dataframe\">\n",
       "  <thead>\n",
       "    <tr style=\"text-align: right;\">\n",
       "      <th></th>\n",
       "      <th>Total</th>\n",
       "    </tr>\n",
       "  </thead>\n",
       "  <tbody>\n",
       "    <tr>\n",
       "      <th>Customers</th>\n",
       "      <td>298</td>\n",
       "    </tr>\n",
       "  </tbody>\n",
       "</table>\n",
       "</div>"
      ],
      "text/plain": [
       "           Total\n",
       "Customers    298"
      ]
     },
     "execution_count": 6,
     "metadata": {},
     "output_type": "execute_result"
    }
   ],
   "source": [
    "%%piper\n",
    "\n",
    "orders \n",
    ">> group_by('customer_no') \n",
    ">> summarise(Total_lines=('order_no', 'nunique')).reset_index()\n",
    ">> summarise(Customers=('customer_no', 'nunique'))\n",
    ">> rename(columns={'customer_no': 'Total'})"
   ]
  },
  {
   "cell_type": "markdown",
   "metadata": {},
   "source": [
    "### order lines by order type"
   ]
  },
  {
   "cell_type": "code",
   "execution_count": 7,
   "metadata": {
    "ExecuteTime": {
     "end_time": "2021-03-09T20:32:07.438755Z",
     "start_time": "2021-03-09T20:32:07.407351Z"
    }
   },
   "outputs": [
    {
     "data": {
      "text/html": [
       "<div>\n",
       "<style scoped>\n",
       "    .dataframe tbody tr th:only-of-type {\n",
       "        vertical-align: middle;\n",
       "    }\n",
       "\n",
       "    .dataframe tbody tr th {\n",
       "        vertical-align: top;\n",
       "    }\n",
       "\n",
       "    .dataframe thead th {\n",
       "        text-align: right;\n",
       "    }\n",
       "</style>\n",
       "<table border=\"1\" class=\"dataframe\">\n",
       "  <thead>\n",
       "    <tr style=\"text-align: right;\">\n",
       "      <th></th>\n",
       "      <th>Total_lines</th>\n",
       "      <th>type_</th>\n",
       "      <th>description</th>\n",
       "    </tr>\n",
       "  </thead>\n",
       "  <tbody>\n",
       "    <tr>\n",
       "      <th>0</th>\n",
       "      <td>425</td>\n",
       "      <td>ST</td>\n",
       "      <td>Transfer Sales Order</td>\n",
       "    </tr>\n",
       "    <tr>\n",
       "      <th>1</th>\n",
       "      <td>639</td>\n",
       "      <td>SK</td>\n",
       "      <td>Sales Intercompany Order</td>\n",
       "    </tr>\n",
       "    <tr>\n",
       "      <th>2</th>\n",
       "      <td>1396</td>\n",
       "      <td>SO</td>\n",
       "      <td>Sales Order</td>\n",
       "    </tr>\n",
       "    <tr>\n",
       "      <th>3</th>\n",
       "      <td>201</td>\n",
       "      <td>SD</td>\n",
       "      <td>Direct Ship Order</td>\n",
       "    </tr>\n",
       "    <tr>\n",
       "      <th>4</th>\n",
       "      <td>469</td>\n",
       "      <td>SQ</td>\n",
       "      <td>Quote Order</td>\n",
       "    </tr>\n",
       "    <tr>\n",
       "      <th>5</th>\n",
       "      <td>400</td>\n",
       "      <td>SB</td>\n",
       "      <td>Blanket Order</td>\n",
       "    </tr>\n",
       "    <tr>\n",
       "      <th>6</th>\n",
       "      <td>452</td>\n",
       "      <td>SI</td>\n",
       "      <td>Interbranch Sales Order</td>\n",
       "    </tr>\n",
       "    <tr>\n",
       "      <th>All</th>\n",
       "      <td>3982</td>\n",
       "      <td></td>\n",
       "      <td></td>\n",
       "    </tr>\n",
       "  </tbody>\n",
       "</table>\n",
       "</div>"
      ],
      "text/plain": [
       "     Total_lines type_               description\n",
       "0            425    ST      Transfer Sales Order\n",
       "1            639    SK  Sales Intercompany Order\n",
       "2           1396    SO               Sales Order\n",
       "3            201    SD         Direct Ship Order\n",
       "4            469    SQ               Quote Order\n",
       "5            400    SB             Blanket Order\n",
       "6            452    SI   Interbranch Sales Order\n",
       "All         3982                                "
      ]
     },
     "execution_count": 7,
     "metadata": {},
     "output_type": "execute_result"
    }
   ],
   "source": [
    "%%piper\n",
    "\n",
    "orders \n",
    ">> group_by('order_type') \n",
    ">> summarise(Total_lines=('order_line', 'count'))\n",
    ">> inner_join(get_order_types(), left_on='order_type', right_on='type_')\n",
    ">> adorn(ignore_row_index=False).fillna('')"
   ]
  },
  {
   "cell_type": "markdown",
   "metadata": {},
   "source": [
    "### order lines by order number (order lines)"
   ]
  },
  {
   "cell_type": "code",
   "execution_count": 8,
   "metadata": {
    "ExecuteTime": {
     "end_time": "2021-03-09T20:32:07.459680Z",
     "start_time": "2021-03-09T20:32:07.440814Z"
    }
   },
   "outputs": [
    {
     "data": {
      "text/html": [
       "<div>\n",
       "<style scoped>\n",
       "    .dataframe tbody tr th:only-of-type {\n",
       "        vertical-align: middle;\n",
       "    }\n",
       "\n",
       "    .dataframe tbody tr th {\n",
       "        vertical-align: top;\n",
       "    }\n",
       "\n",
       "    .dataframe thead th {\n",
       "        text-align: right;\n",
       "    }\n",
       "</style>\n",
       "<table border=\"1\" class=\"dataframe\">\n",
       "  <thead>\n",
       "    <tr style=\"text-align: right;\">\n",
       "      <th></th>\n",
       "      <th>Total_lines</th>\n",
       "    </tr>\n",
       "  </thead>\n",
       "  <tbody>\n",
       "    <tr>\n",
       "      <th>200000</th>\n",
       "      <td>3</td>\n",
       "    </tr>\n",
       "    <tr>\n",
       "      <th>200001</th>\n",
       "      <td>1</td>\n",
       "    </tr>\n",
       "    <tr>\n",
       "      <th>200002</th>\n",
       "      <td>2</td>\n",
       "    </tr>\n",
       "    <tr>\n",
       "      <th>200003</th>\n",
       "      <td>1</td>\n",
       "    </tr>\n",
       "    <tr>\n",
       "      <th>200004</th>\n",
       "      <td>1</td>\n",
       "    </tr>\n",
       "    <tr>\n",
       "      <th>...</th>\n",
       "      <td>...</td>\n",
       "    </tr>\n",
       "    <tr>\n",
       "      <th>201996</th>\n",
       "      <td>1</td>\n",
       "    </tr>\n",
       "    <tr>\n",
       "      <th>201997</th>\n",
       "      <td>2</td>\n",
       "    </tr>\n",
       "    <tr>\n",
       "      <th>201998</th>\n",
       "      <td>3</td>\n",
       "    </tr>\n",
       "    <tr>\n",
       "      <th>201999</th>\n",
       "      <td>2</td>\n",
       "    </tr>\n",
       "    <tr>\n",
       "      <th>All</th>\n",
       "      <td>3982</td>\n",
       "    </tr>\n",
       "  </tbody>\n",
       "</table>\n",
       "<p>2001 rows × 1 columns</p>\n",
       "</div>"
      ],
      "text/plain": [
       "        Total_lines\n",
       "200000            3\n",
       "200001            1\n",
       "200002            2\n",
       "200003            1\n",
       "200004            1\n",
       "...             ...\n",
       "201996            1\n",
       "201997            2\n",
       "201998            3\n",
       "201999            2\n",
       "All            3982\n",
       "\n",
       "[2001 rows x 1 columns]"
      ]
     },
     "execution_count": 8,
     "metadata": {},
     "output_type": "execute_result"
    }
   ],
   "source": [
    "%%piper\n",
    "\n",
    "orders \n",
    ">> group_by('order_no') \n",
    ">> summarise(Total_lines=('order_line', 'max'))\n",
    ">> adorn()"
   ]
  },
  {
   "cell_type": "markdown",
   "metadata": {},
   "source": [
    "### order lines by product"
   ]
  },
  {
   "cell_type": "code",
   "execution_count": 9,
   "metadata": {
    "ExecuteTime": {
     "end_time": "2021-03-09T20:32:07.505438Z",
     "start_time": "2021-03-09T20:32:07.462010Z"
    }
   },
   "outputs": [
    {
     "name": "stderr",
     "output_type": "stream",
     "text": [
      "1168 rows, 2 columns\n"
     ]
    },
    {
     "data": {
      "text/html": [
       "<div>\n",
       "<style scoped>\n",
       "    .dataframe tbody tr th:only-of-type {\n",
       "        vertical-align: middle;\n",
       "    }\n",
       "\n",
       "    .dataframe tbody tr th {\n",
       "        vertical-align: top;\n",
       "    }\n",
       "\n",
       "    .dataframe thead th {\n",
       "        text-align: right;\n",
       "    }\n",
       "</style>\n",
       "<table border=\"1\" class=\"dataframe\">\n",
       "  <thead>\n",
       "    <tr style=\"text-align: right;\">\n",
       "      <th></th>\n",
       "      <th></th>\n",
       "      <th>total_orders</th>\n",
       "      <th>total_order_lines</th>\n",
       "    </tr>\n",
       "    <tr>\n",
       "      <th>product_code</th>\n",
       "      <th>description</th>\n",
       "      <th></th>\n",
       "      <th></th>\n",
       "    </tr>\n",
       "  </thead>\n",
       "  <tbody>\n",
       "    <tr>\n",
       "      <th>9QU-16182</th>\n",
       "      <th>TRILEPTAL</th>\n",
       "      <td>10</td>\n",
       "      <td>10</td>\n",
       "    </tr>\n",
       "    <tr>\n",
       "      <th>K5J-1464</th>\n",
       "      <th>PREVNAR 13</th>\n",
       "      <td>9</td>\n",
       "      <td>9</td>\n",
       "    </tr>\n",
       "    <tr>\n",
       "      <th>RUU-18247</th>\n",
       "      <th>PEGASYS</th>\n",
       "      <td>9</td>\n",
       "      <td>9</td>\n",
       "    </tr>\n",
       "    <tr>\n",
       "      <th>M93-7499</th>\n",
       "      <th>ZEPZELCA</th>\n",
       "      <td>9</td>\n",
       "      <td>9</td>\n",
       "    </tr>\n",
       "    <tr>\n",
       "      <th>GTW-5174</th>\n",
       "      <th>COLCRYS TABLET</th>\n",
       "      <td>9</td>\n",
       "      <td>9</td>\n",
       "    </tr>\n",
       "    <tr>\n",
       "      <th>GMD-8753</th>\n",
       "      <th>KADCYLA</th>\n",
       "      <td>9</td>\n",
       "      <td>9</td>\n",
       "    </tr>\n",
       "    <tr>\n",
       "      <th>1CD-7598</th>\n",
       "      <th>GLYXAMBI TABLET</th>\n",
       "      <td>9</td>\n",
       "      <td>9</td>\n",
       "    </tr>\n",
       "    <tr>\n",
       "      <th>GDX-12266</th>\n",
       "      <th>LIBTAYO INJECTION</th>\n",
       "      <td>8</td>\n",
       "      <td>8</td>\n",
       "    </tr>\n",
       "    <tr>\n",
       "      <th>NW3-5902</th>\n",
       "      <th>LETAIRIS TABLETS</th>\n",
       "      <td>8</td>\n",
       "      <td>8</td>\n",
       "    </tr>\n",
       "    <tr>\n",
       "      <th>K9M-5386</th>\n",
       "      <th>COMPLEAT PEDIATRIC ORGANIC BLENDS</th>\n",
       "      <td>8</td>\n",
       "      <td>8</td>\n",
       "    </tr>\n",
       "  </tbody>\n",
       "</table>\n",
       "</div>"
      ],
      "text/plain": [
       "                                                 total_orders  \\\n",
       "product_code description                                        \n",
       "9QU-16182    TRILEPTAL                                     10   \n",
       "K5J-1464     PREVNAR 13                                     9   \n",
       "RUU-18247    PEGASYS                                        9   \n",
       "M93-7499     ZEPZELCA                                       9   \n",
       "GTW-5174     COLCRYS TABLET                                 9   \n",
       "GMD-8753     KADCYLA                                        9   \n",
       "1CD-7598     GLYXAMBI TABLET                                9   \n",
       "GDX-12266    LIBTAYO INJECTION                              8   \n",
       "NW3-5902     LETAIRIS TABLETS                               8   \n",
       "K9M-5386     COMPLEAT PEDIATRIC ORGANIC BLENDS              8   \n",
       "\n",
       "                                                 total_order_lines  \n",
       "product_code description                                            \n",
       "9QU-16182    TRILEPTAL                                          10  \n",
       "K5J-1464     PREVNAR 13                                          9  \n",
       "RUU-18247    PEGASYS                                             9  \n",
       "M93-7499     ZEPZELCA                                            9  \n",
       "GTW-5174     COLCRYS TABLET                                      9  \n",
       "GMD-8753     KADCYLA                                             9  \n",
       "1CD-7598     GLYXAMBI TABLET                                     9  \n",
       "GDX-12266    LIBTAYO INJECTION                                   8  \n",
       "NW3-5902     LETAIRIS TABLETS                                    8  \n",
       "K9M-5386     COMPLEAT PEDIATRIC ORGANIC BLENDS                   8  "
      ]
     },
     "execution_count": 9,
     "metadata": {},
     "output_type": "execute_result"
    }
   ],
   "source": [
    "gx = (orders.groupby(['product_code', 'description'])\n",
    "            .agg(total_orders=('order_no', 'nunique'),\n",
    "                 total_order_lines=('order_no', 'count'))\n",
    "            .sort_values('total_orders', ascending=False))\n",
    "head(gx, 10)"
   ]
  },
  {
   "cell_type": "markdown",
   "metadata": {},
   "source": [
    "### orders by month plot()"
   ]
  },
  {
   "cell_type": "code",
   "execution_count": 10,
   "metadata": {
    "ExecuteTime": {
     "end_time": "2021-03-09T20:32:07.900068Z",
     "start_time": "2021-03-09T20:32:07.509646Z"
    }
   },
   "outputs": [
    {
     "data": {
      "image/png": "[encoded data removed]",
      "text/plain": [
       "<Figure size 1080x432 with 1 Axes>"
      ]
     },
     "metadata": {},
     "output_type": "display_data"
    }
   ],
   "source": [
    "%piper gx <- orders >> group_by('order_date') >> summarise(Total_lines=('order_no', 'nunique'))\n",
    "\n",
    "gx = gx.resample('M').sum()\n",
    "gx.index = gx.index.strftime('%b %Y')\n",
    "gx.plot(kind='bar', rot=0, figsize=(15, 6));"
   ]
  },
  {
   "cell_type": "markdown",
   "metadata": {},
   "source": [
    "## customer/orders (merged data)"
   ]
  },
  {
   "cell_type": "code",
   "execution_count": 11,
   "metadata": {
    "ExecuteTime": {
     "end_time": "2021-03-09T20:32:07.946398Z",
     "start_time": "2021-03-09T20:32:07.902471Z"
    }
   },
   "outputs": [
    {
     "name": "stderr",
     "output_type": "stream",
     "text": [
      "3982 rows, 24 columns\n"
     ]
    },
    {
     "data": {
      "text/html": [
       "<div>\n",
       "<style scoped>\n",
       "    .dataframe tbody tr th:only-of-type {\n",
       "        vertical-align: middle;\n",
       "    }\n",
       "\n",
       "    .dataframe tbody tr th {\n",
       "        vertical-align: top;\n",
       "    }\n",
       "\n",
       "    .dataframe thead th {\n",
       "        text-align: right;\n",
       "    }\n",
       "</style>\n",
       "<table border=\"1\" class=\"dataframe\">\n",
       "  <thead>\n",
       "    <tr style=\"text-align: right;\">\n",
       "      <th></th>\n",
       "      <th>order_no</th>\n",
       "      <th>order_type</th>\n",
       "      <th>company</th>\n",
       "      <th>order_line</th>\n",
       "      <th>order_date</th>\n",
       "      <th>shipping_date</th>\n",
       "      <th>delivery_date</th>\n",
       "      <th>customer_no</th>\n",
       "      <th>product_code</th>\n",
       "      <th>description</th>\n",
       "      <th>order_quantity</th>\n",
       "      <th>unit_price</th>\n",
       "      <th>discount_%</th>\n",
       "      <th>salutation</th>\n",
       "      <th>first_name</th>\n",
       "      <th>type</th>\n",
       "      <th>initial</th>\n",
       "      <th>surname</th>\n",
       "      <th>email</th>\n",
       "      <th>dob</th>\n",
       "      <th>status</th>\n",
       "      <th>street</th>\n",
       "      <th>area</th>\n",
       "      <th>pcode</th>\n",
       "    </tr>\n",
       "  </thead>\n",
       "  <tbody>\n",
       "    <tr>\n",
       "      <th>0</th>\n",
       "      <td>200000</td>\n",
       "      <td>ST</td>\n",
       "      <td>8500</td>\n",
       "      <td>1</td>\n",
       "      <td>2021-05-25</td>\n",
       "      <td>2021-05-27</td>\n",
       "      <td>2021-05-29</td>\n",
       "      <td>49529335</td>\n",
       "      <td>830-6901</td>\n",
       "      <td>CLEOCIN</td>\n",
       "      <td>14</td>\n",
       "      <td>14.7793</td>\n",
       "      <td>0.0</td>\n",
       "      <td>Ms</td>\n",
       "      <td>Jeanette</td>\n",
       "      <td>HomeCare</td>\n",
       "      <td></td>\n",
       "      <td>Paul</td>\n",
       "      <td>j.paul@gmx.com</td>\n",
       "      <td>1949-06-20</td>\n",
       "      <td>0</td>\n",
       "      <td>14c Hillview Place</td>\n",
       "      <td>Bristol</td>\n",
       "      <td>BS16 6BZ</td>\n",
       "    </tr>\n",
       "    <tr>\n",
       "      <th>1</th>\n",
       "      <td>200000</td>\n",
       "      <td>ST</td>\n",
       "      <td>8500</td>\n",
       "      <td>2</td>\n",
       "      <td>2021-05-25</td>\n",
       "      <td>2021-05-27</td>\n",
       "      <td>2021-05-29</td>\n",
       "      <td>49529335</td>\n",
       "      <td>CZE-11987</td>\n",
       "      <td>CLEOCIN PHOSPHATE</td>\n",
       "      <td>18</td>\n",
       "      <td>1.9874</td>\n",
       "      <td>0.2</td>\n",
       "      <td>Ms</td>\n",
       "      <td>Jeanette</td>\n",
       "      <td>HomeCare</td>\n",
       "      <td></td>\n",
       "      <td>Paul</td>\n",
       "      <td>j.paul@gmx.com</td>\n",
       "      <td>1949-06-20</td>\n",
       "      <td>0</td>\n",
       "      <td>14c Hillview Place</td>\n",
       "      <td>Bristol</td>\n",
       "      <td>BS16 6BZ</td>\n",
       "    </tr>\n",
       "    <tr>\n",
       "      <th>2</th>\n",
       "      <td>200000</td>\n",
       "      <td>ST</td>\n",
       "      <td>8500</td>\n",
       "      <td>3</td>\n",
       "      <td>2021-05-25</td>\n",
       "      <td>2021-05-27</td>\n",
       "      <td>2021-05-29</td>\n",
       "      <td>49529335</td>\n",
       "      <td>SAG-6045</td>\n",
       "      <td>BRYHALI LOTION</td>\n",
       "      <td>14</td>\n",
       "      <td>12.7523</td>\n",
       "      <td>0.0</td>\n",
       "      <td>Ms</td>\n",
       "      <td>Jeanette</td>\n",
       "      <td>HomeCare</td>\n",
       "      <td></td>\n",
       "      <td>Paul</td>\n",
       "      <td>j.paul@gmx.com</td>\n",
       "      <td>1949-06-20</td>\n",
       "      <td>0</td>\n",
       "      <td>14c Hillview Place</td>\n",
       "      <td>Bristol</td>\n",
       "      <td>BS16 6BZ</td>\n",
       "    </tr>\n",
       "  </tbody>\n",
       "</table>\n",
       "</div>"
      ],
      "text/plain": [
       "   order_no order_type company  order_line order_date shipping_date  \\\n",
       "0    200000         ST    8500           1 2021-05-25    2021-05-27   \n",
       "1    200000         ST    8500           2 2021-05-25    2021-05-27   \n",
       "2    200000         ST    8500           3 2021-05-25    2021-05-27   \n",
       "\n",
       "  delivery_date  customer_no product_code         description  order_quantity  \\\n",
       "0    2021-05-29     49529335     830-6901            CLEOCIN               14   \n",
       "1    2021-05-29     49529335    CZE-11987  CLEOCIN PHOSPHATE               18   \n",
       "2    2021-05-29     49529335     SAG-6045     BRYHALI LOTION               14   \n",
       "\n",
       "   unit_price  discount_% salutation first_name      type initial surname  \\\n",
       "0     14.7793         0.0         Ms   Jeanette  HomeCare            Paul   \n",
       "1      1.9874         0.2         Ms   Jeanette  HomeCare            Paul   \n",
       "2     12.7523         0.0         Ms   Jeanette  HomeCare            Paul   \n",
       "\n",
       "            email        dob  status              street     area     pcode  \n",
       "0  j.paul@gmx.com 1949-06-20       0  14c Hillview Place  Bristol  BS16 6BZ  \n",
       "1  j.paul@gmx.com 1949-06-20       0  14c Hillview Place  Bristol  BS16 6BZ  \n",
       "2  j.paul@gmx.com 1949-06-20       0  14c Hillview Place  Bristol  BS16 6BZ  "
      ]
     },
     "execution_count": 11,
     "metadata": {},
     "output_type": "execute_result"
    }
   ],
   "source": [
    "%piper customer_orders <- orders >> inner_join(customers)\n",
    "head(customer_orders, 3)"
   ]
  },
  {
   "cell_type": "markdown",
   "metadata": {},
   "source": [
    "## customer_orders - set data items to fix (demo)"
   ]
  },
  {
   "cell_type": "code",
   "execution_count": 12,
   "metadata": {
    "ExecuteTime": {
     "end_time": "2021-03-09T20:32:07.954742Z",
     "start_time": "2021-03-09T20:32:07.948978Z"
    }
   },
   "outputs": [
    {
     "data": {
      "text/plain": [
       "\"['order_no', 'order_type', 'company', 'order_line', 'order_date', 'shipping_date', 'delivery_date', 'customer_no', 'product_code', 'description', 'order_quantity', 'unit_price', 'discount_%', 'salutation', 'first_name', 'type', 'initial', 'surname', 'email', 'dob', 'status', 'street', 'area', 'pcode']\""
      ]
     },
     "execution_count": 12,
     "metadata": {},
     "output_type": "execute_result"
    }
   ],
   "source": [
    "columns(customer_orders, astype='text')"
   ]
  },
  {
   "cell_type": "code",
   "execution_count": 13,
   "metadata": {
    "ExecuteTime": {
     "end_time": "2021-03-09T20:32:08.108380Z",
     "start_time": "2021-03-09T20:32:07.960240Z"
    }
   },
   "outputs": [
    {
     "name": "stderr",
     "output_type": "stream",
     "text": [
      "3982 rows, 13 columns\n"
     ]
    },
    {
     "data": {
      "text/html": [
       "<div>\n",
       "<style scoped>\n",
       "    .dataframe tbody tr th:only-of-type {\n",
       "        vertical-align: middle;\n",
       "    }\n",
       "\n",
       "    .dataframe tbody tr th {\n",
       "        vertical-align: top;\n",
       "    }\n",
       "\n",
       "    .dataframe thead th {\n",
       "        text-align: right;\n",
       "    }\n",
       "</style>\n",
       "<table border=\"1\" class=\"dataframe\">\n",
       "  <thead>\n",
       "    <tr style=\"text-align: right;\">\n",
       "      <th></th>\n",
       "      <th>order_no</th>\n",
       "      <th>order_type</th>\n",
       "      <th>company</th>\n",
       "      <th>order_line</th>\n",
       "      <th>order_date</th>\n",
       "      <th>shipping_date</th>\n",
       "      <th>delivery_date</th>\n",
       "      <th>customer_no</th>\n",
       "      <th>product_code</th>\n",
       "      <th>description</th>\n",
       "      <th>order_quantity</th>\n",
       "      <th>unit_price</th>\n",
       "      <th>discount_%</th>\n",
       "    </tr>\n",
       "  </thead>\n",
       "  <tbody>\n",
       "    <tr>\n",
       "      <th>0</th>\n",
       "      <td>200000</td>\n",
       "      <td>ST</td>\n",
       "      <td>8500</td>\n",
       "      <td>1</td>\n",
       "      <td>121145</td>\n",
       "      <td>121147</td>\n",
       "      <td>121149</td>\n",
       "      <td>49529335</td>\n",
       "      <td>830-6901</td>\n",
       "      <td>CLEOCIN</td>\n",
       "      <td>14</td>\n",
       "      <td>14.7793</td>\n",
       "      <td>0.0</td>\n",
       "    </tr>\n",
       "    <tr>\n",
       "      <th>1</th>\n",
       "      <td>200000</td>\n",
       "      <td>ST</td>\n",
       "      <td>8500</td>\n",
       "      <td>2</td>\n",
       "      <td>121145</td>\n",
       "      <td>121147</td>\n",
       "      <td>121149</td>\n",
       "      <td>49529335</td>\n",
       "      <td>CZE-11987</td>\n",
       "      <td>CLEOCIN PHOSPHATE</td>\n",
       "      <td>18</td>\n",
       "      <td>1.9874</td>\n",
       "      <td>0.2</td>\n",
       "    </tr>\n",
       "    <tr>\n",
       "      <th>2</th>\n",
       "      <td>200000</td>\n",
       "      <td>ST</td>\n",
       "      <td>8500</td>\n",
       "      <td>3</td>\n",
       "      <td>121145</td>\n",
       "      <td>121147</td>\n",
       "      <td>121149</td>\n",
       "      <td>49529335</td>\n",
       "      <td>SAG-6045</td>\n",
       "      <td>BRYHALI LOTION</td>\n",
       "      <td>14</td>\n",
       "      <td>12.7523</td>\n",
       "      <td>0.0</td>\n",
       "    </tr>\n",
       "    <tr>\n",
       "      <th>6</th>\n",
       "      <td>200001</td>\n",
       "      <td>SK</td>\n",
       "      <td>8500</td>\n",
       "      <td>1</td>\n",
       "      <td>121330</td>\n",
       "      <td>121333</td>\n",
       "      <td>121336</td>\n",
       "      <td>49529368</td>\n",
       "      <td>GXN-7894</td>\n",
       "      <td>ZIEXTENZO</td>\n",
       "      <td>39</td>\n",
       "      <td>16.9829</td>\n",
       "      <td>0.0</td>\n",
       "    </tr>\n",
       "    <tr>\n",
       "      <th>14</th>\n",
       "      <td>200002</td>\n",
       "      <td>SO</td>\n",
       "      <td>8500</td>\n",
       "      <td>1</td>\n",
       "      <td>121110</td>\n",
       "      <td>121113</td>\n",
       "      <td>121116</td>\n",
       "      <td>49529430</td>\n",
       "      <td>32S-17329</td>\n",
       "      <td>SANCUSO</td>\n",
       "      <td>26</td>\n",
       "      <td>6.8108</td>\n",
       "      <td>0.1</td>\n",
       "    </tr>\n",
       "  </tbody>\n",
       "</table>\n",
       "</div>"
      ],
      "text/plain": [
       "    order_no order_type company  order_line  order_date  shipping_date  \\\n",
       "0     200000         ST    8500           1      121145         121147   \n",
       "1     200000         ST    8500           2      121145         121147   \n",
       "2     200000         ST    8500           3      121145         121147   \n",
       "6     200001         SK    8500           1      121330         121333   \n",
       "14    200002         SO    8500           1      121110         121113   \n",
       "\n",
       "    delivery_date        customer_no          product_code  \\\n",
       "0          121149      49529335              830-6901        \n",
       "1          121149      49529335             CZE-11987        \n",
       "2          121149      49529335              SAG-6045        \n",
       "6          121336      49529368              GXN-7894        \n",
       "14         121116      49529430             32S-17329        \n",
       "\n",
       "           description  order_quantity  unit_price  discount_%  \n",
       "0             CLEOCIN               14     14.7793         0.0  \n",
       "1   CLEOCIN PHOSPHATE               18      1.9874         0.2  \n",
       "2      BRYHALI LOTION               14     12.7523         0.0  \n",
       "6           ZIEXTENZO               39     16.9829         0.0  \n",
       "14            SANCUSO               26      6.8108         0.1  "
      ]
     },
     "execution_count": 13,
     "metadata": {},
     "output_type": "execute_result"
    }
   ],
   "source": [
    "orders_tofix = customer_orders.copy(deep=True)\n",
    "\n",
    "# Convert dates to JDE Julian format\n",
    "# Note: Convert from Julian to Gregorian in Excel::\n",
    "# =DATE(INT(E2/1000)+1900,MONTH(+E2-INT(E2/1000)*1000),DAY(+E2-INT(E2/1000)*1000))\n",
    "cols = ['order_date', 'shipping_date', 'delivery_date']\n",
    "for col in cols:\n",
    "    orders_tofix[col] = orders_tofix[col].apply(to_julian)\n",
    "\n",
    "# Remove customer data details\n",
    "orders_tofix = orders_tofix.loc[:, 'order_no':'discount_%']\n",
    "\n",
    "# Add in annoying blanks into product and customer codes (VLOOKUP challenge)\n",
    "orders_tofix.customer_no = '    ' + orders_tofix.customer_no.astype(str) + '     '\n",
    "orders_tofix.product_code = '      ' + orders_tofix.product_code + '     '\n",
    "\n",
    "# Sort data\n",
    "orders_tofix = orders_tofix.sort_values(['order_no', 'order_line'])\n",
    "\n",
    "# Check first few rows\n",
    "head(orders_tofix, 5)"
   ]
  },
  {
   "cell_type": "markdown",
   "metadata": {},
   "source": [
    "# Export"
   ]
  },
  {
   "cell_type": "markdown",
   "metadata": {},
   "source": [
    "## (xl) customers, skus and order data"
   ]
  },
  {
   "cell_type": "code",
   "execution_count": 14,
   "metadata": {
    "ExecuteTime": {
     "end_time": "2021-03-09T20:32:09.541794Z",
     "start_time": "2021-03-09T20:32:08.110914Z"
    }
   },
   "outputs": [
    {
     "data": {
      "text/html": [
       "<a href=\"outputs/2021 customers, products, orders.xlsx\">outputs/2021 customers, products, orders.xlsx</a>"
      ],
      "text/plain": [
       "<IPython.core.display.HTML object>"
      ]
     },
     "metadata": {},
     "output_type": "display_data"
    },
    {
     "name": "stderr",
     "output_type": "stream",
     "text": [
      "Workbook: outputs/2021 customers, products, orders.xlsx\n",
      "<< sheet mode >>\n",
      "Sheet (range): customers ($A$1:$L$301)\n",
      "Sheet (range): products ($A$1:$G$1212)\n",
      "Sheet (range): orders ($A$1:$M$3983)\n",
      "Completed.\n"
     ]
    }
   ],
   "source": [
    "xlfile = f'outputs/{year} customers, products, orders'\n",
    "wb = WorkBook(xlfile, ts_prefix=False)\n",
    "ws = wb.add_sheet(customers, sheet_name='customers')\n",
    "ws = wb.add_sheet(skus, sheet_name='products')\n",
    "ws = wb.add_sheet(orders, sheet_name='orders')   \n",
    "wb.close()"
   ]
  },
  {
   "cell_type": "markdown",
   "metadata": {},
   "source": [
    "## (xl) orders (to fix), customers, skus, order types"
   ]
  },
  {
   "cell_type": "code",
   "execution_count": 15,
   "metadata": {
    "ExecuteTime": {
     "end_time": "2021-03-09T20:32:10.618369Z",
     "start_time": "2021-03-09T20:32:09.543591Z"
    }
   },
   "outputs": [
    {
     "data": {
      "text/html": [
       "<a href=\"outputs/2021 sales orders data clean.xlsx\">outputs/2021 sales orders data clean.xlsx</a>"
      ],
      "text/plain": [
       "<IPython.core.display.HTML object>"
      ]
     },
     "metadata": {},
     "output_type": "display_data"
    },
    {
     "name": "stderr",
     "output_type": "stream",
     "text": [
      "Workbook: outputs/2021 sales orders data clean.xlsx\n",
      "<< sheet mode >>\n",
      "Sheet (range): Sales orders ($A$1:$M$3983)\n",
      "Sheet (range): Customers ($A$1:$L$301)\n",
      "Sheet (range): Products ($A$1:$G$1212)\n",
      "Sheet (range): Order Types ($A$1:$B$8)\n",
      "Completed.\n"
     ]
    }
   ],
   "source": [
    "xlfile = f'outputs/{year} sales orders data clean'\n",
    "wb = WorkBook(xlfile, ts_prefix=False)\n",
    "ws = wb.add_sheet(orders_tofix, sheet_name='Sales orders')\n",
    "ws = wb.add_sheet(customers, sheet_name='Customers')\n",
    "ws = wb.add_sheet(skus, sheet_name='Products')\n",
    "ws = wb.add_sheet(get_order_types(), sheet_name='Order Types') \n",
    "wb.close()"
   ]
  },
  {
   "cell_type": "markdown",
   "metadata": {},
   "source": [
    "## (xl) orders: Split data by order type"
   ]
  },
  {
   "cell_type": "code",
   "execution_count": 16,
   "metadata": {
    "ExecuteTime": {
     "end_time": "2021-03-09T20:32:10.644172Z",
     "start_time": "2021-03-09T20:32:10.621033Z"
    }
   },
   "outputs": [],
   "source": [
    "%%piper \n",
    "\n",
    "df_order_types <- customer_orders\n",
    ">> count('order_type')\n",
    ">> inner_join(get_order_types(), left_on='order_type', right_on='type_')\n",
    ">> rename(columns={'type_': 'order_type'})"
   ]
  },
  {
   "cell_type": "code",
   "execution_count": 17,
   "metadata": {
    "ExecuteTime": {
     "end_time": "2021-03-09T20:32:10.660653Z",
     "start_time": "2021-03-09T20:32:10.645721Z"
    }
   },
   "outputs": [
    {
     "data": {
      "text/html": [
       "<div>\n",
       "<style scoped>\n",
       "    .dataframe tbody tr th:only-of-type {\n",
       "        vertical-align: middle;\n",
       "    }\n",
       "\n",
       "    .dataframe tbody tr th {\n",
       "        vertical-align: top;\n",
       "    }\n",
       "\n",
       "    .dataframe thead th {\n",
       "        text-align: right;\n",
       "    }\n",
       "</style>\n",
       "<table border=\"1\" class=\"dataframe\">\n",
       "  <thead>\n",
       "    <tr style=\"text-align: right;\">\n",
       "      <th></th>\n",
       "      <th>n</th>\n",
       "      <th>%</th>\n",
       "      <th>cum %</th>\n",
       "      <th>order_type</th>\n",
       "      <th>description</th>\n",
       "    </tr>\n",
       "  </thead>\n",
       "  <tbody>\n",
       "    <tr>\n",
       "      <th>0</th>\n",
       "      <td>1396</td>\n",
       "      <td>35.06</td>\n",
       "      <td>35.06</td>\n",
       "      <td>SO</td>\n",
       "      <td>Sales Order</td>\n",
       "    </tr>\n",
       "    <tr>\n",
       "      <th>1</th>\n",
       "      <td>639</td>\n",
       "      <td>16.05</td>\n",
       "      <td>51.10</td>\n",
       "      <td>SK</td>\n",
       "      <td>Sales Intercompany Order</td>\n",
       "    </tr>\n",
       "    <tr>\n",
       "      <th>2</th>\n",
       "      <td>469</td>\n",
       "      <td>11.78</td>\n",
       "      <td>62.88</td>\n",
       "      <td>SQ</td>\n",
       "      <td>Quote Order</td>\n",
       "    </tr>\n",
       "    <tr>\n",
       "      <th>3</th>\n",
       "      <td>452</td>\n",
       "      <td>11.35</td>\n",
       "      <td>74.23</td>\n",
       "      <td>SI</td>\n",
       "      <td>Interbranch Sales Order</td>\n",
       "    </tr>\n",
       "    <tr>\n",
       "      <th>4</th>\n",
       "      <td>425</td>\n",
       "      <td>10.67</td>\n",
       "      <td>84.91</td>\n",
       "      <td>ST</td>\n",
       "      <td>Transfer Sales Order</td>\n",
       "    </tr>\n",
       "    <tr>\n",
       "      <th>5</th>\n",
       "      <td>400</td>\n",
       "      <td>10.05</td>\n",
       "      <td>94.95</td>\n",
       "      <td>SB</td>\n",
       "      <td>Blanket Order</td>\n",
       "    </tr>\n",
       "    <tr>\n",
       "      <th>6</th>\n",
       "      <td>201</td>\n",
       "      <td>5.05</td>\n",
       "      <td>100.00</td>\n",
       "      <td>SD</td>\n",
       "      <td>Direct Ship Order</td>\n",
       "    </tr>\n",
       "  </tbody>\n",
       "</table>\n",
       "</div>"
      ],
      "text/plain": [
       "      n      %   cum % order_type               description\n",
       "0  1396  35.06   35.06         SO               Sales Order\n",
       "1   639  16.05   51.10         SK  Sales Intercompany Order\n",
       "2   469  11.78   62.88         SQ               Quote Order\n",
       "3   452  11.35   74.23         SI   Interbranch Sales Order\n",
       "4   425  10.67   84.91         ST      Transfer Sales Order\n",
       "5   400  10.05   94.95         SB             Blanket Order\n",
       "6   201   5.05  100.00         SD         Direct Ship Order"
      ]
     },
     "execution_count": 17,
     "metadata": {},
     "output_type": "execute_result"
    }
   ],
   "source": [
    "df_order_types"
   ]
  },
  {
   "cell_type": "markdown",
   "metadata": {},
   "source": [
    "### (xl) orders: multiple WorkBooks -> one workbook per order type"
   ]
  },
  {
   "cell_type": "code",
   "execution_count": 18,
   "metadata": {
    "ExecuteTime": {
     "end_time": "2021-03-09T20:32:10.676349Z",
     "start_time": "2021-03-09T20:32:10.665315Z"
    }
   },
   "outputs": [
    {
     "data": {
      "text/plain": [
       "[Pandas(Index=0, n=1396, _2=35.06, _3=35.06, order_type='SO', description='Sales Order'),\n",
       " Pandas(Index=1, n=639, _2=16.05, _3=51.1, order_type='SK', description='Sales Intercompany Order'),\n",
       " Pandas(Index=2, n=469, _2=11.78, _3=62.88, order_type='SQ', description='Quote Order'),\n",
       " Pandas(Index=3, n=452, _2=11.35, _3=74.23, order_type='SI', description='Interbranch Sales Order'),\n",
       " Pandas(Index=4, n=425, _2=10.67, _3=84.91, order_type='ST', description='Transfer Sales Order'),\n",
       " Pandas(Index=5, n=400, _2=10.05, _3=94.95, order_type='SB', description='Blanket Order'),\n",
       " Pandas(Index=6, n=201, _2=5.05, _3=100.0, order_type='SD', description='Direct Ship Order')]"
      ]
     },
     "execution_count": 18,
     "metadata": {},
     "output_type": "execute_result"
    }
   ],
   "source": [
    "list(df_order_types.itertuples())"
   ]
  },
  {
   "cell_type": "code",
   "execution_count": 19,
   "metadata": {
    "ExecuteTime": {
     "end_time": "2021-03-09T20:32:12.913001Z",
     "start_time": "2021-03-09T20:32:10.679636Z"
    }
   },
   "outputs": [
    {
     "data": {
      "text/html": [
       "<a href=\"outputs/xl/order types/2021 sales orders type - SO Sales Order.xlsx\">outputs/xl/order types/2021 sales orders type - SO Sales Order.xlsx</a>"
      ],
      "text/plain": [
       "<IPython.core.display.HTML object>"
      ]
     },
     "metadata": {},
     "output_type": "display_data"
    },
    {
     "name": "stderr",
     "output_type": "stream",
     "text": [
      "Workbook: outputs/xl/order types/2021 sales orders type - SO Sales Order.xlsx\n",
      "<< mult-sheet mode >>\n",
      "Sheet (range): SO ($A$1:$X$1397)\n",
      "Completed.\n"
     ]
    },
    {
     "data": {
      "text/html": [
       "<a href=\"outputs/xl/order types/2021 sales orders type - SK Sales Intercompany Order.xlsx\">outputs/xl/order types/2021 sales orders type - SK Sales Intercompany Order.xlsx</a>"
      ],
      "text/plain": [
       "<IPython.core.display.HTML object>"
      ]
     },
     "metadata": {},
     "output_type": "display_data"
    },
    {
     "name": "stderr",
     "output_type": "stream",
     "text": [
      "Workbook: outputs/xl/order types/2021 sales orders type - SK Sales Intercompany Order.xlsx\n",
      "<< mult-sheet mode >>\n",
      "Sheet (range): SK ($A$1:$X$640)\n",
      "Completed.\n"
     ]
    },
    {
     "data": {
      "text/html": [
       "<a href=\"outputs/xl/order types/2021 sales orders type - SQ Quote Order.xlsx\">outputs/xl/order types/2021 sales orders type - SQ Quote Order.xlsx</a>"
      ],
      "text/plain": [
       "<IPython.core.display.HTML object>"
      ]
     },
     "metadata": {},
     "output_type": "display_data"
    },
    {
     "name": "stderr",
     "output_type": "stream",
     "text": [
      "Workbook: outputs/xl/order types/2021 sales orders type - SQ Quote Order.xlsx\n",
      "<< mult-sheet mode >>\n",
      "Sheet (range): SQ ($A$1:$X$470)\n",
      "Completed.\n"
     ]
    },
    {
     "data": {
      "text/html": [
       "<a href=\"outputs/xl/order types/2021 sales orders type - SI Interbranch Sales Order.xlsx\">outputs/xl/order types/2021 sales orders type - SI Interbranch Sales Order.xlsx</a>"
      ],
      "text/plain": [
       "<IPython.core.display.HTML object>"
      ]
     },
     "metadata": {},
     "output_type": "display_data"
    },
    {
     "name": "stderr",
     "output_type": "stream",
     "text": [
      "Workbook: outputs/xl/order types/2021 sales orders type - SI Interbranch Sales Order.xlsx\n",
      "<< mult-sheet mode >>\n",
      "Sheet (range): SI ($A$1:$X$453)\n",
      "Completed.\n"
     ]
    },
    {
     "data": {
      "text/html": [
       "<a href=\"outputs/xl/order types/2021 sales orders type - ST Transfer Sales Order.xlsx\">outputs/xl/order types/2021 sales orders type - ST Transfer Sales Order.xlsx</a>"
      ],
      "text/plain": [
       "<IPython.core.display.HTML object>"
      ]
     },
     "metadata": {},
     "output_type": "display_data"
    },
    {
     "name": "stderr",
     "output_type": "stream",
     "text": [
      "Workbook: outputs/xl/order types/2021 sales orders type - ST Transfer Sales Order.xlsx\n",
      "<< mult-sheet mode >>\n",
      "Sheet (range): ST ($A$1:$X$426)\n",
      "Completed.\n"
     ]
    },
    {
     "data": {
      "text/html": [
       "<a href=\"outputs/xl/order types/2021 sales orders type - SB Blanket Order.xlsx\">outputs/xl/order types/2021 sales orders type - SB Blanket Order.xlsx</a>"
      ],
      "text/plain": [
       "<IPython.core.display.HTML object>"
      ]
     },
     "metadata": {},
     "output_type": "display_data"
    },
    {
     "name": "stderr",
     "output_type": "stream",
     "text": [
      "Workbook: outputs/xl/order types/2021 sales orders type - SB Blanket Order.xlsx\n",
      "<< mult-sheet mode >>\n",
      "Sheet (range): SB ($A$1:$X$401)\n",
      "Completed.\n"
     ]
    },
    {
     "data": {
      "text/html": [
       "<a href=\"outputs/xl/order types/2021 sales orders type - SD Direct Ship Order.xlsx\">outputs/xl/order types/2021 sales orders type - SD Direct Ship Order.xlsx</a>"
      ],
      "text/plain": [
       "<IPython.core.display.HTML object>"
      ]
     },
     "metadata": {},
     "output_type": "display_data"
    },
    {
     "name": "stderr",
     "output_type": "stream",
     "text": [
      "Workbook: outputs/xl/order types/2021 sales orders type - SD Direct Ship Order.xlsx\n",
      "<< mult-sheet mode >>\n",
      "Sheet (range): SD ($A$1:$X$202)\n",
      "Completed.\n"
     ]
    }
   ],
   "source": [
    "for row in df_order_types.itertuples():\n",
    "    xl_file = f'outputs/xl/order types/{year} sales orders type - {row.order_type} {row.description}'\n",
    "    df = customer_orders.query(f\"order_type == '{row.order_type}'\")\n",
    "    WorkBook(xl_file, sheets={row.order_type: df}, ts_prefix=False)"
   ]
  },
  {
   "cell_type": "markdown",
   "metadata": {},
   "source": [
    "### (xl) orders: Workbook with multiple sheets -> one sheet per order type"
   ]
  },
  {
   "cell_type": "code",
   "execution_count": 20,
   "metadata": {
    "ExecuteTime": {
     "end_time": "2021-03-09T20:32:14.903703Z",
     "start_time": "2021-03-09T20:32:12.914682Z"
    }
   },
   "outputs": [
    {
     "data": {
      "text/html": [
       "<a href=\"outputs/2021 sales orders by order type.xlsx\">outputs/2021 sales orders by order type.xlsx</a>"
      ],
      "text/plain": [
       "<IPython.core.display.HTML object>"
      ]
     },
     "metadata": {},
     "output_type": "display_data"
    },
    {
     "name": "stderr",
     "output_type": "stream",
     "text": [
      "Workbook: outputs/2021 sales orders by order type.xlsx\n",
      "<< mult-sheet mode >>\n",
      "Sheet (range): SO ($A$1:$X$1397)\n",
      "Sheet (range): SK ($A$1:$X$640)\n",
      "Sheet (range): SQ ($A$1:$X$470)\n",
      "Sheet (range): SI ($A$1:$X$453)\n",
      "Sheet (range): ST ($A$1:$X$426)\n",
      "Sheet (range): SB ($A$1:$X$401)\n",
      "Sheet (range): SD ($A$1:$X$202)\n",
      "Completed.\n"
     ]
    }
   ],
   "source": [
    "dataset = {r.order_type: customer_orders.query(f\"order_type == '{r.order_type}'\") for r in df_order_types.itertuples()}\n",
    "\n",
    "xl_file = f'outputs/{year} sales orders by order type'\n",
    "WorkBook(xl_file, sheets=dataset, ts_prefix=False);"
   ]
  },
  {
   "cell_type": "markdown",
   "metadata": {},
   "source": [
    "## (xl) orders: Split data by town"
   ]
  },
  {
   "cell_type": "code",
   "execution_count": 21,
   "metadata": {
    "ExecuteTime": {
     "end_time": "2021-03-09T20:32:14.922664Z",
     "start_time": "2021-03-09T20:32:14.905320Z"
    }
   },
   "outputs": [
    {
     "name": "stderr",
     "output_type": "stream",
     "text": [
      "97 rows, 2 columns\n"
     ]
    },
    {
     "data": {
      "text/html": [
       "<div>\n",
       "<style scoped>\n",
       "    .dataframe tbody tr th:only-of-type {\n",
       "        vertical-align: middle;\n",
       "    }\n",
       "\n",
       "    .dataframe tbody tr th {\n",
       "        vertical-align: top;\n",
       "    }\n",
       "\n",
       "    .dataframe thead th {\n",
       "        text-align: right;\n",
       "    }\n",
       "</style>\n",
       "<table border=\"1\" class=\"dataframe\">\n",
       "  <thead>\n",
       "    <tr style=\"text-align: right;\">\n",
       "      <th></th>\n",
       "      <th>total_orders</th>\n",
       "      <th>total_order_lines</th>\n",
       "    </tr>\n",
       "    <tr>\n",
       "      <th>area</th>\n",
       "      <th></th>\n",
       "      <th></th>\n",
       "    </tr>\n",
       "  </thead>\n",
       "  <tbody>\n",
       "    <tr>\n",
       "      <th>Nottingham</th>\n",
       "      <td>71</td>\n",
       "      <td>144</td>\n",
       "    </tr>\n",
       "    <tr>\n",
       "      <th>Exeter</th>\n",
       "      <td>58</td>\n",
       "      <td>118</td>\n",
       "    </tr>\n",
       "    <tr>\n",
       "      <th>Glasgow</th>\n",
       "      <td>57</td>\n",
       "      <td>115</td>\n",
       "    </tr>\n",
       "    <tr>\n",
       "      <th>Llandudno</th>\n",
       "      <td>46</td>\n",
       "      <td>97</td>\n",
       "    </tr>\n",
       "  </tbody>\n",
       "</table>\n",
       "</div>"
      ],
      "text/plain": [
       "            total_orders  total_order_lines\n",
       "area                                       \n",
       "Nottingham            71                144\n",
       "Exeter                58                118\n",
       "Glasgow               57                115\n",
       "Llandudno             46                 97"
      ]
     },
     "execution_count": 21,
     "metadata": {},
     "output_type": "execute_result"
    }
   ],
   "source": [
    "gx = (customer_orders.groupby(['area']).agg(total_orders=('order_no', 'nunique'),\n",
    "                                            total_order_lines=('order_no', 'count'))\n",
    "                                       .sort_values('total_orders', ascending=False))\n",
    "head(gx)"
   ]
  },
  {
   "cell_type": "markdown",
   "metadata": {},
   "source": [
    "### Split customer orders by town into separate dataframes"
   ]
  },
  {
   "cell_type": "code",
   "execution_count": 22,
   "metadata": {
    "ExecuteTime": {
     "end_time": "2021-03-09T20:32:14.932731Z",
     "start_time": "2021-03-09T20:32:14.926508Z"
    }
   },
   "outputs": [
    {
     "data": {
      "text/plain": [
       "'Aberdeen, Bath, Birmingham, Blackburn, Blackpool, Bolton, Bournemouth, Bradford, Brighton, Bristol, Bromley, Cambridge, Cardiff, Carlisle, Chelmsford, Chester, Cleveland, Coventry, Croydon, Darlington, Derby, Doncaster, Dorchester, Dudley, Dumfries and Galloway, East London, Edinburgh, Enfield, Exeter, Galashiels, Glasgow, Gloucester, Guildford, Halifax, Harrow, Hemel Hempstead, Hereford, Huddersfield, Hull, Inverness, Ipswich, Kilmarnock, Kingston upon Thames, Kirkcaldy, Lancaster, Leeds, Leicester, Lincoln, Liverpool, Llandrindod Wells, Llandudno, Manchester, Milton Keynes, Newcastle upon Tyne, Newport, North West London, Northampton, Norwich, Nottingham, Oldham, Oxford, Paisley, Peterborough, Plymouth, Portsmouth, Preston, Reading, Redhill, Rochester, Salisbury, Sheffield, Shrewsbury, Slough, South East London, South West London, Southall, Southampton, Southend-on-Sea, St Albans, Stevenage, Stockport, Sunderland, Sutton, Swansea, Taunton, Telford, Tonbridge, Torquay, Truro, Twickenham, Wakefield, Walsall, Warrington, West London, Wigan, Worcester, York'"
      ]
     },
     "execution_count": 22,
     "metadata": {},
     "output_type": "execute_result"
    }
   ],
   "source": [
    "list_of_cities = gx.index.values.tolist()\n",
    "list_of_cities.sort()\n",
    "', '.join(list_of_cities)"
   ]
  },
  {
   "cell_type": "markdown",
   "metadata": {},
   "source": [
    "### (xl) orders: Workbook with multiple sheets -> one sheet per town"
   ]
  },
  {
   "cell_type": "code",
   "execution_count": 23,
   "metadata": {
    "ExecuteTime": {
     "end_time": "2021-03-09T20:32:19.108714Z",
     "start_time": "2021-03-09T20:32:14.935406Z"
    }
   },
   "outputs": [
    {
     "data": {
      "text/html": [
       "<a href=\"outputs/2021 sales orders by town.xlsx\">outputs/2021 sales orders by town.xlsx</a>"
      ],
      "text/plain": [
       "<IPython.core.display.HTML object>"
      ]
     },
     "metadata": {},
     "output_type": "display_data"
    },
    {
     "name": "stderr",
     "output_type": "stream",
     "text": [
      "Workbook: outputs/2021 sales orders by town.xlsx\n",
      "<< mult-sheet mode >>\n",
      "Sheet (range): Aberdeen ($A$1:$X$90)\n",
      "Sheet (range): Bath ($A$1:$X$27)\n",
      "Sheet (range): Birmingham ($A$1:$X$73)\n",
      "Sheet (range): Blackburn ($A$1:$X$17)\n",
      "Sheet (range): Blackpool ($A$1:$X$81)\n",
      "Sheet (range): Bolton ($A$1:$X$41)\n",
      "Sheet (range): Bournemouth ($A$1:$X$46)\n",
      "Sheet (range): Bradford ($A$1:$X$27)\n",
      "Sheet (range): Brighton ($A$1:$X$83)\n",
      "Sheet (range): Bristol ($A$1:$X$80)\n",
      "Sheet (range): Bromley ($A$1:$X$10)\n",
      "Sheet (range): Cambridge ($A$1:$X$17)\n",
      "Sheet (range): Cardiff ($A$1:$X$76)\n",
      "Sheet (range): Carlisle ($A$1:$X$49)\n",
      "Sheet (range): Chelmsford ($A$1:$X$15)\n",
      "Sheet (range): Chester ($A$1:$X$69)\n",
      "Sheet (range): Cleveland ($A$1:$X$8)\n",
      "Sheet (range): Coventry ($A$1:$X$33)\n",
      "Sheet (range): Croydon ($A$1:$X$28)\n",
      "Sheet (range): Darlington ($A$1:$X$28)\n",
      "Sheet (range): Derby ($A$1:$X$18)\n",
      "Sheet (range): Doncaster ($A$1:$X$47)\n",
      "Sheet (range): Dorchester ($A$1:$X$40)\n",
      "Sheet (range): Dudley ($A$1:$X$49)\n",
      "Sheet (range): Dumfries and Galloway ($A$1:$X$18)\n",
      "Sheet (range): East London ($A$1:$X$13)\n",
      "Sheet (range): Edinburgh ($A$1:$X$79)\n",
      "Sheet (range): Enfield ($A$1:$X$38)\n",
      "Sheet (range): Exeter ($A$1:$X$119)\n",
      "Sheet (range): Galashiels ($A$1:$X$27)\n",
      "Sheet (range): Glasgow ($A$1:$X$116)\n",
      "Sheet (range): Gloucester ($A$1:$X$81)\n",
      "Sheet (range): Guildford ($A$1:$X$30)\n",
      "Sheet (range): Halifax ($A$1:$X$20)\n",
      "Sheet (range): Harrow ($A$1:$X$15)\n",
      "Sheet (range): Hemel Hempstead ($A$1:$X$65)\n",
      "Sheet (range): Hereford ($A$1:$X$17)\n",
      "Sheet (range): Huddersfield ($A$1:$X$14)\n",
      "Sheet (range): Hull ($A$1:$X$17)\n",
      "Sheet (range): Inverness ($A$1:$X$50)\n",
      "Sheet (range): Ipswich ($A$1:$X$78)\n",
      "Sheet (range): Kilmarnock ($A$1:$X$12)\n",
      "Sheet (range): Kingston upon Thames ($A$1:$X$29)\n",
      "Sheet (range): Kirkcaldy ($A$1:$X$18)\n",
      "Sheet (range): Lancaster ($A$1:$X$73)\n",
      "Sheet (range): Leeds ($A$1:$X$43)\n",
      "Sheet (range): Leicester ($A$1:$X$43)\n",
      "Sheet (range): Lincoln ($A$1:$X$28)\n",
      "Sheet (range): Liverpool ($A$1:$X$27)\n",
      "Sheet (range): Llandrindod Wells ($A$1:$X$21)\n",
      "Sheet (range): Llandudno ($A$1:$X$98)\n",
      "Sheet (range): Manchester ($A$1:$X$71)\n",
      "Sheet (range): Milton Keynes ($A$1:$X$52)\n",
      "Sheet (range): Newcastle upon Tyne ($A$1:$X$39)\n",
      "Sheet (range): Newport ($A$1:$X$23)\n",
      "Sheet (range): North West London ($A$1:$X$30)\n",
      "Sheet (range): Northampton ($A$1:$X$40)\n",
      "Sheet (range): Norwich ($A$1:$X$64)\n",
      "Sheet (range): Nottingham ($A$1:$X$145)\n",
      "Sheet (range): Oldham ($A$1:$X$66)\n",
      "Sheet (range): Oxford ($A$1:$X$27)\n",
      "Sheet (range): Paisley ($A$1:$X$26)\n",
      "Sheet (range): Peterborough ($A$1:$X$75)\n",
      "Sheet (range): Plymouth ($A$1:$X$86)\n",
      "Sheet (range): Portsmouth ($A$1:$X$34)\n",
      "Sheet (range): Preston ($A$1:$X$45)\n",
      "Sheet (range): Reading ($A$1:$X$42)\n",
      "Sheet (range): Redhill ($A$1:$X$56)\n",
      "Sheet (range): Rochester ($A$1:$X$30)\n",
      "Sheet (range): Salisbury ($A$1:$X$38)\n",
      "Sheet (range): Sheffield ($A$1:$X$67)\n",
      "Sheet (range): Shrewsbury ($A$1:$X$68)\n",
      "Sheet (range): Slough ($A$1:$X$32)\n",
      "Sheet (range): South East London ($A$1:$X$46)\n",
      "Sheet (range): South West London ($A$1:$X$34)\n",
      "Sheet (range): Southall ($A$1:$X$30)\n",
      "Sheet (range): Southampton ($A$1:$X$24)\n",
      "Sheet (range): Southend-on-Sea ($A$1:$X$14)\n",
      "Sheet (range): St Albans ($A$1:$X$7)\n",
      "Sheet (range): Stevenage ($A$1:$X$49)\n",
      "Sheet (range): Stockport ($A$1:$X$62)\n",
      "Sheet (range): Sunderland ($A$1:$X$15)\n",
      "Sheet (range): Sutton ($A$1:$X$11)\n",
      "Sheet (range): Swansea ($A$1:$X$37)\n",
      "Sheet (range): Taunton ($A$1:$X$19)\n",
      "Sheet (range): Telford ($A$1:$X$10)\n",
      "Sheet (range): Tonbridge ($A$1:$X$21)\n",
      "Sheet (range): Torquay ($A$1:$X$6)\n",
      "Sheet (range): Truro ($A$1:$X$42)\n",
      "Sheet (range): Twickenham ($A$1:$X$20)\n",
      "Sheet (range): Wakefield ($A$1:$X$38)\n",
      "Sheet (range): Walsall ($A$1:$X$28)\n",
      "Sheet (range): Warrington ($A$1:$X$29)\n",
      "Sheet (range): West London ($A$1:$X$50)\n",
      "Sheet (range): Wigan ($A$1:$X$10)\n",
      "Sheet (range): Worcester ($A$1:$X$31)\n",
      "Sheet (range): York ($A$1:$X$49)\n",
      "Completed.\n"
     ]
    }
   ],
   "source": [
    "# Using a dictionary where key = town and value is the filtered town data\n",
    "# one can take advantage of pipers WorkBook object, which can \n",
    "# accept a dictionary of sheet names and dataframes to generate worksheets\n",
    "dataset = {city: customer_orders.query(f\"area == '{city}'\") for city in list_of_cities}\n",
    "\n",
    "xl_file = f'outputs/{year} sales orders by town'\n",
    "WorkBook(xl_file, sheets=dataset, ts_prefix=False);"
   ]
  },
  {
   "cell_type": "markdown",
   "metadata": {},
   "source": [
    "### (xl) orders: multiple WorkBooks -> one workbook per town"
   ]
  },
  {
   "cell_type": "code",
   "execution_count": 24,
   "metadata": {
    "ExecuteTime": {
     "end_time": "2021-03-09T20:32:25.243694Z",
     "start_time": "2021-03-09T20:32:19.110068Z"
    }
   },
   "outputs": [
    {
     "data": {
      "text/html": [
       "<a href=\"outputs/xl/town_data/2021 sales orders - Aberdeen.xlsx\">outputs/xl/town_data/2021 sales orders - Aberdeen.xlsx</a>"
      ],
      "text/plain": [
       "<IPython.core.display.HTML object>"
      ]
     },
     "metadata": {},
     "output_type": "display_data"
    },
    {
     "name": "stderr",
     "output_type": "stream",
     "text": [
      "Workbook: outputs/xl/town_data/2021 sales orders - Aberdeen.xlsx\n",
      "<< mult-sheet mode >>\n",
      "Sheet (range): Aberdeen ($A$1:$X$90)\n",
      "Completed.\n"
     ]
    },
    {
     "data": {
      "text/html": [
       "<a href=\"outputs/xl/town_data/2021 sales orders - Bath.xlsx\">outputs/xl/town_data/2021 sales orders - Bath.xlsx</a>"
      ],
      "text/plain": [
       "<IPython.core.display.HTML object>"
      ]
     },
     "metadata": {},
     "output_type": "display_data"
    },
    {
     "name": "stderr",
     "output_type": "stream",
     "text": [
      "Workbook: outputs/xl/town_data/2021 sales orders - Bath.xlsx\n",
      "<< mult-sheet mode >>\n",
      "Sheet (range): Bath ($A$1:$X$27)\n",
      "Completed.\n"
     ]
    },
    {
     "data": {
      "text/html": [
       "<a href=\"outputs/xl/town_data/2021 sales orders - Birmingham.xlsx\">outputs/xl/town_data/2021 sales orders - Birmingham.xlsx</a>"
      ],
      "text/plain": [
       "<IPython.core.display.HTML object>"
      ]
     },
     "metadata": {},
     "output_type": "display_data"
    },
    {
     "name": "stderr",
     "output_type": "stream",
     "text": [
      "Workbook: outputs/xl/town_data/2021 sales orders - Birmingham.xlsx\n",
      "<< mult-sheet mode >>\n",
      "Sheet (range): Birmingham ($A$1:$X$73)\n",
      "Completed.\n"
     ]
    },
    {
     "data": {
      "text/html": [
       "<a href=\"outputs/xl/town_data/2021 sales orders - Blackburn.xlsx\">outputs/xl/town_data/2021 sales orders - Blackburn.xlsx</a>"
      ],
      "text/plain": [
       "<IPython.core.display.HTML object>"
      ]
     },
     "metadata": {},
     "output_type": "display_data"
    },
    {
     "name": "stderr",
     "output_type": "stream",
     "text": [
      "Workbook: outputs/xl/town_data/2021 sales orders - Blackburn.xlsx\n",
      "<< mult-sheet mode >>\n",
      "Sheet (range): Blackburn ($A$1:$X$17)\n",
      "Completed.\n"
     ]
    },
    {
     "data": {
      "text/html": [
       "<a href=\"outputs/xl/town_data/2021 sales orders - Blackpool.xlsx\">outputs/xl/town_data/2021 sales orders - Blackpool.xlsx</a>"
      ],
      "text/plain": [
       "<IPython.core.display.HTML object>"
      ]
     },
     "metadata": {},
     "output_type": "display_data"
    },
    {
     "name": "stderr",
     "output_type": "stream",
     "text": [
      "Workbook: outputs/xl/town_data/2021 sales orders - Blackpool.xlsx\n",
      "<< mult-sheet mode >>\n",
      "Sheet (range): Blackpool ($A$1:$X$81)\n",
      "Completed.\n"
     ]
    },
    {
     "data": {
      "text/html": [
       "<a href=\"outputs/xl/town_data/2021 sales orders - Bolton.xlsx\">outputs/xl/town_data/2021 sales orders - Bolton.xlsx</a>"
      ],
      "text/plain": [
       "<IPython.core.display.HTML object>"
      ]
     },
     "metadata": {},
     "output_type": "display_data"
    },
    {
     "name": "stderr",
     "output_type": "stream",
     "text": [
      "Workbook: outputs/xl/town_data/2021 sales orders - Bolton.xlsx\n",
      "<< mult-sheet mode >>\n",
      "Sheet (range): Bolton ($A$1:$X$41)\n",
      "Completed.\n"
     ]
    },
    {
     "data": {
      "text/html": [
       "<a href=\"outputs/xl/town_data/2021 sales orders - Bournemouth.xlsx\">outputs/xl/town_data/2021 sales orders - Bournemouth.xlsx</a>"
      ],
      "text/plain": [
       "<IPython.core.display.HTML object>"
      ]
     },
     "metadata": {},
     "output_type": "display_data"
    },
    {
     "name": "stderr",
     "output_type": "stream",
     "text": [
      "Workbook: outputs/xl/town_data/2021 sales orders - Bournemouth.xlsx\n",
      "<< mult-sheet mode >>\n",
      "Sheet (range): Bournemouth ($A$1:$X$46)\n",
      "Completed.\n"
     ]
    },
    {
     "data": {
      "text/html": [
       "<a href=\"outputs/xl/town_data/2021 sales orders - Bradford.xlsx\">outputs/xl/town_data/2021 sales orders - Bradford.xlsx</a>"
      ],
      "text/plain": [
       "<IPython.core.display.HTML object>"
      ]
     },
     "metadata": {},
     "output_type": "display_data"
    },
    {
     "name": "stderr",
     "output_type": "stream",
     "text": [
      "Workbook: outputs/xl/town_data/2021 sales orders - Bradford.xlsx\n",
      "<< mult-sheet mode >>\n",
      "Sheet (range): Bradford ($A$1:$X$27)\n",
      "Completed.\n"
     ]
    },
    {
     "data": {
      "text/html": [
       "<a href=\"outputs/xl/town_data/2021 sales orders - Brighton.xlsx\">outputs/xl/town_data/2021 sales orders - Brighton.xlsx</a>"
      ],
      "text/plain": [
       "<IPython.core.display.HTML object>"
      ]
     },
     "metadata": {},
     "output_type": "display_data"
    },
    {
     "name": "stderr",
     "output_type": "stream",
     "text": [
      "Workbook: outputs/xl/town_data/2021 sales orders - Brighton.xlsx\n",
      "<< mult-sheet mode >>\n",
      "Sheet (range): Brighton ($A$1:$X$83)\n",
      "Completed.\n"
     ]
    },
    {
     "data": {
      "text/html": [
       "<a href=\"outputs/xl/town_data/2021 sales orders - Bristol.xlsx\">outputs/xl/town_data/2021 sales orders - Bristol.xlsx</a>"
      ],
      "text/plain": [
       "<IPython.core.display.HTML object>"
      ]
     },
     "metadata": {},
     "output_type": "display_data"
    },
    {
     "name": "stderr",
     "output_type": "stream",
     "text": [
      "Workbook: outputs/xl/town_data/2021 sales orders - Bristol.xlsx\n",
      "<< mult-sheet mode >>\n",
      "Sheet (range): Bristol ($A$1:$X$80)\n",
      "Completed.\n"
     ]
    },
    {
     "data": {
      "text/html": [
       "<a href=\"outputs/xl/town_data/2021 sales orders - Bromley.xlsx\">outputs/xl/town_data/2021 sales orders - Bromley.xlsx</a>"
      ],
      "text/plain": [
       "<IPython.core.display.HTML object>"
      ]
     },
     "metadata": {},
     "output_type": "display_data"
    },
    {
     "name": "stderr",
     "output_type": "stream",
     "text": [
      "Workbook: outputs/xl/town_data/2021 sales orders - Bromley.xlsx\n",
      "<< mult-sheet mode >>\n",
      "Sheet (range): Bromley ($A$1:$X$10)\n",
      "Completed.\n"
     ]
    },
    {
     "data": {
      "text/html": [
       "<a href=\"outputs/xl/town_data/2021 sales orders - Cambridge.xlsx\">outputs/xl/town_data/2021 sales orders - Cambridge.xlsx</a>"
      ],
      "text/plain": [
       "<IPython.core.display.HTML object>"
      ]
     },
     "metadata": {},
     "output_type": "display_data"
    },
    {
     "name": "stderr",
     "output_type": "stream",
     "text": [
      "Workbook: outputs/xl/town_data/2021 sales orders - Cambridge.xlsx\n",
      "<< mult-sheet mode >>\n",
      "Sheet (range): Cambridge ($A$1:$X$17)\n",
      "Completed.\n"
     ]
    },
    {
     "data": {
      "text/html": [
       "<a href=\"outputs/xl/town_data/2021 sales orders - Cardiff.xlsx\">outputs/xl/town_data/2021 sales orders - Cardiff.xlsx</a>"
      ],
      "text/plain": [
       "<IPython.core.display.HTML object>"
      ]
     },
     "metadata": {},
     "output_type": "display_data"
    },
    {
     "name": "stderr",
     "output_type": "stream",
     "text": [
      "Workbook: outputs/xl/town_data/2021 sales orders - Cardiff.xlsx\n",
      "<< mult-sheet mode >>\n",
      "Sheet (range): Cardiff ($A$1:$X$76)\n",
      "Completed.\n"
     ]
    },
    {
     "data": {
      "text/html": [
       "<a href=\"outputs/xl/town_data/2021 sales orders - Carlisle.xlsx\">outputs/xl/town_data/2021 sales orders - Carlisle.xlsx</a>"
      ],
      "text/plain": [
       "<IPython.core.display.HTML object>"
      ]
     },
     "metadata": {},
     "output_type": "display_data"
    },
    {
     "name": "stderr",
     "output_type": "stream",
     "text": [
      "Workbook: outputs/xl/town_data/2021 sales orders - Carlisle.xlsx\n",
      "<< mult-sheet mode >>\n",
      "Sheet (range): Carlisle ($A$1:$X$49)\n",
      "Completed.\n"
     ]
    },
    {
     "data": {
      "text/html": [
       "<a href=\"outputs/xl/town_data/2021 sales orders - Chelmsford.xlsx\">outputs/xl/town_data/2021 sales orders - Chelmsford.xlsx</a>"
      ],
      "text/plain": [
       "<IPython.core.display.HTML object>"
      ]
     },
     "metadata": {},
     "output_type": "display_data"
    },
    {
     "name": "stderr",
     "output_type": "stream",
     "text": [
      "Workbook: outputs/xl/town_data/2021 sales orders - Chelmsford.xlsx\n",
      "<< mult-sheet mode >>\n",
      "Sheet (range): Chelmsford ($A$1:$X$15)\n",
      "Completed.\n"
     ]
    },
    {
     "data": {
      "text/html": [
       "<a href=\"outputs/xl/town_data/2021 sales orders - Chester.xlsx\">outputs/xl/town_data/2021 sales orders - Chester.xlsx</a>"
      ],
      "text/plain": [
       "<IPython.core.display.HTML object>"
      ]
     },
     "metadata": {},
     "output_type": "display_data"
    },
    {
     "name": "stderr",
     "output_type": "stream",
     "text": [
      "Workbook: outputs/xl/town_data/2021 sales orders - Chester.xlsx\n",
      "<< mult-sheet mode >>\n",
      "Sheet (range): Chester ($A$1:$X$69)\n",
      "Completed.\n"
     ]
    },
    {
     "data": {
      "text/html": [
       "<a href=\"outputs/xl/town_data/2021 sales orders - Cleveland.xlsx\">outputs/xl/town_data/2021 sales orders - Cleveland.xlsx</a>"
      ],
      "text/plain": [
       "<IPython.core.display.HTML object>"
      ]
     },
     "metadata": {},
     "output_type": "display_data"
    },
    {
     "name": "stderr",
     "output_type": "stream",
     "text": [
      "Workbook: outputs/xl/town_data/2021 sales orders - Cleveland.xlsx\n",
      "<< mult-sheet mode >>\n",
      "Sheet (range): Cleveland ($A$1:$X$8)\n",
      "Completed.\n"
     ]
    },
    {
     "data": {
      "text/html": [
       "<a href=\"outputs/xl/town_data/2021 sales orders - Coventry.xlsx\">outputs/xl/town_data/2021 sales orders - Coventry.xlsx</a>"
      ],
      "text/plain": [
       "<IPython.core.display.HTML object>"
      ]
     },
     "metadata": {},
     "output_type": "display_data"
    },
    {
     "name": "stderr",
     "output_type": "stream",
     "text": [
      "Workbook: outputs/xl/town_data/2021 sales orders - Coventry.xlsx\n",
      "<< mult-sheet mode >>\n",
      "Sheet (range): Coventry ($A$1:$X$33)\n",
      "Completed.\n"
     ]
    },
    {
     "data": {
      "text/html": [
       "<a href=\"outputs/xl/town_data/2021 sales orders - Croydon.xlsx\">outputs/xl/town_data/2021 sales orders - Croydon.xlsx</a>"
      ],
      "text/plain": [
       "<IPython.core.display.HTML object>"
      ]
     },
     "metadata": {},
     "output_type": "display_data"
    },
    {
     "name": "stderr",
     "output_type": "stream",
     "text": [
      "Workbook: outputs/xl/town_data/2021 sales orders - Croydon.xlsx\n",
      "<< mult-sheet mode >>\n",
      "Sheet (range): Croydon ($A$1:$X$28)\n",
      "Completed.\n"
     ]
    },
    {
     "data": {
      "text/html": [
       "<a href=\"outputs/xl/town_data/2021 sales orders - Darlington.xlsx\">outputs/xl/town_data/2021 sales orders - Darlington.xlsx</a>"
      ],
      "text/plain": [
       "<IPython.core.display.HTML object>"
      ]
     },
     "metadata": {},
     "output_type": "display_data"
    },
    {
     "name": "stderr",
     "output_type": "stream",
     "text": [
      "Workbook: outputs/xl/town_data/2021 sales orders - Darlington.xlsx\n",
      "<< mult-sheet mode >>\n",
      "Sheet (range): Darlington ($A$1:$X$28)\n",
      "Completed.\n"
     ]
    },
    {
     "data": {
      "text/html": [
       "<a href=\"outputs/xl/town_data/2021 sales orders - Derby.xlsx\">outputs/xl/town_data/2021 sales orders - Derby.xlsx</a>"
      ],
      "text/plain": [
       "<IPython.core.display.HTML object>"
      ]
     },
     "metadata": {},
     "output_type": "display_data"
    },
    {
     "name": "stderr",
     "output_type": "stream",
     "text": [
      "Workbook: outputs/xl/town_data/2021 sales orders - Derby.xlsx\n",
      "<< mult-sheet mode >>\n",
      "Sheet (range): Derby ($A$1:$X$18)\n",
      "Completed.\n"
     ]
    },
    {
     "data": {
      "text/html": [
       "<a href=\"outputs/xl/town_data/2021 sales orders - Doncaster.xlsx\">outputs/xl/town_data/2021 sales orders - Doncaster.xlsx</a>"
      ],
      "text/plain": [
       "<IPython.core.display.HTML object>"
      ]
     },
     "metadata": {},
     "output_type": "display_data"
    },
    {
     "name": "stderr",
     "output_type": "stream",
     "text": [
      "Workbook: outputs/xl/town_data/2021 sales orders - Doncaster.xlsx\n",
      "<< mult-sheet mode >>\n",
      "Sheet (range): Doncaster ($A$1:$X$47)\n",
      "Completed.\n"
     ]
    },
    {
     "data": {
      "text/html": [
       "<a href=\"outputs/xl/town_data/2021 sales orders - Dorchester.xlsx\">outputs/xl/town_data/2021 sales orders - Dorchester.xlsx</a>"
      ],
      "text/plain": [
       "<IPython.core.display.HTML object>"
      ]
     },
     "metadata": {},
     "output_type": "display_data"
    },
    {
     "name": "stderr",
     "output_type": "stream",
     "text": [
      "Workbook: outputs/xl/town_data/2021 sales orders - Dorchester.xlsx\n",
      "<< mult-sheet mode >>\n",
      "Sheet (range): Dorchester ($A$1:$X$40)\n",
      "Completed.\n"
     ]
    },
    {
     "data": {
      "text/html": [
       "<a href=\"outputs/xl/town_data/2021 sales orders - Dudley.xlsx\">outputs/xl/town_data/2021 sales orders - Dudley.xlsx</a>"
      ],
      "text/plain": [
       "<IPython.core.display.HTML object>"
      ]
     },
     "metadata": {},
     "output_type": "display_data"
    },
    {
     "name": "stderr",
     "output_type": "stream",
     "text": [
      "Workbook: outputs/xl/town_data/2021 sales orders - Dudley.xlsx\n",
      "<< mult-sheet mode >>\n",
      "Sheet (range): Dudley ($A$1:$X$49)\n",
      "Completed.\n"
     ]
    },
    {
     "data": {
      "text/html": [
       "<a href=\"outputs/xl/town_data/2021 sales orders - Dumfries and Galloway.xlsx\">outputs/xl/town_data/2021 sales orders - Dumfries and Galloway.xlsx</a>"
      ],
      "text/plain": [
       "<IPython.core.display.HTML object>"
      ]
     },
     "metadata": {},
     "output_type": "display_data"
    },
    {
     "name": "stderr",
     "output_type": "stream",
     "text": [
      "Workbook: outputs/xl/town_data/2021 sales orders - Dumfries and Galloway.xlsx\n",
      "<< mult-sheet mode >>\n",
      "Sheet (range): Dumfries and Galloway ($A$1:$X$18)\n",
      "Completed.\n"
     ]
    },
    {
     "data": {
      "text/html": [
       "<a href=\"outputs/xl/town_data/2021 sales orders - East London.xlsx\">outputs/xl/town_data/2021 sales orders - East London.xlsx</a>"
      ],
      "text/plain": [
       "<IPython.core.display.HTML object>"
      ]
     },
     "metadata": {},
     "output_type": "display_data"
    },
    {
     "name": "stderr",
     "output_type": "stream",
     "text": [
      "Workbook: outputs/xl/town_data/2021 sales orders - East London.xlsx\n",
      "<< mult-sheet mode >>\n",
      "Sheet (range): East London ($A$1:$X$13)\n",
      "Completed.\n"
     ]
    },
    {
     "data": {
      "text/html": [
       "<a href=\"outputs/xl/town_data/2021 sales orders - Edinburgh.xlsx\">outputs/xl/town_data/2021 sales orders - Edinburgh.xlsx</a>"
      ],
      "text/plain": [
       "<IPython.core.display.HTML object>"
      ]
     },
     "metadata": {},
     "output_type": "display_data"
    },
    {
     "name": "stderr",
     "output_type": "stream",
     "text": [
      "Workbook: outputs/xl/town_data/2021 sales orders - Edinburgh.xlsx\n",
      "<< mult-sheet mode >>\n",
      "Sheet (range): Edinburgh ($A$1:$X$79)\n",
      "Completed.\n"
     ]
    },
    {
     "data": {
      "text/html": [
       "<a href=\"outputs/xl/town_data/2021 sales orders - Enfield.xlsx\">outputs/xl/town_data/2021 sales orders - Enfield.xlsx</a>"
      ],
      "text/plain": [
       "<IPython.core.display.HTML object>"
      ]
     },
     "metadata": {},
     "output_type": "display_data"
    },
    {
     "name": "stderr",
     "output_type": "stream",
     "text": [
      "Workbook: outputs/xl/town_data/2021 sales orders - Enfield.xlsx\n",
      "<< mult-sheet mode >>\n",
      "Sheet (range): Enfield ($A$1:$X$38)\n",
      "Completed.\n"
     ]
    },
    {
     "data": {
      "text/html": [
       "<a href=\"outputs/xl/town_data/2021 sales orders - Exeter.xlsx\">outputs/xl/town_data/2021 sales orders - Exeter.xlsx</a>"
      ],
      "text/plain": [
       "<IPython.core.display.HTML object>"
      ]
     },
     "metadata": {},
     "output_type": "display_data"
    },
    {
     "name": "stderr",
     "output_type": "stream",
     "text": [
      "Workbook: outputs/xl/town_data/2021 sales orders - Exeter.xlsx\n",
      "<< mult-sheet mode >>\n",
      "Sheet (range): Exeter ($A$1:$X$119)\n",
      "Completed.\n"
     ]
    },
    {
     "data": {
      "text/html": [
       "<a href=\"outputs/xl/town_data/2021 sales orders - Galashiels.xlsx\">outputs/xl/town_data/2021 sales orders - Galashiels.xlsx</a>"
      ],
      "text/plain": [
       "<IPython.core.display.HTML object>"
      ]
     },
     "metadata": {},
     "output_type": "display_data"
    },
    {
     "name": "stderr",
     "output_type": "stream",
     "text": [
      "Workbook: outputs/xl/town_data/2021 sales orders - Galashiels.xlsx\n",
      "<< mult-sheet mode >>\n",
      "Sheet (range): Galashiels ($A$1:$X$27)\n",
      "Completed.\n"
     ]
    },
    {
     "data": {
      "text/html": [
       "<a href=\"outputs/xl/town_data/2021 sales orders - Glasgow.xlsx\">outputs/xl/town_data/2021 sales orders - Glasgow.xlsx</a>"
      ],
      "text/plain": [
       "<IPython.core.display.HTML object>"
      ]
     },
     "metadata": {},
     "output_type": "display_data"
    },
    {
     "name": "stderr",
     "output_type": "stream",
     "text": [
      "Workbook: outputs/xl/town_data/2021 sales orders - Glasgow.xlsx\n",
      "<< mult-sheet mode >>\n",
      "Sheet (range): Glasgow ($A$1:$X$116)\n",
      "Completed.\n"
     ]
    },
    {
     "data": {
      "text/html": [
       "<a href=\"outputs/xl/town_data/2021 sales orders - Gloucester.xlsx\">outputs/xl/town_data/2021 sales orders - Gloucester.xlsx</a>"
      ],
      "text/plain": [
       "<IPython.core.display.HTML object>"
      ]
     },
     "metadata": {},
     "output_type": "display_data"
    },
    {
     "name": "stderr",
     "output_type": "stream",
     "text": [
      "Workbook: outputs/xl/town_data/2021 sales orders - Gloucester.xlsx\n",
      "<< mult-sheet mode >>\n",
      "Sheet (range): Gloucester ($A$1:$X$81)\n",
      "Completed.\n"
     ]
    },
    {
     "data": {
      "text/html": [
       "<a href=\"outputs/xl/town_data/2021 sales orders - Guildford.xlsx\">outputs/xl/town_data/2021 sales orders - Guildford.xlsx</a>"
      ],
      "text/plain": [
       "<IPython.core.display.HTML object>"
      ]
     },
     "metadata": {},
     "output_type": "display_data"
    },
    {
     "name": "stderr",
     "output_type": "stream",
     "text": [
      "Workbook: outputs/xl/town_data/2021 sales orders - Guildford.xlsx\n",
      "<< mult-sheet mode >>\n",
      "Sheet (range): Guildford ($A$1:$X$30)\n",
      "Completed.\n"
     ]
    },
    {
     "data": {
      "text/html": [
       "<a href=\"outputs/xl/town_data/2021 sales orders - Halifax.xlsx\">outputs/xl/town_data/2021 sales orders - Halifax.xlsx</a>"
      ],
      "text/plain": [
       "<IPython.core.display.HTML object>"
      ]
     },
     "metadata": {},
     "output_type": "display_data"
    },
    {
     "name": "stderr",
     "output_type": "stream",
     "text": [
      "Workbook: outputs/xl/town_data/2021 sales orders - Halifax.xlsx\n",
      "<< mult-sheet mode >>\n",
      "Sheet (range): Halifax ($A$1:$X$20)\n",
      "Completed.\n"
     ]
    },
    {
     "data": {
      "text/html": [
       "<a href=\"outputs/xl/town_data/2021 sales orders - Harrow.xlsx\">outputs/xl/town_data/2021 sales orders - Harrow.xlsx</a>"
      ],
      "text/plain": [
       "<IPython.core.display.HTML object>"
      ]
     },
     "metadata": {},
     "output_type": "display_data"
    },
    {
     "name": "stderr",
     "output_type": "stream",
     "text": [
      "Workbook: outputs/xl/town_data/2021 sales orders - Harrow.xlsx\n",
      "<< mult-sheet mode >>\n",
      "Sheet (range): Harrow ($A$1:$X$15)\n",
      "Completed.\n"
     ]
    },
    {
     "data": {
      "text/html": [
       "<a href=\"outputs/xl/town_data/2021 sales orders - Hemel Hempstead.xlsx\">outputs/xl/town_data/2021 sales orders - Hemel Hempstead.xlsx</a>"
      ],
      "text/plain": [
       "<IPython.core.display.HTML object>"
      ]
     },
     "metadata": {},
     "output_type": "display_data"
    },
    {
     "name": "stderr",
     "output_type": "stream",
     "text": [
      "Workbook: outputs/xl/town_data/2021 sales orders - Hemel Hempstead.xlsx\n",
      "<< mult-sheet mode >>\n",
      "Sheet (range): Hemel Hempstead ($A$1:$X$65)\n",
      "Completed.\n"
     ]
    },
    {
     "data": {
      "text/html": [
       "<a href=\"outputs/xl/town_data/2021 sales orders - Hereford.xlsx\">outputs/xl/town_data/2021 sales orders - Hereford.xlsx</a>"
      ],
      "text/plain": [
       "<IPython.core.display.HTML object>"
      ]
     },
     "metadata": {},
     "output_type": "display_data"
    },
    {
     "name": "stderr",
     "output_type": "stream",
     "text": [
      "Workbook: outputs/xl/town_data/2021 sales orders - Hereford.xlsx\n",
      "<< mult-sheet mode >>\n",
      "Sheet (range): Hereford ($A$1:$X$17)\n",
      "Completed.\n"
     ]
    },
    {
     "data": {
      "text/html": [
       "<a href=\"outputs/xl/town_data/2021 sales orders - Huddersfield.xlsx\">outputs/xl/town_data/2021 sales orders - Huddersfield.xlsx</a>"
      ],
      "text/plain": [
       "<IPython.core.display.HTML object>"
      ]
     },
     "metadata": {},
     "output_type": "display_data"
    },
    {
     "name": "stderr",
     "output_type": "stream",
     "text": [
      "Workbook: outputs/xl/town_data/2021 sales orders - Huddersfield.xlsx\n",
      "<< mult-sheet mode >>\n",
      "Sheet (range): Huddersfield ($A$1:$X$14)\n",
      "Completed.\n"
     ]
    },
    {
     "data": {
      "text/html": [
       "<a href=\"outputs/xl/town_data/2021 sales orders - Hull.xlsx\">outputs/xl/town_data/2021 sales orders - Hull.xlsx</a>"
      ],
      "text/plain": [
       "<IPython.core.display.HTML object>"
      ]
     },
     "metadata": {},
     "output_type": "display_data"
    },
    {
     "name": "stderr",
     "output_type": "stream",
     "text": [
      "Workbook: outputs/xl/town_data/2021 sales orders - Hull.xlsx\n",
      "<< mult-sheet mode >>\n",
      "Sheet (range): Hull ($A$1:$X$17)\n",
      "Completed.\n"
     ]
    },
    {
     "data": {
      "text/html": [
       "<a href=\"outputs/xl/town_data/2021 sales orders - Inverness.xlsx\">outputs/xl/town_data/2021 sales orders - Inverness.xlsx</a>"
      ],
      "text/plain": [
       "<IPython.core.display.HTML object>"
      ]
     },
     "metadata": {},
     "output_type": "display_data"
    },
    {
     "name": "stderr",
     "output_type": "stream",
     "text": [
      "Workbook: outputs/xl/town_data/2021 sales orders - Inverness.xlsx\n",
      "<< mult-sheet mode >>\n",
      "Sheet (range): Inverness ($A$1:$X$50)\n",
      "Completed.\n"
     ]
    },
    {
     "data": {
      "text/html": [
       "<a href=\"outputs/xl/town_data/2021 sales orders - Ipswich.xlsx\">outputs/xl/town_data/2021 sales orders - Ipswich.xlsx</a>"
      ],
      "text/plain": [
       "<IPython.core.display.HTML object>"
      ]
     },
     "metadata": {},
     "output_type": "display_data"
    },
    {
     "name": "stderr",
     "output_type": "stream",
     "text": [
      "Workbook: outputs/xl/town_data/2021 sales orders - Ipswich.xlsx\n",
      "<< mult-sheet mode >>\n",
      "Sheet (range): Ipswich ($A$1:$X$78)\n",
      "Completed.\n"
     ]
    },
    {
     "data": {
      "text/html": [
       "<a href=\"outputs/xl/town_data/2021 sales orders - Kilmarnock.xlsx\">outputs/xl/town_data/2021 sales orders - Kilmarnock.xlsx</a>"
      ],
      "text/plain": [
       "<IPython.core.display.HTML object>"
      ]
     },
     "metadata": {},
     "output_type": "display_data"
    },
    {
     "name": "stderr",
     "output_type": "stream",
     "text": [
      "Workbook: outputs/xl/town_data/2021 sales orders - Kilmarnock.xlsx\n",
      "<< mult-sheet mode >>\n",
      "Sheet (range): Kilmarnock ($A$1:$X$12)\n",
      "Completed.\n"
     ]
    },
    {
     "data": {
      "text/html": [
       "<a href=\"outputs/xl/town_data/2021 sales orders - Kingston upon Thames.xlsx\">outputs/xl/town_data/2021 sales orders - Kingston upon Thames.xlsx</a>"
      ],
      "text/plain": [
       "<IPython.core.display.HTML object>"
      ]
     },
     "metadata": {},
     "output_type": "display_data"
    },
    {
     "name": "stderr",
     "output_type": "stream",
     "text": [
      "Workbook: outputs/xl/town_data/2021 sales orders - Kingston upon Thames.xlsx\n",
      "<< mult-sheet mode >>\n",
      "Sheet (range): Kingston upon Thames ($A$1:$X$29)\n",
      "Completed.\n"
     ]
    },
    {
     "data": {
      "text/html": [
       "<a href=\"outputs/xl/town_data/2021 sales orders - Kirkcaldy.xlsx\">outputs/xl/town_data/2021 sales orders - Kirkcaldy.xlsx</a>"
      ],
      "text/plain": [
       "<IPython.core.display.HTML object>"
      ]
     },
     "metadata": {},
     "output_type": "display_data"
    },
    {
     "name": "stderr",
     "output_type": "stream",
     "text": [
      "Workbook: outputs/xl/town_data/2021 sales orders - Kirkcaldy.xlsx\n",
      "<< mult-sheet mode >>\n",
      "Sheet (range): Kirkcaldy ($A$1:$X$18)\n",
      "Completed.\n"
     ]
    },
    {
     "data": {
      "text/html": [
       "<a href=\"outputs/xl/town_data/2021 sales orders - Lancaster.xlsx\">outputs/xl/town_data/2021 sales orders - Lancaster.xlsx</a>"
      ],
      "text/plain": [
       "<IPython.core.display.HTML object>"
      ]
     },
     "metadata": {},
     "output_type": "display_data"
    },
    {
     "name": "stderr",
     "output_type": "stream",
     "text": [
      "Workbook: outputs/xl/town_data/2021 sales orders - Lancaster.xlsx\n",
      "<< mult-sheet mode >>\n",
      "Sheet (range): Lancaster ($A$1:$X$73)\n",
      "Completed.\n"
     ]
    },
    {
     "data": {
      "text/html": [
       "<a href=\"outputs/xl/town_data/2021 sales orders - Leeds.xlsx\">outputs/xl/town_data/2021 sales orders - Leeds.xlsx</a>"
      ],
      "text/plain": [
       "<IPython.core.display.HTML object>"
      ]
     },
     "metadata": {},
     "output_type": "display_data"
    },
    {
     "name": "stderr",
     "output_type": "stream",
     "text": [
      "Workbook: outputs/xl/town_data/2021 sales orders - Leeds.xlsx\n",
      "<< mult-sheet mode >>\n",
      "Sheet (range): Leeds ($A$1:$X$43)\n",
      "Completed.\n"
     ]
    },
    {
     "data": {
      "text/html": [
       "<a href=\"outputs/xl/town_data/2021 sales orders - Leicester.xlsx\">outputs/xl/town_data/2021 sales orders - Leicester.xlsx</a>"
      ],
      "text/plain": [
       "<IPython.core.display.HTML object>"
      ]
     },
     "metadata": {},
     "output_type": "display_data"
    },
    {
     "name": "stderr",
     "output_type": "stream",
     "text": [
      "Workbook: outputs/xl/town_data/2021 sales orders - Leicester.xlsx\n",
      "<< mult-sheet mode >>\n",
      "Sheet (range): Leicester ($A$1:$X$43)\n",
      "Completed.\n"
     ]
    },
    {
     "data": {
      "text/html": [
       "<a href=\"outputs/xl/town_data/2021 sales orders - Lincoln.xlsx\">outputs/xl/town_data/2021 sales orders - Lincoln.xlsx</a>"
      ],
      "text/plain": [
       "<IPython.core.display.HTML object>"
      ]
     },
     "metadata": {},
     "output_type": "display_data"
    },
    {
     "name": "stderr",
     "output_type": "stream",
     "text": [
      "Workbook: outputs/xl/town_data/2021 sales orders - Lincoln.xlsx\n",
      "<< mult-sheet mode >>\n",
      "Sheet (range): Lincoln ($A$1:$X$28)\n",
      "Completed.\n"
     ]
    },
    {
     "data": {
      "text/html": [
       "<a href=\"outputs/xl/town_data/2021 sales orders - Liverpool.xlsx\">outputs/xl/town_data/2021 sales orders - Liverpool.xlsx</a>"
      ],
      "text/plain": [
       "<IPython.core.display.HTML object>"
      ]
     },
     "metadata": {},
     "output_type": "display_data"
    },
    {
     "name": "stderr",
     "output_type": "stream",
     "text": [
      "Workbook: outputs/xl/town_data/2021 sales orders - Liverpool.xlsx\n",
      "<< mult-sheet mode >>\n",
      "Sheet (range): Liverpool ($A$1:$X$27)\n",
      "Completed.\n"
     ]
    },
    {
     "data": {
      "text/html": [
       "<a href=\"outputs/xl/town_data/2021 sales orders - Llandrindod Wells.xlsx\">outputs/xl/town_data/2021 sales orders - Llandrindod Wells.xlsx</a>"
      ],
      "text/plain": [
       "<IPython.core.display.HTML object>"
      ]
     },
     "metadata": {},
     "output_type": "display_data"
    },
    {
     "name": "stderr",
     "output_type": "stream",
     "text": [
      "Workbook: outputs/xl/town_data/2021 sales orders - Llandrindod Wells.xlsx\n",
      "<< mult-sheet mode >>\n",
      "Sheet (range): Llandrindod Wells ($A$1:$X$21)\n",
      "Completed.\n"
     ]
    },
    {
     "data": {
      "text/html": [
       "<a href=\"outputs/xl/town_data/2021 sales orders - Llandudno.xlsx\">outputs/xl/town_data/2021 sales orders - Llandudno.xlsx</a>"
      ],
      "text/plain": [
       "<IPython.core.display.HTML object>"
      ]
     },
     "metadata": {},
     "output_type": "display_data"
    },
    {
     "name": "stderr",
     "output_type": "stream",
     "text": [
      "Workbook: outputs/xl/town_data/2021 sales orders - Llandudno.xlsx\n",
      "<< mult-sheet mode >>\n",
      "Sheet (range): Llandudno ($A$1:$X$98)\n",
      "Completed.\n"
     ]
    },
    {
     "data": {
      "text/html": [
       "<a href=\"outputs/xl/town_data/2021 sales orders - Manchester.xlsx\">outputs/xl/town_data/2021 sales orders - Manchester.xlsx</a>"
      ],
      "text/plain": [
       "<IPython.core.display.HTML object>"
      ]
     },
     "metadata": {},
     "output_type": "display_data"
    },
    {
     "name": "stderr",
     "output_type": "stream",
     "text": [
      "Workbook: outputs/xl/town_data/2021 sales orders - Manchester.xlsx\n",
      "<< mult-sheet mode >>\n",
      "Sheet (range): Manchester ($A$1:$X$71)\n",
      "Completed.\n"
     ]
    },
    {
     "data": {
      "text/html": [
       "<a href=\"outputs/xl/town_data/2021 sales orders - Milton Keynes.xlsx\">outputs/xl/town_data/2021 sales orders - Milton Keynes.xlsx</a>"
      ],
      "text/plain": [
       "<IPython.core.display.HTML object>"
      ]
     },
     "metadata": {},
     "output_type": "display_data"
    },
    {
     "name": "stderr",
     "output_type": "stream",
     "text": [
      "Workbook: outputs/xl/town_data/2021 sales orders - Milton Keynes.xlsx\n",
      "<< mult-sheet mode >>\n",
      "Sheet (range): Milton Keynes ($A$1:$X$52)\n",
      "Completed.\n"
     ]
    },
    {
     "data": {
      "text/html": [
       "<a href=\"outputs/xl/town_data/2021 sales orders - Newcastle upon Tyne.xlsx\">outputs/xl/town_data/2021 sales orders - Newcastle upon Tyne.xlsx</a>"
      ],
      "text/plain": [
       "<IPython.core.display.HTML object>"
      ]
     },
     "metadata": {},
     "output_type": "display_data"
    },
    {
     "name": "stderr",
     "output_type": "stream",
     "text": [
      "Workbook: outputs/xl/town_data/2021 sales orders - Newcastle upon Tyne.xlsx\n",
      "<< mult-sheet mode >>\n",
      "Sheet (range): Newcastle upon Tyne ($A$1:$X$39)\n",
      "Completed.\n"
     ]
    },
    {
     "data": {
      "text/html": [
       "<a href=\"outputs/xl/town_data/2021 sales orders - Newport.xlsx\">outputs/xl/town_data/2021 sales orders - Newport.xlsx</a>"
      ],
      "text/plain": [
       "<IPython.core.display.HTML object>"
      ]
     },
     "metadata": {},
     "output_type": "display_data"
    },
    {
     "name": "stderr",
     "output_type": "stream",
     "text": [
      "Workbook: outputs/xl/town_data/2021 sales orders - Newport.xlsx\n",
      "<< mult-sheet mode >>\n",
      "Sheet (range): Newport ($A$1:$X$23)\n",
      "Completed.\n"
     ]
    },
    {
     "data": {
      "text/html": [
       "<a href=\"outputs/xl/town_data/2021 sales orders - North West London.xlsx\">outputs/xl/town_data/2021 sales orders - North West London.xlsx</a>"
      ],
      "text/plain": [
       "<IPython.core.display.HTML object>"
      ]
     },
     "metadata": {},
     "output_type": "display_data"
    },
    {
     "name": "stderr",
     "output_type": "stream",
     "text": [
      "Workbook: outputs/xl/town_data/2021 sales orders - North West London.xlsx\n",
      "<< mult-sheet mode >>\n",
      "Sheet (range): North West London ($A$1:$X$30)\n",
      "Completed.\n"
     ]
    },
    {
     "data": {
      "text/html": [
       "<a href=\"outputs/xl/town_data/2021 sales orders - Northampton.xlsx\">outputs/xl/town_data/2021 sales orders - Northampton.xlsx</a>"
      ],
      "text/plain": [
       "<IPython.core.display.HTML object>"
      ]
     },
     "metadata": {},
     "output_type": "display_data"
    },
    {
     "name": "stderr",
     "output_type": "stream",
     "text": [
      "Workbook: outputs/xl/town_data/2021 sales orders - Northampton.xlsx\n",
      "<< mult-sheet mode >>\n",
      "Sheet (range): Northampton ($A$1:$X$40)\n",
      "Completed.\n"
     ]
    },
    {
     "data": {
      "text/html": [
       "<a href=\"outputs/xl/town_data/2021 sales orders - Norwich.xlsx\">outputs/xl/town_data/2021 sales orders - Norwich.xlsx</a>"
      ],
      "text/plain": [
       "<IPython.core.display.HTML object>"
      ]
     },
     "metadata": {},
     "output_type": "display_data"
    },
    {
     "name": "stderr",
     "output_type": "stream",
     "text": [
      "Workbook: outputs/xl/town_data/2021 sales orders - Norwich.xlsx\n",
      "<< mult-sheet mode >>\n",
      "Sheet (range): Norwich ($A$1:$X$64)\n",
      "Completed.\n"
     ]
    },
    {
     "data": {
      "text/html": [
       "<a href=\"outputs/xl/town_data/2021 sales orders - Nottingham.xlsx\">outputs/xl/town_data/2021 sales orders - Nottingham.xlsx</a>"
      ],
      "text/plain": [
       "<IPython.core.display.HTML object>"
      ]
     },
     "metadata": {},
     "output_type": "display_data"
    },
    {
     "name": "stderr",
     "output_type": "stream",
     "text": [
      "Workbook: outputs/xl/town_data/2021 sales orders - Nottingham.xlsx\n",
      "<< mult-sheet mode >>\n",
      "Sheet (range): Nottingham ($A$1:$X$145)\n",
      "Completed.\n"
     ]
    },
    {
     "data": {
      "text/html": [
       "<a href=\"outputs/xl/town_data/2021 sales orders - Oldham.xlsx\">outputs/xl/town_data/2021 sales orders - Oldham.xlsx</a>"
      ],
      "text/plain": [
       "<IPython.core.display.HTML object>"
      ]
     },
     "metadata": {},
     "output_type": "display_data"
    },
    {
     "name": "stderr",
     "output_type": "stream",
     "text": [
      "Workbook: outputs/xl/town_data/2021 sales orders - Oldham.xlsx\n",
      "<< mult-sheet mode >>\n",
      "Sheet (range): Oldham ($A$1:$X$66)\n",
      "Completed.\n"
     ]
    },
    {
     "data": {
      "text/html": [
       "<a href=\"outputs/xl/town_data/2021 sales orders - Oxford.xlsx\">outputs/xl/town_data/2021 sales orders - Oxford.xlsx</a>"
      ],
      "text/plain": [
       "<IPython.core.display.HTML object>"
      ]
     },
     "metadata": {},
     "output_type": "display_data"
    },
    {
     "name": "stderr",
     "output_type": "stream",
     "text": [
      "Workbook: outputs/xl/town_data/2021 sales orders - Oxford.xlsx\n",
      "<< mult-sheet mode >>\n",
      "Sheet (range): Oxford ($A$1:$X$27)\n",
      "Completed.\n"
     ]
    },
    {
     "data": {
      "text/html": [
       "<a href=\"outputs/xl/town_data/2021 sales orders - Paisley.xlsx\">outputs/xl/town_data/2021 sales orders - Paisley.xlsx</a>"
      ],
      "text/plain": [
       "<IPython.core.display.HTML object>"
      ]
     },
     "metadata": {},
     "output_type": "display_data"
    },
    {
     "name": "stderr",
     "output_type": "stream",
     "text": [
      "Workbook: outputs/xl/town_data/2021 sales orders - Paisley.xlsx\n",
      "<< mult-sheet mode >>\n",
      "Sheet (range): Paisley ($A$1:$X$26)\n",
      "Completed.\n"
     ]
    },
    {
     "data": {
      "text/html": [
       "<a href=\"outputs/xl/town_data/2021 sales orders - Peterborough.xlsx\">outputs/xl/town_data/2021 sales orders - Peterborough.xlsx</a>"
      ],
      "text/plain": [
       "<IPython.core.display.HTML object>"
      ]
     },
     "metadata": {},
     "output_type": "display_data"
    },
    {
     "name": "stderr",
     "output_type": "stream",
     "text": [
      "Workbook: outputs/xl/town_data/2021 sales orders - Peterborough.xlsx\n",
      "<< mult-sheet mode >>\n",
      "Sheet (range): Peterborough ($A$1:$X$75)\n",
      "Completed.\n"
     ]
    },
    {
     "data": {
      "text/html": [
       "<a href=\"outputs/xl/town_data/2021 sales orders - Plymouth.xlsx\">outputs/xl/town_data/2021 sales orders - Plymouth.xlsx</a>"
      ],
      "text/plain": [
       "<IPython.core.display.HTML object>"
      ]
     },
     "metadata": {},
     "output_type": "display_data"
    },
    {
     "name": "stderr",
     "output_type": "stream",
     "text": [
      "Workbook: outputs/xl/town_data/2021 sales orders - Plymouth.xlsx\n",
      "<< mult-sheet mode >>\n",
      "Sheet (range): Plymouth ($A$1:$X$86)\n",
      "Completed.\n"
     ]
    },
    {
     "data": {
      "text/html": [
       "<a href=\"outputs/xl/town_data/2021 sales orders - Portsmouth.xlsx\">outputs/xl/town_data/2021 sales orders - Portsmouth.xlsx</a>"
      ],
      "text/plain": [
       "<IPython.core.display.HTML object>"
      ]
     },
     "metadata": {},
     "output_type": "display_data"
    },
    {
     "name": "stderr",
     "output_type": "stream",
     "text": [
      "Workbook: outputs/xl/town_data/2021 sales orders - Portsmouth.xlsx\n",
      "<< mult-sheet mode >>\n",
      "Sheet (range): Portsmouth ($A$1:$X$34)\n",
      "Completed.\n"
     ]
    },
    {
     "data": {
      "text/html": [
       "<a href=\"outputs/xl/town_data/2021 sales orders - Preston.xlsx\">outputs/xl/town_data/2021 sales orders - Preston.xlsx</a>"
      ],
      "text/plain": [
       "<IPython.core.display.HTML object>"
      ]
     },
     "metadata": {},
     "output_type": "display_data"
    },
    {
     "name": "stderr",
     "output_type": "stream",
     "text": [
      "Workbook: outputs/xl/town_data/2021 sales orders - Preston.xlsx\n",
      "<< mult-sheet mode >>\n",
      "Sheet (range): Preston ($A$1:$X$45)\n",
      "Completed.\n"
     ]
    },
    {
     "data": {
      "text/html": [
       "<a href=\"outputs/xl/town_data/2021 sales orders - Reading.xlsx\">outputs/xl/town_data/2021 sales orders - Reading.xlsx</a>"
      ],
      "text/plain": [
       "<IPython.core.display.HTML object>"
      ]
     },
     "metadata": {},
     "output_type": "display_data"
    },
    {
     "name": "stderr",
     "output_type": "stream",
     "text": [
      "Workbook: outputs/xl/town_data/2021 sales orders - Reading.xlsx\n",
      "<< mult-sheet mode >>\n",
      "Sheet (range): Reading ($A$1:$X$42)\n",
      "Completed.\n"
     ]
    },
    {
     "data": {
      "text/html": [
       "<a href=\"outputs/xl/town_data/2021 sales orders - Redhill.xlsx\">outputs/xl/town_data/2021 sales orders - Redhill.xlsx</a>"
      ],
      "text/plain": [
       "<IPython.core.display.HTML object>"
      ]
     },
     "metadata": {},
     "output_type": "display_data"
    },
    {
     "name": "stderr",
     "output_type": "stream",
     "text": [
      "Workbook: outputs/xl/town_data/2021 sales orders - Redhill.xlsx\n",
      "<< mult-sheet mode >>\n",
      "Sheet (range): Redhill ($A$1:$X$56)\n",
      "Completed.\n"
     ]
    },
    {
     "data": {
      "text/html": [
       "<a href=\"outputs/xl/town_data/2021 sales orders - Rochester.xlsx\">outputs/xl/town_data/2021 sales orders - Rochester.xlsx</a>"
      ],
      "text/plain": [
       "<IPython.core.display.HTML object>"
      ]
     },
     "metadata": {},
     "output_type": "display_data"
    },
    {
     "name": "stderr",
     "output_type": "stream",
     "text": [
      "Workbook: outputs/xl/town_data/2021 sales orders - Rochester.xlsx\n",
      "<< mult-sheet mode >>\n",
      "Sheet (range): Rochester ($A$1:$X$30)\n",
      "Completed.\n"
     ]
    },
    {
     "data": {
      "text/html": [
       "<a href=\"outputs/xl/town_data/2021 sales orders - Salisbury.xlsx\">outputs/xl/town_data/2021 sales orders - Salisbury.xlsx</a>"
      ],
      "text/plain": [
       "<IPython.core.display.HTML object>"
      ]
     },
     "metadata": {},
     "output_type": "display_data"
    },
    {
     "name": "stderr",
     "output_type": "stream",
     "text": [
      "Workbook: outputs/xl/town_data/2021 sales orders - Salisbury.xlsx\n",
      "<< mult-sheet mode >>\n",
      "Sheet (range): Salisbury ($A$1:$X$38)\n",
      "Completed.\n"
     ]
    },
    {
     "data": {
      "text/html": [
       "<a href=\"outputs/xl/town_data/2021 sales orders - Sheffield.xlsx\">outputs/xl/town_data/2021 sales orders - Sheffield.xlsx</a>"
      ],
      "text/plain": [
       "<IPython.core.display.HTML object>"
      ]
     },
     "metadata": {},
     "output_type": "display_data"
    },
    {
     "name": "stderr",
     "output_type": "stream",
     "text": [
      "Workbook: outputs/xl/town_data/2021 sales orders - Sheffield.xlsx\n",
      "<< mult-sheet mode >>\n",
      "Sheet (range): Sheffield ($A$1:$X$67)\n",
      "Completed.\n"
     ]
    },
    {
     "data": {
      "text/html": [
       "<a href=\"outputs/xl/town_data/2021 sales orders - Shrewsbury.xlsx\">outputs/xl/town_data/2021 sales orders - Shrewsbury.xlsx</a>"
      ],
      "text/plain": [
       "<IPython.core.display.HTML object>"
      ]
     },
     "metadata": {},
     "output_type": "display_data"
    },
    {
     "name": "stderr",
     "output_type": "stream",
     "text": [
      "Workbook: outputs/xl/town_data/2021 sales orders - Shrewsbury.xlsx\n",
      "<< mult-sheet mode >>\n",
      "Sheet (range): Shrewsbury ($A$1:$X$68)\n",
      "Completed.\n"
     ]
    },
    {
     "data": {
      "text/html": [
       "<a href=\"outputs/xl/town_data/2021 sales orders - Slough.xlsx\">outputs/xl/town_data/2021 sales orders - Slough.xlsx</a>"
      ],
      "text/plain": [
       "<IPython.core.display.HTML object>"
      ]
     },
     "metadata": {},
     "output_type": "display_data"
    },
    {
     "name": "stderr",
     "output_type": "stream",
     "text": [
      "Workbook: outputs/xl/town_data/2021 sales orders - Slough.xlsx\n",
      "<< mult-sheet mode >>\n",
      "Sheet (range): Slough ($A$1:$X$32)\n",
      "Completed.\n"
     ]
    },
    {
     "data": {
      "text/html": [
       "<a href=\"outputs/xl/town_data/2021 sales orders - South East London.xlsx\">outputs/xl/town_data/2021 sales orders - South East London.xlsx</a>"
      ],
      "text/plain": [
       "<IPython.core.display.HTML object>"
      ]
     },
     "metadata": {},
     "output_type": "display_data"
    },
    {
     "name": "stderr",
     "output_type": "stream",
     "text": [
      "Workbook: outputs/xl/town_data/2021 sales orders - South East London.xlsx\n",
      "<< mult-sheet mode >>\n",
      "Sheet (range): South East London ($A$1:$X$46)\n",
      "Completed.\n"
     ]
    },
    {
     "data": {
      "text/html": [
       "<a href=\"outputs/xl/town_data/2021 sales orders - South West London.xlsx\">outputs/xl/town_data/2021 sales orders - South West London.xlsx</a>"
      ],
      "text/plain": [
       "<IPython.core.display.HTML object>"
      ]
     },
     "metadata": {},
     "output_type": "display_data"
    },
    {
     "name": "stderr",
     "output_type": "stream",
     "text": [
      "Workbook: outputs/xl/town_data/2021 sales orders - South West London.xlsx\n",
      "<< mult-sheet mode >>\n",
      "Sheet (range): South West London ($A$1:$X$34)\n",
      "Completed.\n"
     ]
    },
    {
     "data": {
      "text/html": [
       "<a href=\"outputs/xl/town_data/2021 sales orders - Southall.xlsx\">outputs/xl/town_data/2021 sales orders - Southall.xlsx</a>"
      ],
      "text/plain": [
       "<IPython.core.display.HTML object>"
      ]
     },
     "metadata": {},
     "output_type": "display_data"
    },
    {
     "name": "stderr",
     "output_type": "stream",
     "text": [
      "Workbook: outputs/xl/town_data/2021 sales orders - Southall.xlsx\n",
      "<< mult-sheet mode >>\n",
      "Sheet (range): Southall ($A$1:$X$30)\n",
      "Completed.\n"
     ]
    },
    {
     "data": {
      "text/html": [
       "<a href=\"outputs/xl/town_data/2021 sales orders - Southampton.xlsx\">outputs/xl/town_data/2021 sales orders - Southampton.xlsx</a>"
      ],
      "text/plain": [
       "<IPython.core.display.HTML object>"
      ]
     },
     "metadata": {},
     "output_type": "display_data"
    },
    {
     "name": "stderr",
     "output_type": "stream",
     "text": [
      "Workbook: outputs/xl/town_data/2021 sales orders - Southampton.xlsx\n",
      "<< mult-sheet mode >>\n",
      "Sheet (range): Southampton ($A$1:$X$24)\n",
      "Completed.\n"
     ]
    },
    {
     "data": {
      "text/html": [
       "<a href=\"outputs/xl/town_data/2021 sales orders - Southend-on-Sea.xlsx\">outputs/xl/town_data/2021 sales orders - Southend-on-Sea.xlsx</a>"
      ],
      "text/plain": [
       "<IPython.core.display.HTML object>"
      ]
     },
     "metadata": {},
     "output_type": "display_data"
    },
    {
     "name": "stderr",
     "output_type": "stream",
     "text": [
      "Workbook: outputs/xl/town_data/2021 sales orders - Southend-on-Sea.xlsx\n",
      "<< mult-sheet mode >>\n",
      "Sheet (range): Southend-on-Sea ($A$1:$X$14)\n",
      "Completed.\n"
     ]
    },
    {
     "data": {
      "text/html": [
       "<a href=\"outputs/xl/town_data/2021 sales orders - St Albans.xlsx\">outputs/xl/town_data/2021 sales orders - St Albans.xlsx</a>"
      ],
      "text/plain": [
       "<IPython.core.display.HTML object>"
      ]
     },
     "metadata": {},
     "output_type": "display_data"
    },
    {
     "name": "stderr",
     "output_type": "stream",
     "text": [
      "Workbook: outputs/xl/town_data/2021 sales orders - St Albans.xlsx\n",
      "<< mult-sheet mode >>\n",
      "Sheet (range): St Albans ($A$1:$X$7)\n",
      "Completed.\n"
     ]
    },
    {
     "data": {
      "text/html": [
       "<a href=\"outputs/xl/town_data/2021 sales orders - Stevenage.xlsx\">outputs/xl/town_data/2021 sales orders - Stevenage.xlsx</a>"
      ],
      "text/plain": [
       "<IPython.core.display.HTML object>"
      ]
     },
     "metadata": {},
     "output_type": "display_data"
    },
    {
     "name": "stderr",
     "output_type": "stream",
     "text": [
      "Workbook: outputs/xl/town_data/2021 sales orders - Stevenage.xlsx\n",
      "<< mult-sheet mode >>\n",
      "Sheet (range): Stevenage ($A$1:$X$49)\n",
      "Completed.\n"
     ]
    },
    {
     "data": {
      "text/html": [
       "<a href=\"outputs/xl/town_data/2021 sales orders - Stockport.xlsx\">outputs/xl/town_data/2021 sales orders - Stockport.xlsx</a>"
      ],
      "text/plain": [
       "<IPython.core.display.HTML object>"
      ]
     },
     "metadata": {},
     "output_type": "display_data"
    },
    {
     "name": "stderr",
     "output_type": "stream",
     "text": [
      "Workbook: outputs/xl/town_data/2021 sales orders - Stockport.xlsx\n",
      "<< mult-sheet mode >>\n",
      "Sheet (range): Stockport ($A$1:$X$62)\n",
      "Completed.\n"
     ]
    },
    {
     "data": {
      "text/html": [
       "<a href=\"outputs/xl/town_data/2021 sales orders - Sunderland.xlsx\">outputs/xl/town_data/2021 sales orders - Sunderland.xlsx</a>"
      ],
      "text/plain": [
       "<IPython.core.display.HTML object>"
      ]
     },
     "metadata": {},
     "output_type": "display_data"
    },
    {
     "name": "stderr",
     "output_type": "stream",
     "text": [
      "Workbook: outputs/xl/town_data/2021 sales orders - Sunderland.xlsx\n",
      "<< mult-sheet mode >>\n",
      "Sheet (range): Sunderland ($A$1:$X$15)\n",
      "Completed.\n"
     ]
    },
    {
     "data": {
      "text/html": [
       "<a href=\"outputs/xl/town_data/2021 sales orders - Sutton.xlsx\">outputs/xl/town_data/2021 sales orders - Sutton.xlsx</a>"
      ],
      "text/plain": [
       "<IPython.core.display.HTML object>"
      ]
     },
     "metadata": {},
     "output_type": "display_data"
    },
    {
     "name": "stderr",
     "output_type": "stream",
     "text": [
      "Workbook: outputs/xl/town_data/2021 sales orders - Sutton.xlsx\n",
      "<< mult-sheet mode >>\n",
      "Sheet (range): Sutton ($A$1:$X$11)\n",
      "Completed.\n"
     ]
    },
    {
     "data": {
      "text/html": [
       "<a href=\"outputs/xl/town_data/2021 sales orders - Swansea.xlsx\">outputs/xl/town_data/2021 sales orders - Swansea.xlsx</a>"
      ],
      "text/plain": [
       "<IPython.core.display.HTML object>"
      ]
     },
     "metadata": {},
     "output_type": "display_data"
    },
    {
     "name": "stderr",
     "output_type": "stream",
     "text": [
      "Workbook: outputs/xl/town_data/2021 sales orders - Swansea.xlsx\n",
      "<< mult-sheet mode >>\n",
      "Sheet (range): Swansea ($A$1:$X$37)\n",
      "Completed.\n"
     ]
    },
    {
     "data": {
      "text/html": [
       "<a href=\"outputs/xl/town_data/2021 sales orders - Taunton.xlsx\">outputs/xl/town_data/2021 sales orders - Taunton.xlsx</a>"
      ],
      "text/plain": [
       "<IPython.core.display.HTML object>"
      ]
     },
     "metadata": {},
     "output_type": "display_data"
    },
    {
     "name": "stderr",
     "output_type": "stream",
     "text": [
      "Workbook: outputs/xl/town_data/2021 sales orders - Taunton.xlsx\n",
      "<< mult-sheet mode >>\n",
      "Sheet (range): Taunton ($A$1:$X$19)\n",
      "Completed.\n"
     ]
    },
    {
     "data": {
      "text/html": [
       "<a href=\"outputs/xl/town_data/2021 sales orders - Telford.xlsx\">outputs/xl/town_data/2021 sales orders - Telford.xlsx</a>"
      ],
      "text/plain": [
       "<IPython.core.display.HTML object>"
      ]
     },
     "metadata": {},
     "output_type": "display_data"
    },
    {
     "name": "stderr",
     "output_type": "stream",
     "text": [
      "Workbook: outputs/xl/town_data/2021 sales orders - Telford.xlsx\n",
      "<< mult-sheet mode >>\n",
      "Sheet (range): Telford ($A$1:$X$10)\n",
      "Completed.\n"
     ]
    },
    {
     "data": {
      "text/html": [
       "<a href=\"outputs/xl/town_data/2021 sales orders - Tonbridge.xlsx\">outputs/xl/town_data/2021 sales orders - Tonbridge.xlsx</a>"
      ],
      "text/plain": [
       "<IPython.core.display.HTML object>"
      ]
     },
     "metadata": {},
     "output_type": "display_data"
    },
    {
     "name": "stderr",
     "output_type": "stream",
     "text": [
      "Workbook: outputs/xl/town_data/2021 sales orders - Tonbridge.xlsx\n",
      "<< mult-sheet mode >>\n",
      "Sheet (range): Tonbridge ($A$1:$X$21)\n",
      "Completed.\n"
     ]
    },
    {
     "data": {
      "text/html": [
       "<a href=\"outputs/xl/town_data/2021 sales orders - Torquay.xlsx\">outputs/xl/town_data/2021 sales orders - Torquay.xlsx</a>"
      ],
      "text/plain": [
       "<IPython.core.display.HTML object>"
      ]
     },
     "metadata": {},
     "output_type": "display_data"
    },
    {
     "name": "stderr",
     "output_type": "stream",
     "text": [
      "Workbook: outputs/xl/town_data/2021 sales orders - Torquay.xlsx\n",
      "<< mult-sheet mode >>\n",
      "Sheet (range): Torquay ($A$1:$X$6)\n",
      "Completed.\n"
     ]
    },
    {
     "data": {
      "text/html": [
       "<a href=\"outputs/xl/town_data/2021 sales orders - Truro.xlsx\">outputs/xl/town_data/2021 sales orders - Truro.xlsx</a>"
      ],
      "text/plain": [
       "<IPython.core.display.HTML object>"
      ]
     },
     "metadata": {},
     "output_type": "display_data"
    },
    {
     "name": "stderr",
     "output_type": "stream",
     "text": [
      "Workbook: outputs/xl/town_data/2021 sales orders - Truro.xlsx\n",
      "<< mult-sheet mode >>\n",
      "Sheet (range): Truro ($A$1:$X$42)\n",
      "Completed.\n"
     ]
    },
    {
     "data": {
      "text/html": [
       "<a href=\"outputs/xl/town_data/2021 sales orders - Twickenham.xlsx\">outputs/xl/town_data/2021 sales orders - Twickenham.xlsx</a>"
      ],
      "text/plain": [
       "<IPython.core.display.HTML object>"
      ]
     },
     "metadata": {},
     "output_type": "display_data"
    },
    {
     "name": "stderr",
     "output_type": "stream",
     "text": [
      "Workbook: outputs/xl/town_data/2021 sales orders - Twickenham.xlsx\n",
      "<< mult-sheet mode >>\n",
      "Sheet (range): Twickenham ($A$1:$X$20)\n",
      "Completed.\n"
     ]
    },
    {
     "data": {
      "text/html": [
       "<a href=\"outputs/xl/town_data/2021 sales orders - Wakefield.xlsx\">outputs/xl/town_data/2021 sales orders - Wakefield.xlsx</a>"
      ],
      "text/plain": [
       "<IPython.core.display.HTML object>"
      ]
     },
     "metadata": {},
     "output_type": "display_data"
    },
    {
     "name": "stderr",
     "output_type": "stream",
     "text": [
      "Workbook: outputs/xl/town_data/2021 sales orders - Wakefield.xlsx\n",
      "<< mult-sheet mode >>\n",
      "Sheet (range): Wakefield ($A$1:$X$38)\n",
      "Completed.\n"
     ]
    },
    {
     "data": {
      "text/html": [
       "<a href=\"outputs/xl/town_data/2021 sales orders - Walsall.xlsx\">outputs/xl/town_data/2021 sales orders - Walsall.xlsx</a>"
      ],
      "text/plain": [
       "<IPython.core.display.HTML object>"
      ]
     },
     "metadata": {},
     "output_type": "display_data"
    },
    {
     "name": "stderr",
     "output_type": "stream",
     "text": [
      "Workbook: outputs/xl/town_data/2021 sales orders - Walsall.xlsx\n",
      "<< mult-sheet mode >>\n",
      "Sheet (range): Walsall ($A$1:$X$28)\n",
      "Completed.\n"
     ]
    },
    {
     "data": {
      "text/html": [
       "<a href=\"outputs/xl/town_data/2021 sales orders - Warrington.xlsx\">outputs/xl/town_data/2021 sales orders - Warrington.xlsx</a>"
      ],
      "text/plain": [
       "<IPython.core.display.HTML object>"
      ]
     },
     "metadata": {},
     "output_type": "display_data"
    },
    {
     "name": "stderr",
     "output_type": "stream",
     "text": [
      "Workbook: outputs/xl/town_data/2021 sales orders - Warrington.xlsx\n",
      "<< mult-sheet mode >>\n",
      "Sheet (range): Warrington ($A$1:$X$29)\n",
      "Completed.\n"
     ]
    },
    {
     "data": {
      "text/html": [
       "<a href=\"outputs/xl/town_data/2021 sales orders - West London.xlsx\">outputs/xl/town_data/2021 sales orders - West London.xlsx</a>"
      ],
      "text/plain": [
       "<IPython.core.display.HTML object>"
      ]
     },
     "metadata": {},
     "output_type": "display_data"
    },
    {
     "name": "stderr",
     "output_type": "stream",
     "text": [
      "Workbook: outputs/xl/town_data/2021 sales orders - West London.xlsx\n",
      "<< mult-sheet mode >>\n",
      "Sheet (range): West London ($A$1:$X$50)\n",
      "Completed.\n"
     ]
    },
    {
     "data": {
      "text/html": [
       "<a href=\"outputs/xl/town_data/2021 sales orders - Wigan.xlsx\">outputs/xl/town_data/2021 sales orders - Wigan.xlsx</a>"
      ],
      "text/plain": [
       "<IPython.core.display.HTML object>"
      ]
     },
     "metadata": {},
     "output_type": "display_data"
    },
    {
     "name": "stderr",
     "output_type": "stream",
     "text": [
      "Workbook: outputs/xl/town_data/2021 sales orders - Wigan.xlsx\n",
      "<< mult-sheet mode >>\n",
      "Sheet (range): Wigan ($A$1:$X$10)\n",
      "Completed.\n"
     ]
    },
    {
     "data": {
      "text/html": [
       "<a href=\"outputs/xl/town_data/2021 sales orders - Worcester.xlsx\">outputs/xl/town_data/2021 sales orders - Worcester.xlsx</a>"
      ],
      "text/plain": [
       "<IPython.core.display.HTML object>"
      ]
     },
     "metadata": {},
     "output_type": "display_data"
    },
    {
     "name": "stderr",
     "output_type": "stream",
     "text": [
      "Workbook: outputs/xl/town_data/2021 sales orders - Worcester.xlsx\n",
      "<< mult-sheet mode >>\n",
      "Sheet (range): Worcester ($A$1:$X$31)\n",
      "Completed.\n"
     ]
    },
    {
     "data": {
      "text/html": [
       "<a href=\"outputs/xl/town_data/2021 sales orders - York.xlsx\">outputs/xl/town_data/2021 sales orders - York.xlsx</a>"
      ],
      "text/plain": [
       "<IPython.core.display.HTML object>"
      ]
     },
     "metadata": {},
     "output_type": "display_data"
    },
    {
     "name": "stderr",
     "output_type": "stream",
     "text": [
      "Workbook: outputs/xl/town_data/2021 sales orders - York.xlsx\n",
      "<< mult-sheet mode >>\n",
      "Sheet (range): York ($A$1:$X$49)\n",
      "Completed.\n"
     ]
    }
   ],
   "source": [
    "for town, df in dataset.items():\n",
    "    xl_file = f'outputs/xl/town_data/{year} sales orders - {town}'\n",
    "#     logger.info(xl_file)\n",
    "#     print({town: df.shape})\n",
    "    WorkBook(xl_file, sheets={town: df}, ts_prefix=False)"
   ]
  },
  {
   "cell_type": "markdown",
   "metadata": {},
   "source": [
    "## (csv) -  customer_orders -> split_dataframe -> multiple csvs"
   ]
  },
  {
   "cell_type": "code",
   "execution_count": 25,
   "metadata": {
    "ExecuteTime": {
     "end_time": "2021-03-09T20:32:25.264971Z",
     "start_time": "2021-03-09T20:32:25.245530Z"
    }
   },
   "outputs": [
    {
     "name": "stderr",
     "output_type": "stream",
     "text": [
      "3982 rows, 13 columns\n"
     ]
    },
    {
     "data": {
      "text/html": [
       "<div>\n",
       "<style scoped>\n",
       "    .dataframe tbody tr th:only-of-type {\n",
       "        vertical-align: middle;\n",
       "    }\n",
       "\n",
       "    .dataframe tbody tr th {\n",
       "        vertical-align: top;\n",
       "    }\n",
       "\n",
       "    .dataframe thead th {\n",
       "        text-align: right;\n",
       "    }\n",
       "</style>\n",
       "<table border=\"1\" class=\"dataframe\">\n",
       "  <thead>\n",
       "    <tr style=\"text-align: right;\">\n",
       "      <th></th>\n",
       "      <th>order_no</th>\n",
       "      <th>order_type</th>\n",
       "      <th>company</th>\n",
       "      <th>order_line</th>\n",
       "      <th>order_date</th>\n",
       "      <th>shipping_date</th>\n",
       "      <th>delivery_date</th>\n",
       "      <th>customer_no</th>\n",
       "      <th>product_code</th>\n",
       "      <th>description</th>\n",
       "      <th>order_quantity</th>\n",
       "      <th>unit_price</th>\n",
       "      <th>discount_%</th>\n",
       "    </tr>\n",
       "  </thead>\n",
       "  <tbody>\n",
       "    <tr>\n",
       "      <th>0</th>\n",
       "      <td>200000</td>\n",
       "      <td>ST</td>\n",
       "      <td>8500</td>\n",
       "      <td>1</td>\n",
       "      <td>121145</td>\n",
       "      <td>121147</td>\n",
       "      <td>121149</td>\n",
       "      <td>49529335</td>\n",
       "      <td>830-6901</td>\n",
       "      <td>CLEOCIN</td>\n",
       "      <td>14</td>\n",
       "      <td>14.7793</td>\n",
       "      <td>0.0</td>\n",
       "    </tr>\n",
       "    <tr>\n",
       "      <th>1</th>\n",
       "      <td>200000</td>\n",
       "      <td>ST</td>\n",
       "      <td>8500</td>\n",
       "      <td>2</td>\n",
       "      <td>121145</td>\n",
       "      <td>121147</td>\n",
       "      <td>121149</td>\n",
       "      <td>49529335</td>\n",
       "      <td>CZE-11987</td>\n",
       "      <td>CLEOCIN PHOSPHATE</td>\n",
       "      <td>18</td>\n",
       "      <td>1.9874</td>\n",
       "      <td>0.2</td>\n",
       "    </tr>\n",
       "  </tbody>\n",
       "</table>\n",
       "</div>"
      ],
      "text/plain": [
       "   order_no order_type company  order_line  order_date  shipping_date  \\\n",
       "0    200000         ST    8500           1      121145         121147   \n",
       "1    200000         ST    8500           2      121145         121147   \n",
       "\n",
       "   delivery_date        customer_no          product_code         description  \\\n",
       "0         121149      49529335              830-6901                 CLEOCIN    \n",
       "1         121149      49529335             CZE-11987       CLEOCIN PHOSPHATE    \n",
       "\n",
       "   order_quantity  unit_price  discount_%  \n",
       "0              14     14.7793         0.0  \n",
       "1              18      1.9874         0.2  "
      ]
     },
     "execution_count": 25,
     "metadata": {},
     "output_type": "execute_result"
    }
   ],
   "source": [
    "head(orders_tofix, 2)"
   ]
  },
  {
   "cell_type": "markdown",
   "metadata": {},
   "source": [
    "Split orders into 'chunks' - a list of dataframes"
   ]
  },
  {
   "cell_type": "code",
   "execution_count": 26,
   "metadata": {
    "ExecuteTime": {
     "end_time": "2021-03-09T20:32:25.309251Z",
     "start_time": "2021-03-09T20:32:25.268758Z"
    }
   },
   "outputs": [
    {
     "name": "stderr",
     "output_type": "stream",
     "text": [
      "outputs/csv/orders_00.csv, (1000, 13)\n",
      "outputs/csv/orders_01.csv, (1000, 13)\n",
      "outputs/csv/orders_02.csv, (1000, 13)\n",
      "outputs/csv/orders_03.csv, (982, 13)\n"
     ]
    }
   ],
   "source": [
    "chunk_size=1000\n",
    "chunks = split_dataframe(orders_tofix.sort_index(), chunk_size=chunk_size)\n",
    "\n",
    "for idx, df in enumerate(chunks):\n",
    "    f = f'outputs/csv/orders_{str(idx).zfill(2)}.csv'\n",
    "    \n",
    "    df.to_csv(f, index=False, sep='\\t', chunksize=chunk_size)\n",
    "    logger.info(f'{f}, {df.shape}')"
   ]
  },
  {
   "cell_type": "markdown",
   "metadata": {},
   "source": [
    "# Import"
   ]
  },
  {
   "cell_type": "markdown",
   "metadata": {},
   "source": [
    "## Consolidate multiple CSV's to ONE dataframe"
   ]
  },
  {
   "cell_type": "code",
   "execution_count": 27,
   "metadata": {
    "ExecuteTime": {
     "end_time": "2021-03-09T20:32:25.386149Z",
     "start_time": "2021-03-09T20:32:25.310749Z"
    }
   },
   "outputs": [
    {
     "name": "stderr",
     "output_type": "stream",
     "text": [
      "3982 rows, 13 columns\n",
      "3982 rows, 13 columns\n"
     ]
    },
    {
     "data": {
      "text/html": [
       "<div>\n",
       "<style scoped>\n",
       "    .dataframe tbody tr th:only-of-type {\n",
       "        vertical-align: middle;\n",
       "    }\n",
       "\n",
       "    .dataframe tbody tr th {\n",
       "        vertical-align: top;\n",
       "    }\n",
       "\n",
       "    .dataframe thead th {\n",
       "        text-align: right;\n",
       "    }\n",
       "</style>\n",
       "<table border=\"1\" class=\"dataframe\">\n",
       "  <thead>\n",
       "    <tr style=\"text-align: right;\">\n",
       "      <th></th>\n",
       "      <th>order_no</th>\n",
       "      <th>order_type</th>\n",
       "      <th>company</th>\n",
       "      <th>order_line</th>\n",
       "      <th>order_date</th>\n",
       "      <th>shipping_date</th>\n",
       "      <th>delivery_date</th>\n",
       "      <th>customer_no</th>\n",
       "      <th>product_code</th>\n",
       "      <th>description</th>\n",
       "      <th>order_quantity</th>\n",
       "      <th>unit_price</th>\n",
       "      <th>discount_%</th>\n",
       "    </tr>\n",
       "  </thead>\n",
       "  <tbody>\n",
       "    <tr>\n",
       "      <th>0</th>\n",
       "      <td>200654</td>\n",
       "      <td>SO</td>\n",
       "      <td>8500</td>\n",
       "      <td>3</td>\n",
       "      <td>121293</td>\n",
       "      <td>121296</td>\n",
       "      <td>121298</td>\n",
       "      <td>49529480</td>\n",
       "      <td>XLU-11682</td>\n",
       "      <td>ALFAMINO JUNIOR</td>\n",
       "      <td>15</td>\n",
       "      <td>15.6340</td>\n",
       "      <td>0.6</td>\n",
       "    </tr>\n",
       "    <tr>\n",
       "      <th>1</th>\n",
       "      <td>200816</td>\n",
       "      <td>SK</td>\n",
       "      <td>8500</td>\n",
       "      <td>1</td>\n",
       "      <td>121018</td>\n",
       "      <td>121020</td>\n",
       "      <td>121021</td>\n",
       "      <td>49529480</td>\n",
       "      <td>QY4-456</td>\n",
       "      <td>VERZENIO</td>\n",
       "      <td>35</td>\n",
       "      <td>9.4695</td>\n",
       "      <td>0.0</td>\n",
       "    </tr>\n",
       "  </tbody>\n",
       "</table>\n",
       "</div>"
      ],
      "text/plain": [
       "   order_no order_type  company  order_line  order_date  shipping_date  \\\n",
       "0    200654         SO     8500           3      121293         121296   \n",
       "1    200816         SK     8500           1      121018         121020   \n",
       "\n",
       "   delivery_date  customer_no product_code      description  order_quantity  \\\n",
       "0         121298     49529480    XLU-11682  ALFAMINO JUNIOR              15   \n",
       "1         121021     49529480      QY4-456         VERZENIO              35   \n",
       "\n",
       "   unit_price  discount_%  \n",
       "0     15.6340         0.6  \n",
       "1      9.4695         0.0  "
      ]
     },
     "execution_count": 27,
     "metadata": {},
     "output_type": "execute_result"
    }
   ],
   "source": [
    "dx = read_csvs('outputs/csv', sep='\\t')\n",
    "head(dx, 2)"
   ]
  },
  {
   "cell_type": "markdown",
   "metadata": {},
   "source": [
    "## Read xl - data in multiple sheets -> read_excel_sheets"
   ]
  },
  {
   "cell_type": "code",
   "execution_count": 28,
   "metadata": {
    "ExecuteTime": {
     "end_time": "2021-03-09T20:32:28.210021Z",
     "start_time": "2021-03-09T20:32:25.388035Z"
    }
   },
   "outputs": [],
   "source": [
    "xl_file = f'outputs/{year} sales orders by town.xlsx'\n",
    "dx = read_excel_sheets(xl_file, include_sheet=True)\n",
    "dx = dx.reset_index()"
   ]
  },
  {
   "cell_type": "code",
   "execution_count": 29,
   "metadata": {
    "ExecuteTime": {
     "end_time": "2021-03-09T20:32:28.243165Z",
     "start_time": "2021-03-09T20:32:28.211675Z"
    }
   },
   "outputs": [
    {
     "name": "stderr",
     "output_type": "stream",
     "text": [
      "3982 rows, 26 columns\n"
     ]
    },
    {
     "data": {
      "text/html": [
       "<div>\n",
       "<style scoped>\n",
       "    .dataframe tbody tr th:only-of-type {\n",
       "        vertical-align: middle;\n",
       "    }\n",
       "\n",
       "    .dataframe tbody tr th {\n",
       "        vertical-align: top;\n",
       "    }\n",
       "\n",
       "    .dataframe thead th {\n",
       "        text-align: right;\n",
       "    }\n",
       "</style>\n",
       "<table border=\"1\" class=\"dataframe\">\n",
       "  <thead>\n",
       "    <tr style=\"text-align: right;\">\n",
       "      <th></th>\n",
       "      <th>index</th>\n",
       "      <th>order_no</th>\n",
       "      <th>order_type</th>\n",
       "      <th>company</th>\n",
       "      <th>order_line</th>\n",
       "      <th>order_date</th>\n",
       "      <th>shipping_date</th>\n",
       "      <th>delivery_date</th>\n",
       "      <th>customer_no</th>\n",
       "      <th>product_code</th>\n",
       "      <th>description</th>\n",
       "      <th>order_quantity</th>\n",
       "      <th>unit_price</th>\n",
       "      <th>discount_%</th>\n",
       "      <th>salutation</th>\n",
       "      <th>first_name</th>\n",
       "      <th>type</th>\n",
       "      <th>initial</th>\n",
       "      <th>surname</th>\n",
       "      <th>email</th>\n",
       "      <th>dob</th>\n",
       "      <th>status</th>\n",
       "      <th>street</th>\n",
       "      <th>area</th>\n",
       "      <th>pcode</th>\n",
       "      <th>sheet_name</th>\n",
       "    </tr>\n",
       "  </thead>\n",
       "  <tbody>\n",
       "    <tr>\n",
       "      <th>3980</th>\n",
       "      <td>46</td>\n",
       "      <td>201982</td>\n",
       "      <td>SO</td>\n",
       "      <td>8500</td>\n",
       "      <td>2</td>\n",
       "      <td>2021-03-06</td>\n",
       "      <td>2021-03-07</td>\n",
       "      <td>2021-03-08</td>\n",
       "      <td>49529422</td>\n",
       "      <td>6A1-15235</td>\n",
       "      <td>ESTRACE CREAM</td>\n",
       "      <td>30</td>\n",
       "      <td>5.8846</td>\n",
       "      <td>0.0</td>\n",
       "      <td>Ms</td>\n",
       "      <td>Lucille</td>\n",
       "      <td>Hospital patient</td>\n",
       "      <td></td>\n",
       "      <td>Prince</td>\n",
       "      <td>lucilleprince@icloud.com</td>\n",
       "      <td>1996-07-29</td>\n",
       "      <td>1</td>\n",
       "      <td>34 Birdcage Terrace</td>\n",
       "      <td>York</td>\n",
       "      <td>YO7 1GZ</td>\n",
       "      <td>York</td>\n",
       "    </tr>\n",
       "    <tr>\n",
       "      <th>3981</th>\n",
       "      <td>47</td>\n",
       "      <td>201982</td>\n",
       "      <td>SO</td>\n",
       "      <td>8500</td>\n",
       "      <td>3</td>\n",
       "      <td>2021-03-06</td>\n",
       "      <td>2021-03-07</td>\n",
       "      <td>2021-03-08</td>\n",
       "      <td>49529422</td>\n",
       "      <td>RSX-3603</td>\n",
       "      <td>ALIQOPA</td>\n",
       "      <td>22</td>\n",
       "      <td>19.1697</td>\n",
       "      <td>0.6</td>\n",
       "      <td>Ms</td>\n",
       "      <td>Lucille</td>\n",
       "      <td>Hospital patient</td>\n",
       "      <td></td>\n",
       "      <td>Prince</td>\n",
       "      <td>lucilleprince@icloud.com</td>\n",
       "      <td>1996-07-29</td>\n",
       "      <td>1</td>\n",
       "      <td>34 Birdcage Terrace</td>\n",
       "      <td>York</td>\n",
       "      <td>YO7 1GZ</td>\n",
       "      <td>York</td>\n",
       "    </tr>\n",
       "  </tbody>\n",
       "</table>\n",
       "</div>"
      ],
      "text/plain": [
       "      index  order_no order_type  company  order_line order_date  \\\n",
       "3980     46    201982         SO     8500           2 2021-03-06   \n",
       "3981     47    201982         SO     8500           3 2021-03-06   \n",
       "\n",
       "     shipping_date delivery_date  customer_no product_code     description  \\\n",
       "3980    2021-03-07    2021-03-08     49529422    6A1-15235  ESTRACE CREAM    \n",
       "3981    2021-03-07    2021-03-08     49529422     RSX-3603        ALIQOPA    \n",
       "\n",
       "      order_quantity  unit_price  discount_% salutation first_name  \\\n",
       "3980              30      5.8846         0.0         Ms    Lucille   \n",
       "3981              22     19.1697         0.6         Ms    Lucille   \n",
       "\n",
       "                  type initial surname                     email        dob  \\\n",
       "3980  Hospital patient          Prince  lucilleprince@icloud.com 1996-07-29   \n",
       "3981  Hospital patient          Prince  lucilleprince@icloud.com 1996-07-29   \n",
       "\n",
       "      status               street  area    pcode sheet_name  \n",
       "3980       1  34 Birdcage Terrace  York  YO7 1GZ       York  \n",
       "3981       1  34 Birdcage Terrace  York  YO7 1GZ       York  "
      ]
     },
     "execution_count": 29,
     "metadata": {},
     "output_type": "execute_result"
    }
   ],
   "source": [
    "tail(dx, 2)"
   ]
  },
  {
   "cell_type": "markdown",
   "metadata": {},
   "source": [
    "### Combine multi-sheet town data into ONE xl file"
   ]
  },
  {
   "cell_type": "code",
   "execution_count": 30,
   "metadata": {
    "ExecuteTime": {
     "end_time": "2021-03-09T20:32:30.264382Z",
     "start_time": "2021-03-09T20:32:28.245597Z"
    }
   },
   "outputs": [
    {
     "data": {
      "text/html": [
       "<a href=\"outputs/2021 sales orders combined town data.xlsx\">outputs/2021 sales orders combined town data.xlsx</a>"
      ],
      "text/plain": [
       "<IPython.core.display.HTML object>"
      ]
     },
     "metadata": {},
     "output_type": "display_data"
    },
    {
     "name": "stderr",
     "output_type": "stream",
     "text": [
      "Workbook: outputs/2021 sales orders combined town data.xlsx\n",
      "<< sheet mode >>\n",
      "Sheet (range): sheet1 ($A$1:$Z$3983)\n",
      "Completed.\n"
     ]
    }
   ],
   "source": [
    "wb = WorkBook(f'outputs/{year} sales orders combined town data', ts_prefix=False)\n",
    "ws = wb.add_sheet(dx)   \n",
    "wb.close()"
   ]
  },
  {
   "cell_type": "code",
   "execution_count": null,
   "metadata": {},
   "outputs": [],
   "source": []
  },
  {
   "cell_type": "code",
   "execution_count": null,
   "metadata": {},
   "outputs": [],
   "source": []
  }
 ],
 "metadata": {
  "kernelspec": {
   "display_name": "Python 3",
   "language": "python",
   "name": "python3"
  },
  "language_info": {
   "codemirror_mode": {
    "name": "ipython",
    "version": 3
   },
   "file_extension": ".py",
   "mimetype": "text/x-python",
   "name": "python",
   "nbconvert_exporter": "python",
   "pygments_lexer": "ipython3",
   "version": "3.8.5"
  },
  "toc": {
   "base_numbering": 1,
   "nav_menu": {
    "height": "412px",
    "width": "340px"
   },
   "number_sections": true,
   "sideBar": true,
   "skip_h1_title": false,
   "title_cell": "Table of Contents",
   "title_sidebar": "Contents",
   "toc_cell": false,
   "toc_position": {
    "height": "calc(100% - 180px)",
    "left": "10px",
    "top": "150px",
    "width": "462.633px"
   },
   "toc_section_display": true,
   "toc_window_display": false
  }
 },
 "nbformat": 4,
 "nbformat_minor": 4
}
